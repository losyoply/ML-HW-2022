{
  "cells": [
    {
      "cell_type": "markdown",
      "metadata": {
        "id": "IagZMs0_qjdL"
      },
      "source": [
        "# 1. Introduction\n",
        "\n",
        "Welcome to your fourth assignment. In this assignment, you will build a convolutional neural network step by step. In this notebook, you will implement all the functions required to build a convolutional neural network.\n",
        "\n",
        "After finishing this assignment, you will have a deeper understanding of the process of training a convolutional neural network, which mainly consists of two parts: convolution layer and pooling layer."
      ]
    },
    {
      "cell_type": "markdown",
      "metadata": {
        "id": "yGFR00CQvoaH"
      },
      "source": [
        "# 2. Packages\n",
        "All the packages that you need to finish basic part of this assignment are listed below.\n",
        "*   numpy : The fundamental package for scientific computing with Python.\n",
        "*   matplotlib : A comprehensive library for creating static, animated, and interactive visualizations in Python.\n",
        "*   math : Python has a built-in module that you can use for mathematical tasks.\n",
        "*   pandas.read_csv : Provides functionality for reading a csv dataset from a GitHub repository.\n",
        "* sklearn.model_selection.train_test_split: A function helps you split train and test data.\n",
        "* os: A module provides the facility to establish the interaction between the user and the operating system. You can access the image directory by os.\n",
        "* cv2.imread: It is the module import name for opencv-python.\n",
        "* time: Provides various time-related functions.\n",
        "* google.colab.drive: Let you connect colab and your googol drive.\n",
        "* sys: Let you access system-specific parameters and functions.\n",
        "\n",
        "⚠️ **WARNING** ⚠️: \n",
        "*   Please do not import any other packages in basic part.\n",
        "*   np.random.seed(seed) is used to keep all the random function calls consistent. It will help us grade your work. Please don't change the seed.\n",
        "\n",
        "❗ **Important** ❗: Please do not change the code outside this code bracket.\n",
        "```\n",
        "### START CODE HERE ### (≈ n lines)\n",
        "...\n",
        "### END CODE HERE ###\n",
        "```\n",
        "\n"
      ]
    },
    {
      "cell_type": "code",
      "execution_count": 2,
      "metadata": {
        "id": "YcLLrIEc-4h6",
        "colab": {
          "base_uri": "https://localhost:8080/"
        },
        "outputId": "cc4c1d1a-25e1-4fbc-b125-78f8020dddd9"
      },
      "outputs": [
        {
          "output_type": "stream",
          "name": "stdout",
          "text": [
            "Mounted at /content/drive\n"
          ]
        }
      ],
      "source": [
        "from google.colab import drive\n",
        "drive.mount('/content/drive')"
      ]
    },
    {
      "cell_type": "code",
      "execution_count": 3,
      "metadata": {
        "id": "_go37iU6-4k8"
      },
      "outputs": [],
      "source": [
        "import sys\n",
        "sys.path.append(\"/content/drive/....\") ## the path of the directory where you place dense.py, activation.py ...."
      ]
    },
    {
      "cell_type": "code",
      "execution_count": 4,
      "metadata": {
        "id": "fmTH9UkeqdYf"
      },
      "outputs": [],
      "source": [
        "import os\n",
        "import math\n",
        "import time \n",
        "import numpy as np\n",
        "from cv2 import imread, IMREAD_GRAYSCALE # IMREAD_GRAYSCALE allow you to load the image as gray scale image\n",
        "from pandas import read_csv\n",
        "import matplotlib.pyplot as plt\n",
        "\n",
        "###### import your HW3 code (Don't change this part) ######\n",
        "from Dense import Dense\n",
        "from Activation import Activation\n",
        "from Loss import compute_BCE_cost\n",
        "from Predict import predict\n",
        "##################################\n",
        "\n",
        "output = {}\n",
        "seed = 1\n",
        "np.random.seed(seed)"
      ]
    },
    {
      "cell_type": "markdown",
      "metadata": {
        "id": "VMe4BNRPRQvF"
      },
      "source": [
        "\n",
        "\n",
        "# 3. Convolution layer\n",
        "\n",
        "In this section, you will need to implement a very important part of the convolutional neural network, which is the convolution layer. Convolution layer enables us to capture the important features of input images.\n",
        "\n",
        "You will have to implement two helper functions and the forward pass of the convolution layer. All you need to do is to follow the instructions and understand how each part works."
      ]
    },
    {
      "cell_type": "code",
      "execution_count": 5,
      "metadata": {
        "id": "ADlgENHVRQvG"
      },
      "outputs": [],
      "source": [
        "def zero_pad(X, pad):\n",
        "    \"\"\"\n",
        "    Pad with zeros all images of the dataset X. The padding is applied to the height and width of an image.\n",
        "    \n",
        "    Argument:\n",
        "    X -- python numpy array of shape (m, n_H, n_W, n_C), where m represent the number of examples.\n",
        "    pad -- integer, amount of padding around each image on vertical and horizontal dimensions\n",
        "    \n",
        "    Returns:\n",
        "    X_pad -- padded image of shape (m, n_H + 2*pad, n_W + 2*pad, n_C)\n",
        "    \"\"\"\n",
        "    \n",
        "    # GRADED FUNCTION: zero_padding\n",
        "    ### START CODE HERE ### (≈ 1 line)\n",
        "    X_pad = np.pad(X, ((0, 0), (pad, pad), (pad, pad), (0, 0)), 'constant', constant_values=(0, 0))\n",
        "    ### END CODE HERE ###\n",
        "    \n",
        "    return X_pad"
      ]
    },
    {
      "cell_type": "code",
      "execution_count": 6,
      "metadata": {
        "id": "nNerbFLTRQvG"
      },
      "outputs": [],
      "source": [
        "class Conv():\n",
        "    def __init__(self, filter_size=2, input_channel=3, output_channel=8, pad=1, stride=1, seed=1):\n",
        "        \n",
        "        self.filter_size= filter_size\n",
        "        self.input_channel=input_channel\n",
        "        self.output_channel=output_channel\n",
        "        self.seed = seed\n",
        "        \n",
        "        self.parameters = {\"pad\": pad, \"stride\": stride}\n",
        "        self.initialize_parameters()\n",
        "        \n",
        "        \n",
        "        self.name=\"conv\"\n",
        "\n",
        "    def initialize_parameters(self):\n",
        "        \"\"\"\n",
        "        Argument:\n",
        "        self.filter_size -- size of the filter\n",
        "        self.input_channel -- size of the input channel\n",
        "        self.output_channel -- size of the output channel\n",
        "        self.parameters -- python dictionary containing your parameters:\n",
        "                           W -- weight matrix of shape (filter_size, filter_size, input channel size, output channel size)\n",
        "                           b -- bias vector of shape (1, 1, 1, output channel size)\n",
        "                           pad -- amount of padding around each image on vertical and horizontal dimensions\n",
        "                           stride -- represent the amount of movement that a filter move in one step\n",
        "        \"\"\"\n",
        "        np.random.seed(seed)\n",
        "\n",
        "        # GRADED FUNCTION: conv_initialization\n",
        "        ### START CODE HERE ### (≈ 8 lines)\n",
        "        W=np.random.random((self.filter_size,self.filter_size,self.input_channel,self.output_channel))*2*np.sqrt(6 / (self.input_channel + self.output_channel))-np.sqrt(6 / (self.input_channel + self.output_channel)) \n",
        "        \n",
        "        b=np.full((1,1,1,self.output_channel),0.0)\n",
        "\n",
        "        ### END CODE HERE ###\n",
        "\n",
        "        assert(W.shape == (self.filter_size,self.filter_size,self.input_channel,self.output_channel))\n",
        "        assert(b.shape == (1,1,1,self.output_channel))\n",
        "\n",
        "        self.parameters['W'] = W\n",
        "        self.parameters['b'] = b\n",
        "        \n",
        "    \n",
        "    \n",
        "    def conv_single_step(self, a_slice_prev, W, b):\n",
        "        \"\"\"\n",
        "        Apply a filter W on a_slice_prev.\n",
        "\n",
        "        Arguments:\n",
        "        a_slice_prev -- slice of input data of shape (filter_size, filter_size, n_C_prev)\n",
        "        W -- Weight parameters contained in a window - matrix of shape (filter_size, filter_size, n_C_prev)\n",
        "        b -- Bias parameters contained in a window - matrix of shape (1, 1, 1)\n",
        "\n",
        "        Returns:\n",
        "        Z -- a scalar value, result of convolving the sliding window (W, b) on a slice x of the input data\n",
        "        \"\"\"\n",
        "\n",
        "        # GRADED FUNCTION: conv_single_step\n",
        "        ### START CODE HERE ### (≈ 3 lines)\n",
        "        # Element-wise product between a_slice and W.\n",
        "        s = np.multiply(a_slice_prev, W)\n",
        "        # Sum over all entries of the volume s.\n",
        "        Z = np.sum(s)\n",
        "        # Add bias b to Z. Cast b to a float() so that Z results in a scalar value.\n",
        "        Z = Z + float(b)\n",
        "        ### END CODE HERE ###\n",
        "\n",
        "        return Z\n",
        "    \n",
        "    def forward(self, A_prev):\n",
        "        \"\"\"\n",
        "        Implements the forward propagation for a convolution layer\n",
        "\n",
        "        Arguments:\n",
        "        A_prev -- output activations of the previous layer, numpy array of shape (m, n_H_prev, n_W_prev, n_C_prev)\n",
        "\n",
        "        Returns:\n",
        "        Z -- conv output, numpy array of shape (m, n_H, n_W, n_C)\n",
        "        \"\"\"\n",
        "\n",
        "        # GRADED FUNCTION: conv_forward\n",
        "        ### START CODE HERE ###\n",
        "        # Retrieve dimensions from A_prev's shape (≈1 line)  \n",
        "        (m, n_H_prev, n_W_prev, n_C_prev) = A_prev.shape\n",
        "\n",
        "        # Retrieve dimensions from W's shape (≈1 line)\n",
        "        (f, f, n_C_prev, n_C) = self.parameters['W'].shape\n",
        "\n",
        "\n",
        "        # Compute the dimensions of the convolution output volume using the formula given below.(≈2 lines)\n",
        "        n_H = int((n_H_prev - f + (2 * self.parameters['pad'])) / self.parameters['stride'] + 1)\n",
        "        n_W = int((n_W_prev - f + (2 * self.parameters['pad'])) / self.parameters['stride'] + 1)\n",
        "\n",
        "        # Initialize the output volume Z with zeros. (≈1 line)\n",
        "        Z = np.zeros((m, n_H, n_W, n_C))\n",
        "\n",
        "        # if pad!=0, create A_prev_pad by padding A_prev with the parameter \"pad\". (≈1 line)\n",
        "        A_prev_pad = zero_pad(A_prev, self.parameters['pad'])\n",
        "\n",
        "        for i in range(m):                               # loop over the batch of training examples\n",
        "            a_prev_pad = A_prev_pad[i,:,:,:]               # Select ith training example's padded activation\n",
        "            for h in range(n_H):                           # loop over vertical axis of the output volume\n",
        "                for w in range(n_W):                       # loop over horizontal axis of the output volume\n",
        "                    for c in range(n_C):                   # loop over channels (= #filter) of the output volume\n",
        "\n",
        "                        # Find the corners of the current \"slice\" (≈4 lines)\n",
        "                        vert_start = self.parameters['stride'] * h\n",
        "                        vert_end = self.parameters['stride'] * h + f\n",
        "                        horiz_start = self.parameters['stride'] * w\n",
        "                        horiz_end = self.parameters['stride'] * w + f\n",
        "\n",
        "\n",
        "                        # Use the corners to define the slice of a_prev_pad. (≈1 line)\n",
        "                        a_slice_prev = a_prev_pad[vert_start:vert_end,horiz_start:horiz_end, :]\n",
        "\n",
        "                        # Convolve the (3D) slice with the correct filter W and bias b, to get back one output neuron. (≈1 line)\n",
        "                        Z[i, h, w, c] = self.conv_single_step(a_slice_prev, self.parameters['W'][:, :, :, c], self.parameters['b'][:, :, :, c])\n",
        "\n",
        "        ### END CODE HERE ###\n",
        "\n",
        "        # Making sure your output shape is correct\n",
        "        assert(Z.shape == (m, n_H, n_W, n_C))\n",
        "\n",
        "        # Save information in \"cache\" for the backward pass\n",
        "        self.cache = A_prev\n",
        "\n",
        "        return Z\n",
        "    \n",
        "    def backward(self, dZ):\n",
        "        \"\"\"\n",
        "        Implement the backward propagation for a convolution layer\n",
        "\n",
        "        Arguments:\n",
        "        dZ -- gradient of the cost with respect to the output of the conv layer (Z), numpy array of shape (m, n_H, n_W, n_C)\n",
        "\n",
        "        Returns:\n",
        "        dA_prev -- gradient of the cost with respect to the input of the conv layer (A_prev),\n",
        "                   numpy array of shape (m, n_H_prev, n_W_prev, n_C_prev)\n",
        "        \"\"\"\n",
        "\n",
        "\n",
        "        A_prev = self.cache\n",
        "\n",
        "        # Retrieve dimensions from A_prev's shape\n",
        "        (m, n_H_prev, n_W_prev, n_C_prev) = A_prev.shape\n",
        "\n",
        "        # Retrieve dimensions from W's shape\n",
        "        (f, f, n_C_prev, n_C) = self.parameters[\"W\"].shape\n",
        "\n",
        "\n",
        "        # Retrieve dimensions from dZ's shape\n",
        "        (m, n_H, n_W, n_C) = dZ.shape\n",
        "\n",
        "        # Initialize dA_prev, dW, db with the correct shapes\n",
        "        dA_prev = np.zeros((m, n_H_prev, n_W_prev, n_C_prev))                           \n",
        "        dW = np.zeros((f, f, n_C_prev, n_C))\n",
        "        db = np.zeros((1, 1, 1, n_C))\n",
        "\n",
        "        # Pad A_prev and dA_prev\n",
        "        A_prev_pad = zero_pad(A_prev, self.parameters[\"pad\"])\n",
        "        dA_prev_pad = zero_pad(dA_prev, self.parameters[\"pad\"])\n",
        "\n",
        "        for i in range(m):                       # loop over the training examples\n",
        "\n",
        "            # select ith training example from A_prev_pad and dA_prev_pad\n",
        "            a_prev_pad = A_prev_pad[i]\n",
        "            da_prev_pad = dA_prev_pad[i]\n",
        "\n",
        "            for h in range(n_H):                   # loop over vertical axis of the output volume\n",
        "                for w in range(n_W):               # loop over horizontal axis of the output volume\n",
        "                    for c in range(n_C):           # loop over the channels of the output volume\n",
        "\n",
        "                        # Find the corners of the current \"slice\"\n",
        "                        vert_start = h * self.parameters[\"stride\"]\n",
        "                        vert_end = vert_start + f\n",
        "                        horiz_start = w * self.parameters[\"stride\"]\n",
        "                        horiz_end = horiz_start + f\n",
        "\n",
        "                        # Use the corners to define the slice from a_prev_pad\n",
        "                        a_slice = a_prev_pad[vert_start:vert_end, horiz_start:horiz_end, :]\n",
        "\n",
        "                        # Update gradients for the window and the filter's parameters\n",
        "                        da_prev_pad[vert_start:vert_end, horiz_start:horiz_end, :] += self.parameters[\"W\"][:,:,:,c] * dZ[i, h, w, c]\n",
        "                        dW[:,:,:,c] += a_slice * dZ[i, h, w, c]\n",
        "                        db[:,:,:,c] += dZ[i, h, w, c]\n",
        "\n",
        "            # Set the ith training example's dA_prev to the unpaded da_prev_pad\n",
        "            dA_prev[i, :, :, :] = da_prev_pad[self.parameters[\"pad\"]:da_prev_pad.shape[0]-self.parameters[\"pad\"], \n",
        "                                              self.parameters[\"pad\"]:da_prev_pad.shape[1]-self.parameters[\"pad\"], :]\n",
        "\n",
        "        assert(dA_prev.shape == (m, n_H_prev, n_W_prev, n_C_prev))\n",
        "\n",
        "        self.dW = dW\n",
        "        self.db = db\n",
        "\n",
        "        return dA_prev\n",
        "    \n",
        "    def update(self, learning_rate):\n",
        "        \"\"\"\n",
        "        Update parameters using gradient descent\n",
        "        \n",
        "        Arguments:\n",
        "        learning rate -- step size\n",
        "        \"\"\"\n",
        "\n",
        "        # GRADED FUNCTION: conv_update\n",
        "        ### START CODE HERE ### (≈ 2 lines of code)\n",
        "        self.parameters[\"W\"] = self.parameters[\"W\"]-learning_rate*self.dW\n",
        "        self.parameters[\"b\"] = self.parameters[\"b\"]-learning_rate*self.db\n",
        "        ### END CODE HERE ###"
      ]
    },
    {
      "cell_type": "markdown",
      "metadata": {
        "id": "3Q_4VjV5W_gL"
      },
      "source": [
        "##3.1 initialization\n",
        "Using Glorot uniform initialization to initialize the convolution layer's filters with the parameters: filter_size, input_channel, and output_channel.\n",
        "\n",
        "*   Use random initialization (uniform distribution) for the weight matrices. Draws samples from a uniform distribution within [-limit, limit], where limit = sqrt(6 / (fan_in + fan_out)), fan_in is the **number of input channel** and fan_out is the **number of output channel**. However, in the usual implementation, we will consider fan_in and fan_out as the number of input units and the number of output units.\n",
        "*   Use zero initialization for the biases.\n",
        "\n",
        "Exercise: Create and initialize parameters of a convolution layer using Glorot uniform initialization. (1%)\n",
        "\n",
        "It will take following parameters to initialize the convolution layer:\n",
        "*   filter_size: The filter will be in the shape of (filter_size*filter_size)\n",
        "*   input_channel: size of the input channel\n",
        "*   output_channel: size of the output channel\n",
        "*   pad: amount of padding around each image on vertical and horizontal dimensions\n",
        "*   stride: represent the amount of movement that a filter move in one step"
      ]
    },
    {
      "cell_type": "code",
      "execution_count": 7,
      "metadata": {
        "id": "McQisK1WW-4t",
        "colab": {
          "base_uri": "https://localhost:8080/"
        },
        "outputId": "6e355a89-a6b9-451d-bed0-efb9c85da36e"
      },
      "outputs": [
        {
          "output_type": "stream",
          "name": "stdout",
          "text": [
            "W[0][0][0] =  [-0.12256662  0.32544084 -0.73838    -0.29197414 -0.52177613 -0.6021558\n",
            " -0.46342438 -0.22812192]\n",
            "b =  [[[[0. 0. 0. 0. 0. 0. 0. 0.]]]]\n"
          ]
        }
      ],
      "source": [
        "np.random.seed(seed)\n",
        "conv = Conv(filter_size=2, input_channel=3, output_channel=8, pad=2, stride=2)\n",
        "print(\"W[0][0][0] = \",  conv.parameters[\"W\"][0][0][0])\n",
        "print(\"b = \", conv.parameters[\"b\"])\n",
        "\n",
        "np.random.seed(seed)\n",
        "conv = Conv(filter_size=2, input_channel=3, output_channel=16, pad=2, stride=2)\n",
        "output[\"conv_initialization\"] = conv.parameters[\"W\"][0][0][0]"
      ]
    },
    {
      "cell_type": "markdown",
      "metadata": {
        "id": "t50bsMBRTrP6"
      },
      "source": [
        "Expected output: \n",
        "<table>\n",
        "  <tr>\n",
        "    <td>W[0][0][0]: </td>\n",
        "    <td>[-0.12256662  0.32544084 -0.73838    -0.29197414 -0.52177613 -0.6021558 -0.46342438 -0.22812192]</td>\n",
        "  </tr>\n",
        "  <tr>\n",
        "    <td>b: </td>\n",
        "    <td>[[[[0. 0. 0. 0. 0. 0. 0. 0.]]]]</td>\n",
        "  </tr>\n",
        "</table>"
      ]
    },
    {
      "cell_type": "markdown",
      "metadata": {
        "id": "OAHuFnmDIhgY"
      },
      "source": [
        "## 3.2  Zero-Padding\n",
        "\n",
        "Pad around each image on vertical and horizontal dimensions with zero.\n",
        "\n",
        "1. It allows you to use a convolution layer without necessarily shrinking the height and width of the volumes. This is important for building deeper networks since otherwise the height/width would shrink as you go to deeper layers. \n",
        "2. It helps us keep more of the information at the border of an image. Without padding, very few values at the next layer would be affected by pixels as the edges of an image.\n",
        "\n",
        "**Exercise**: Implement the zero_pad() function to pad the input X with the given parameter \"pad\". (3%)\n",
        "\n",
        "This function takes the following inputs:\n",
        "*   X: input.\n",
        "*   pad: amount of padding around each image on vertical and horizontal dimensions."
      ]
    },
    {
      "cell_type": "code",
      "execution_count": 8,
      "metadata": {
        "id": "h9xGiJH5IgyJ",
        "colab": {
          "base_uri": "https://localhost:8080/",
          "height": 0
        },
        "outputId": "2450a4cf-a2e0-4063-c7ae-336f4799eec2"
      },
      "outputs": [
        {
          "output_type": "stream",
          "name": "stdout",
          "text": [
            "x.shape =\n",
            " (4, 3, 3, 2)\n",
            "x_pad.shape =\n",
            " (4, 7, 7, 2)\n",
            "x[0,2,:,0] =\n",
            " [-0.3224172   1.13376944 -0.17242821]\n",
            "x_pad[0,2,:,0] =\n",
            " [ 0.          0.          1.62434536 -0.52817175  0.86540763  0.\n",
            "  0.        ]\n"
          ]
        },
        {
          "output_type": "display_data",
          "data": {
            "text/plain": [
              "<Figure size 432x288 with 2 Axes>"
            ],
            "image/png": "[encoded data removed]"
          },
          "metadata": {
            "needs_background": "light"
          }
        }
      ],
      "source": [
        "np.random.seed(seed)\n",
        "x = np.random.randn(4, 3, 3, 2)\n",
        "x_pad = zero_pad(x, 2)\n",
        "print (\"x.shape =\\n\", x.shape)\n",
        "print (\"x_pad.shape =\\n\", x_pad.shape)\n",
        "print (\"x[0,2,:,0] =\\n\", x[0,2,:,0])\n",
        "print (\"x_pad[0,2,:,0] =\\n\", x_pad[0,2,:,0])\n",
        "\n",
        "fig, axarr = plt.subplots(1, 2)\n",
        "axarr[0].set_title('x')\n",
        "axarr[0].imshow(x[0,:,:,0])\n",
        "axarr[1].set_title('x_pad')\n",
        "axarr[1].imshow(x_pad[0,:,:,0])\n",
        "\n",
        "np.random.seed(seed)\n",
        "x = np.random.randn(4, 2, 2, 2)\n",
        "x_pad = zero_pad(x, 1)\n",
        "output[\"zero_padding\"] = x_pad[0,1,:,0]"
      ]
    },
    {
      "cell_type": "markdown",
      "metadata": {
        "id": "snXOn3sETwDb"
      },
      "source": [
        "Expected output: \n",
        "<table>\n",
        "  <tr>\n",
        "    <td>x.shape: </td>\n",
        "    <td>(4, 3, 3, 2)</td>\n",
        "  </tr>\n",
        "  <tr>\n",
        "    <td>x_pad.shape: </td>\n",
        "    <td>(4, 7, 7, 2)</td>\n",
        "  </tr>\n",
        "  <tr>\n",
        "    <td>x[0,2,:,0]: </td>\n",
        "    <td>[-0.3224172   1.13376944 -0.17242821]</td>\n",
        "  </tr>\n",
        "  <tr>\n",
        "    <td>x_pad[0,2,:,0]: </td>\n",
        "    <td>[ 0. 0. 1.62434536 -0.52817175 0.86540763 0. 0.]\n",
        "</td>\n",
        "  </tr>\n",
        "</table>"
      ]
    },
    {
      "cell_type": "markdown",
      "metadata": {
        "id": "GPVifontJlWr"
      },
      "source": [
        "## 3.3 Convolution_single_step\n",
        "In this part, you will implement a single step of convolution, in which you apply the filter to a single position of the input. This will be used to build a convolutional unit.\n",
        "\n",
        "We will convolve an f*f filter with the image by multiplying its values element-wise with the original matrix, then summing them up and adding a bias.\n",
        "\n",
        "**Exercise**: Implement conv_single_step( ). (5%)\n",
        "\n",
        "This function takes the following inputs:\n",
        "*   a_slice_prev: the output of the activation by the previous layer.\n",
        "*   W: the filter with size f*f.\n",
        "*   b: the bias.\n"
      ]
    },
    {
      "cell_type": "code",
      "execution_count": 9,
      "metadata": {
        "id": "02WmPxJKJbJa",
        "colab": {
          "base_uri": "https://localhost:8080/"
        },
        "outputId": "b0d8d81a-0f55-42d8-9faf-3b6031782be5"
      },
      "outputs": [
        {
          "output_type": "stream",
          "name": "stdout",
          "text": [
            "Z = -6.999089450680221\n"
          ]
        }
      ],
      "source": [
        "np.random.seed(seed)\n",
        "a_slice_prev = np.random.randn(4, 4, 3)\n",
        "W = np.random.randn(4, 4, 3)\n",
        "b = np.random.randn(1, 1, 1)\n",
        "\n",
        "conv = Conv(filter_size=2, input_channel=3, output_channel=8, pad=2, stride=2)\n",
        "Z = conv.conv_single_step(a_slice_prev, W, b)\n",
        "print(\"Z =\", Z)\n",
        "\n",
        "np.random.seed(seed)\n",
        "a_slice_prev = np.random.randn(3, 3, 3)\n",
        "W = np.random.randn(3, 3, 3)\n",
        "b = np.random.randn(1, 1, 1)\n",
        "conv = Conv()\n",
        "Z = conv.conv_single_step(a_slice_prev, W, b)\n",
        "output[\"conv_single_step\"] = Z"
      ]
    },
    {
      "cell_type": "markdown",
      "metadata": {
        "id": "SVHY5VIFVLiC"
      },
      "source": [
        "Expected output: \n",
        "<table>\n",
        "  <tr>\n",
        "    <td>Z: </td>\n",
        "    <td>-6.999089450680221</td>\n",
        "  </tr>\n",
        "</table>"
      ]
    },
    {
      "cell_type": "markdown",
      "metadata": {
        "id": "764-uaZwLGNL"
      },
      "source": [
        "## 3.4 Forward pass\n",
        "In the forward pass, you will take many filters and convolve them through the input. Each 'convolution' gives you a 2D matrix output. You will then stack these outputs to get a 3D volume.\n",
        "\n",
        "Notice that the output shape of the convolution forward will be (H, W, C).\n",
        "* $H= \\lfloor\\frac{H_{prev }-f+2*pad}{stride}\\rfloor+1$\n",
        "* $W= \\lfloor\\frac{W_{prev }-f+2*pad}{stride}\\rfloor+1$\n",
        "* $C = $ number of filters\n",
        "\n",
        "f = filter_size\n",
        "\n",
        "**Exercise**: Implement forward( ) to convolve the filters W on an input activation A_prev. (15%)\n",
        "\n",
        "This function takes the following input:\n",
        "*   A_prev: the output of the activation by the previous layer, it's an array with shape (m, H_prev, W_prev, C_prev).\n",
        "    *  m: number of examples.\n",
        "    *  H_prev, W_prev, C_prev: the height, width, and channel of the output of the previous layer.\n",
        "\n",
        "Here are some steps for you to finish this exercise:\n",
        "1. Define **a_slice_prev**, which represent the input slice of conv_single_step( ).\n",
        "2. To define **a_slice_prev**, you have to define its' corners: **vert_start, vert_end, horiz_start and horiz_end**."
      ]
    },
    {
      "cell_type": "code",
      "execution_count": 10,
      "metadata": {
        "id": "6Ags0LKKRQvH",
        "colab": {
          "base_uri": "https://localhost:8080/"
        },
        "outputId": "56b0c92a-b3a4-45b2-bfe0-d0b6ff975bce"
      },
      "outputs": [
        {
          "output_type": "stream",
          "name": "stdout",
          "text": [
            "Z's mean = 0.0031904169881830785\n",
            "Z[3,2,1] = [ 1.32947002  2.12083471  0.37853495 -3.53602735  1.38816885 -1.01503137\n",
            " -1.01667531  0.86993377]\n",
            "cache_conv[1][2][3] = [-0.20075807  0.18656139  0.41005165]\n"
          ]
        }
      ],
      "source": [
        "np.random.seed(seed) #d\n",
        "A_prev = np.random.randn(10,4,4,3)\n",
        "conv=Conv(filter_size=2, input_channel=3, output_channel=8, pad=2, stride=2)\n",
        "Z = conv.forward(A_prev)\n",
        "\n",
        "print(\"Z's mean =\", np.mean(Z))\n",
        "print(\"Z[3,2,1] =\", Z[3,2,1])\n",
        "print(\"cache_conv[1][2][3] =\", conv.cache[1][2][3])\n",
        "\n",
        "\n",
        "np.random.seed(seed)\n",
        "A_prev = np.random.randn(10,3,3,3)\n",
        "conv=Conv(filter_size=3, input_channel=3, output_channel=16, pad=1, stride=1)\n",
        "Z = conv.forward(A_prev)\n",
        "\n",
        "output[\"conv_forward_1\"] = np.mean(Z)\n",
        "output[\"conv_forward_2\"] = Z[3,2,1]\n",
        "output[\"conv_forward_3\"] = conv.cache[1][2][2]"
      ]
    },
    {
      "cell_type": "markdown",
      "metadata": {
        "id": "5qiBeJbhVTlU"
      },
      "source": [
        "Expected output: \n",
        "<table>\n",
        "  <tr>\n",
        "    <td>Z's mean: </td>\n",
        "    <td>0.0031904169881830785</td>\n",
        "  </tr>\n",
        "  <tr>\n",
        "    <td>Z[3,2,1]: </td>\n",
        "    <td>[ 1.32947002  2.12083471  0.37853495 -3.53602735  1.38816885 -1.01503137\n",
        " -1.01667531  0.86993377]</td>\n",
        "  </tr>\n",
        "  <tr>\n",
        "    <td>cache_conv[1][2][3]: </td>\n",
        "    <td>[-0.20075807  0.18656139  0.41005165]</td>\n",
        "  </tr>\n",
        "</table>"
      ]
    },
    {
      "cell_type": "markdown",
      "metadata": {
        "id": "bbGLz2F_ReRr"
      },
      "source": [
        "## 3.5 Update parameters\n",
        "In this section you will update the parameters of the convolution layer, using gradient descent:\n",
        "\n",
        "$$ W^{[l]} = W^{[l]} - \\alpha \\text{ } dW^{[l]} $$$$ b^{[l]} = b^{[l]} - \\alpha \\text{ } db^{[l]} $$\n",
        "\n",
        "**Exercise**: Implement update( ) to update your parameters using gradient descent. (1%)\n",
        "\n",
        "**Instructions**: \n",
        "*   Update parameters using gradient descent on $W^{[l]}$ and $b^{[l]}$.\n"
      ]
    },
    {
      "cell_type": "code",
      "execution_count": 11,
      "metadata": {
        "id": "QOw8N6q7RgGU",
        "colab": {
          "base_uri": "https://localhost:8080/"
        },
        "outputId": "b1655a14-696c-4fd6-f467-b86313a0da4d"
      },
      "outputs": [
        {
          "output_type": "stream",
          "name": "stdout",
          "text": [
            "W[0][0][0] =  [-1.74691199  0.93719726 -0.21020825  0.78099448 -1.38718376  1.69938289\n",
            " -2.20823614  0.53308498]\n",
            "b =  [[[[ 0.34385368 -0.04359686  0.62000084 -0.69803203  0.44712856\n",
            "    -1.2245077  -0.40349164 -0.59357852]]]]\n"
          ]
        }
      ],
      "source": [
        "conv=Conv(filter_size=2, input_channel=3, output_channel=8, pad=2, stride=2)\n",
        "np.random.seed(seed)\n",
        "conv.dW = np.random.randn(2, 2, 3, 8)\n",
        "conv.db = np.random.randn(1, 1, 1, 8)\n",
        "conv.update(1.0)\n",
        "print(\"W[0][0][0] = \", conv.parameters[\"W\"][0][0][0])\n",
        "print(\"b = \", conv.parameters[\"b\"])\n",
        "\n",
        "conv=Conv(filter_size=3, input_channel=3, output_channel=8, pad=1, stride=2)\n",
        "np.random.seed(seed)\n",
        "conv.dW = np.random.randn(3, 3, 3, 8)\n",
        "conv.db = np.random.randn(1, 1, 1, 8)\n",
        "conv.update(0.1)\n",
        "output[\"conv_update_1\"] = conv.parameters[\"W\"][0][0][0]\n",
        "output[\"conv_update_2\"] = conv.parameters[\"b\"]\n"
      ]
    },
    {
      "cell_type": "markdown",
      "metadata": {
        "id": "3WBrdsS9RsTA"
      },
      "source": [
        "Expected output: \n",
        "<table>\n",
        "  <tr>\n",
        "    <td>W[0][0][0]: </td>\n",
        "    <td>[-1.74691199  0.93719726 -0.21020825  0.78099448 -1.38718376  1.69938289 -2.20823614  0.53308498]</td>\n",
        "  </tr>\n",
        "  <tr>\n",
        "    <td>b: </td>\n",
        "    <td>[[[[ 0.34385368 -0.04359686  0.62000084 -0.69803203  0.44712856\n",
        "    -1.2245077  -0.40349164 -0.59357852]]]]</td>\n",
        "  </tr>\n",
        "</table>"
      ]
    },
    {
      "cell_type": "markdown",
      "metadata": {
        "id": "goYhkmioRQvI"
      },
      "source": [
        "# 4. Maxpooling layer\n",
        "\n",
        "The pooling layer reduces the size (height and width) of the input. It helps reduce computation, as well as helps make feature detectors more invariant to their position in the input. In this section, we will focus on maxpooling layer."
      ]
    },
    {
      "cell_type": "code",
      "execution_count": 12,
      "metadata": {
        "id": "Z8j9VErNRQvI"
      },
      "outputs": [],
      "source": [
        "class MaxPool():\n",
        "    def __init__(self, filter_size=2, stride=2):\n",
        "        \"\"\"\n",
        "        Argument:\n",
        "        self.parameters -- python dictionary containing your parameters:\n",
        "                           f -- size of a filter\n",
        "                           stride -- the amount of movement that a filter move in one step\n",
        "        \"\"\"\n",
        "    \n",
        "        self.parameters = {\"f\": filter_size, \"stride\": stride}\n",
        "        self.name=\"maxpool\"\n",
        "        \n",
        "        \n",
        "    def forward(self, A_prev):\n",
        "        \"\"\"\n",
        "        Implements the forward pass of the max pooling layer\n",
        "\n",
        "        Arguments:\n",
        "        A_prev -- Input data, numpy array of shape (m, n_H_prev, n_W_prev, n_C_prev)\n",
        "\n",
        "        Returns:\n",
        "        A -- output of the pool layer, a numpy array of shape (m, n_H, n_W, n_C)\n",
        "        \"\"\"\n",
        "\n",
        "        # GRADED FUNCTION: maxpool_forward\n",
        "        ### START CODE HERE ###\n",
        "        # Retrieve dimensions from the input shape. (≈1 line)\n",
        "        (m, n_H_prev, n_W_prev, n_C_prev) = A_prev.shape\n",
        "\n",
        "\n",
        "        # Define the dimensions of the output. (≈3 lines)\n",
        "        n_H = int(1 + (n_H_prev - self.parameters['f']) / self.parameters['stride'])\n",
        "        n_W = int(1 + (n_W_prev - self.parameters['f']) / self.parameters['stride'])\n",
        "        n_C = n_C_prev\n",
        "\n",
        "        # Initialize output matrix A with zeros. (≈1 line)\n",
        "        A = np.zeros((m, n_H, n_W, n_C))            \n",
        "\n",
        "        for i in range(m):                         # loop over the training examples\n",
        "            for h in range(n_H):                     # loop on the vertical axis of the output volume\n",
        "                for w in range(n_W):                 # loop on the horizontal axis of the output volume\n",
        "                    for c in range (n_C):            # loop over the channels of the output volume\n",
        "\n",
        "                        # Find the corners of the current \"slice\". (≈4 lines)\n",
        "                        vert_start = self.parameters['stride'] * h\n",
        "                        vert_end = self.parameters['stride'] * h + self.parameters['f']\n",
        "                        horiz_start = self.parameters['stride'] * w\n",
        "                        horiz_end = self.parameters['stride'] * w + self.parameters['f']\n",
        "\n",
        "                        # Use the corners to define the current slice on the ith training example of A_prev, channel c. (≈1 line)\n",
        "                        a_prev_slice = A_prev[i, vert_start:vert_end, horiz_start:horiz_end, c]\n",
        "\n",
        "                        # Compute the max pooling operation on a_prev_slice. (≈1 line)\n",
        "                        A[i, h, w, c] = np.max(a_prev_slice)\n",
        "\n",
        "        ### END CODE HERE ###\n",
        "\n",
        "        # Store the input in \"cache\" for backward pass\n",
        "        self.cache = A_prev\n",
        "\n",
        "        # Making sure your output shape is correct\n",
        "        assert(A.shape == (m, n_H, n_W, n_C))\n",
        "\n",
        "        return A\n",
        "    \n",
        "    def create_mask_from_window(self, x):\n",
        "        \"\"\"\n",
        "        Creates a mask from an input x to identify the max entry of x.\n",
        "\n",
        "        Arguments:\n",
        "        x -- Array of shape (filter_size, filter_size)\n",
        "\n",
        "        Returns:\n",
        "        mask -- Array of the same shape as filter, contains a True at the position corresponding to the max entry of x.\n",
        "        \"\"\"\n",
        "\n",
        "        mask = x == np.max(x)\n",
        "\n",
        "        return mask\n",
        "    \n",
        "    def backward(self, dA):\n",
        "        \"\"\"\n",
        "        Implements the backward pass of the max pooling layer\n",
        "\n",
        "        Arguments:\n",
        "        dA -- gradient of cost with respect to the output of the pooling layer, same shape as A \n",
        "\n",
        "        Returns:\n",
        "        dA_prev -- gradient of cost with respect to the input of the pooling layer, same shape as A_prev\n",
        "        \"\"\"\n",
        "\n",
        "        # Retrieve information from cache\n",
        "        A_prev = self.cache\n",
        "\n",
        "        # Retrieve dimensions from A_prev's shape and dA's shape\n",
        "        m, n_H_prev, n_W_prev, n_C_prev = A_prev.shape\n",
        "        m, n_H, n_W, n_C = dA.shape\n",
        "\n",
        "        # Initialize dA_prev with zeros\n",
        "        dA_prev = np.zeros(A_prev.shape)\n",
        "        for i in range(m):  # loop over the training examples\n",
        "            # select training example from A_prev                    \n",
        "            a_prev = A_prev[i]\n",
        "            for h in range(n_H):   # loop on the vertical axis            \n",
        "                for w in range(n_W):  # loop on the horizontal axis             \n",
        "                    for c in range(n_C): # loop over the channels\n",
        "\n",
        "                        # Find the corners of the current \"slice\"          \n",
        "                        vert_start = h * self.parameters[\"stride\"]\n",
        "                        vert_end = vert_start + self.parameters[\"f\"]\n",
        "                        horiz_start = w * self.parameters[\"stride\"]\n",
        "                        horiz_end = horiz_start + self.parameters[\"f\"] \n",
        "\n",
        "                        #Use the corners and \"c\" to define the current slice from a_prev\n",
        "                        a_prev_slice = a_prev[vert_start:vert_end, horiz_start:horiz_end, c]\n",
        "                        # Create the mask from a_prev_slice\n",
        "                        mask = self.create_mask_from_window(a_prev_slice)\n",
        "                        # Set dA_prev to be dA_prev + (the mask multiplied by the correct entry of dA)\n",
        "                        dA_prev[i, vert_start:vert_end, horiz_start:horiz_end, c] += np.multiply(mask, dA[i, h, w, c])\n",
        "\n",
        "\n",
        "\n",
        "        # Make sure your output shape is correct\n",
        "        assert(dA_prev.shape == A_prev.shape)\n",
        "\n",
        "        return dA_prev\n",
        "\n"
      ]
    },
    {
      "cell_type": "markdown",
      "metadata": {
        "id": "YXSF-PhOxauK"
      },
      "source": [
        "## 4.1 Forward pass\n",
        "\n",
        "It will take following parameters to initialize a max pooling layer:\n",
        "*   filter_size: the filter will be in the shape of (filter_size*filter_size)\n",
        "*   stride: the amount of movement that a filter move in one step\n",
        "\n",
        "In the forward pass, you will slide a ( f*f ) filter over the input and store the max value of the window in the output. (f means the filter size)\n",
        "\n",
        "Notice that the output shape of the forward pass will be (H, W, C).\n",
        "* $H= \\lfloor\\frac{H_{prev }-f}{stride}\\rfloor+1$\n",
        "* $W= \\lfloor\\frac{W_{prev }-f}{stride}\\rfloor+1$\n",
        "* $C = C_{prev}$\n",
        "\n",
        "**Exercise**: Create a max pooling layer and implement the forward pass of the pooling layer. (15%)\n",
        "\n",
        "This forward function takes the following input:\n",
        "*   A_prev: the output of the previous layer, it's an array with shape (m, H_prev, W_prev, C_prev).\n",
        "\n",
        "\n",
        "\n",
        "\n"
      ]
    },
    {
      "cell_type": "code",
      "execution_count": 13,
      "metadata": {
        "id": "BpL0HQvQRQvJ",
        "colab": {
          "base_uri": "https://localhost:8080/"
        },
        "outputId": "4825286b-091f-4a29-aa68-d1fdb471fd75"
      },
      "outputs": [
        {
          "output_type": "stream",
          "name": "stdout",
          "text": [
            "A = [[[[1.74481176 0.86540763 1.13376944]]]\n",
            "\n",
            "\n",
            " [[[1.13162939 1.51981682 2.18557541]]]]\n"
          ]
        }
      ],
      "source": [
        "np.random.seed(seed)\n",
        "A_prev = np.random.randn(2, 4, 4, 3)\n",
        "maxpool=MaxPool(filter_size=3, stride=2)\n",
        "A = maxpool.forward(A_prev)\n",
        "print(\"A =\", A)\n",
        "\n",
        "A_prev = np.random.randn(2, 5, 5, 3)\n",
        "maxpool=MaxPool(filter_size=2, stride=1)\n",
        "A = maxpool.forward(A_prev)\n",
        "output[\"maxpool_forward\"] = A"
      ]
    },
    {
      "cell_type": "markdown",
      "metadata": {
        "id": "9vcEzFinVYHP"
      },
      "source": [
        "Expected output: \n",
        "<table>\n",
        "  <tr>\n",
        "    <td>A: </td>\n",
        "    <td>[[[[1.74481176 0.86540763 1.13376944]]] [[[1.13162939 1.51981682 2.18557541]]]]</td>\n",
        "  </tr>\n",
        "</table>"
      ]
    },
    {
      "cell_type": "markdown",
      "metadata": {
        "id": "Wn-VBGGURQvJ"
      },
      "source": [
        "# 5. Flatten layer"
      ]
    },
    {
      "cell_type": "markdown",
      "metadata": {
        "id": "cJN7EvSuaKGW"
      },
      "source": [
        "To connect the convolution layer and the dense layer, you should flatten the output of the convolution layer or max pooling layer before dense layer."
      ]
    },
    {
      "cell_type": "code",
      "execution_count": 14,
      "metadata": {
        "id": "2-F3jskjRQvK"
      },
      "outputs": [],
      "source": [
        "class Flatten():\n",
        "    def __init__(self):\n",
        "        self.name=\"flatten\"\n",
        "\n",
        "    def forward(self, A_prev):\n",
        "        \"\"\"\n",
        "        Implements the forward pass of the flatten layer\n",
        "\n",
        "        Arguments:\n",
        "        A_prev -- Input data, numpy array of shape (m, n_H_prev, n_W_prev, n_C_prev)\n",
        "\n",
        "        Returns:\n",
        "        A -- output of the flatten layer, a 1-dimensional array\n",
        "        \"\"\"\n",
        "\n",
        "        # Save information in \"cache\" for the backward pass\n",
        "        self.cache = A_prev[0].shape\n",
        "\n",
        "        # GRADED FUNCTION: flatten_forward\n",
        "        ### START CODE HERE ### (≈1 line)\n",
        "        A = A_prev.reshape(A_prev.shape[0],A_prev[0].flatten().shape[0])\n",
        "        ### END CODE HERE ###\n",
        "        return A\n",
        "\n",
        "    def backward(self, dA):\n",
        "        \"\"\"\n",
        "        Implements the backward pass of the flatten layer\n",
        "\n",
        "        Arguments:\n",
        "        dA -- Input data, a 1-dimensional array\n",
        "\n",
        "        Returns:\n",
        "        dA_prev -- An array with its original shape (the output shape of its' previous layer).\n",
        "        \"\"\"\n",
        "        # GRADED FUNCTION: flatten_backward\n",
        "        ### START CODE HERE ### (≈1 line)\n",
        "        dA_prev = dA.reshape(dA.shape[0],self.cache[0],self.cache[1],self.cache[2])\n",
        "        ### END CODE HERE ###\n",
        "        return dA_prev"
      ]
    },
    {
      "cell_type": "markdown",
      "metadata": {
        "id": "5Haf0l4nau3y"
      },
      "source": [
        "## 5.1 Forward pass\n",
        "\n",
        "**Exercise**: Implement the forward pass of flatten layer. Turn the input array into a 1-dimensional array. (5%)\n",
        "\n",
        "This function takes the following input:\n",
        "*   A_prev: Input data, it's an array with shape (m, n_H_prev, n_W_prev, n_C_prev).\n"
      ]
    },
    {
      "cell_type": "code",
      "execution_count": 15,
      "metadata": {
        "id": "TF96C0Fyat_4",
        "colab": {
          "base_uri": "https://localhost:8080/"
        },
        "outputId": "a5b9af82-e2e4-452b-b7f4-b869ad9cba63"
      },
      "outputs": [
        {
          "output_type": "stream",
          "name": "stdout",
          "text": [
            "A.shape = (2, 8)\n",
            "A[0] = [ 1.62434536 -0.61175641 -0.52817175 -1.07296862  0.86540763 -2.3015387\n",
            "  1.74481176 -0.7612069 ]\n"
          ]
        }
      ],
      "source": [
        "np.random.seed(seed)\n",
        "A_prev = np.random.randn(2,2,2,2)\n",
        "flatten = Flatten()\n",
        "A = flatten.forward(A_prev)\n",
        "print(\"A.shape =\", A.shape)\n",
        "print(\"A[0] =\", A[0])\n",
        "\n",
        "\n",
        "np.random.seed(seed)\n",
        "A_prev = np.random.randn(2,3,3,2)\n",
        "flatten = Flatten()\n",
        "A = flatten.forward(A_prev)\n",
        "output[\"flatten_forward\"] = A[0]"
      ]
    },
    {
      "cell_type": "markdown",
      "metadata": {
        "id": "Rq3qbOjiVhjj"
      },
      "source": [
        "Expected output: \n",
        "<table>\n",
        "  <tr>\n",
        "    <td>A.shape: </td>\n",
        "    <td>(2, 8)</td>\n",
        "  </tr>\n",
        "  <tr>\n",
        "    <td>A[0]: </td>\n",
        "    <td>[ 1.62434536 -0.61175641 -0.52817175 -1.07296862  0.86540763 -2.3015387\n",
        "  1.74481176 -0.7612069 ]</td>\n",
        "  </tr>\n",
        "</table>"
      ]
    },
    {
      "cell_type": "markdown",
      "metadata": {
        "id": "qdWPIB6_a8_n"
      },
      "source": [
        "## 5.2  Backward pass\n",
        "\n",
        "**Exercise**: Implement the backward pass of flatten layer. Turn the input array back to its original shape.(the output shape of its' previous layer). (5%)\n",
        "\n",
        "This function takes the following input:\n",
        "*   dA: the output of backward pass from the next layer, it's a 1-dimensional array."
      ]
    },
    {
      "cell_type": "code",
      "execution_count": 16,
      "metadata": {
        "id": "dY8vpJPLauWd",
        "colab": {
          "base_uri": "https://localhost:8080/"
        },
        "outputId": "f92d0968-7ac1-4d6d-ad56-4c1f17ec59ba"
      },
      "outputs": [
        {
          "output_type": "stream",
          "name": "stdout",
          "text": [
            "B.shape = (2, 2, 2, 2)\n",
            "B[0] = [[[ 1.62434536 -0.61175641]\n",
            "  [-0.52817175 -1.07296862]]\n",
            "\n",
            " [[ 0.86540763 -2.3015387 ]\n",
            "  [ 1.74481176 -0.7612069 ]]]\n"
          ]
        }
      ],
      "source": [
        "np.random.seed(seed)\n",
        "A_prev = np.random.randn(2,2,2,2)\n",
        "flatten = Flatten()\n",
        "A = flatten.forward(A_prev)\n",
        "B = flatten.backward(A)\n",
        "print(\"B.shape =\", B.shape)\n",
        "print(\"B[0] =\", B[0])\n",
        "\n",
        "# B and A_prev should be same\n",
        "assert((B==A_prev).all())\n",
        "\n",
        "np.random.seed(seed)\n",
        "A_prev = np.random.randn(4,3,3,3)\n",
        "flatten = Flatten()\n",
        "A = flatten.forward(A_prev)\n",
        "B = flatten.backward(A)\n",
        "output[\"flatten_backward\"] = B[0]\n",
        "\n"
      ]
    },
    {
      "cell_type": "markdown",
      "metadata": {
        "id": "3khMiPehVjIV"
      },
      "source": [
        "Expected output: \n",
        "<table>\n",
        "  <tr>\n",
        "    <td>B.shape: </td>\n",
        "    <td>(2, 2, 2, 2)</td>\n",
        "  </tr>\n",
        "  <tr>\n",
        "    <td>B[0]: </td>\n",
        "    <td>[[[ 1.62434536 -0.61175641]\n",
        "  [-0.52817175 -1.07296862]]\n",
        "  [[ 0.86540763 -2.3015387 ]\n",
        "  [ 1.74481176 -0.7612069 ]]]</td>\n",
        "  </tr>\n",
        "</table>"
      ]
    },
    {
      "cell_type": "markdown",
      "metadata": {
        "id": "RYqpQu6Eye7h"
      },
      "source": [
        "# 6. Model\n",
        "Alright, now you have all the tools that are needed to build a convolutional neural network. Let's get started! Use the knowledge you learned from assignment 4 to finish this part. But there is some difference:\n",
        "\n",
        "1. In this part, we will call model.add( ) to add a layer into the model. For example:\n",
        "* model.add(Conv( )): add a convolution layer into the model.\n",
        "* model.add(Dense( )): add a dense layer into the model.\n",
        "* model.add(Activation( )): add an activation layer into the model.\n",
        "\n",
        "2. Because the dense layer you implement in assignment3 takes the input shape as [:, m], where m represents the number of examples. However, when the training data go through the convolution layer and maxpool layer, its shape will be [m,:]. As a consequence, in the forward pass, the output of flatten.forward( ) need to be transposed. Similarly, in the backward pass, before the data goes into flatten.backward( ), it needs to be transposed again.\n"
      ]
    },
    {
      "cell_type": "code",
      "execution_count": 17,
      "metadata": {
        "id": "7dWrCCkPRQvK"
      },
      "outputs": [],
      "source": [
        "class Model():\n",
        "    def __init__(self):       \n",
        "        self.layers=[]\n",
        "\n",
        "    def add(self, layer):\n",
        "        self.layers.append(layer)\n",
        "\n",
        "    def forward(self, X):\n",
        "        A = X\n",
        "        # GRADED FUNCTION: model\n",
        "        ### START CODE HERE ### (≈ 5 lines)\n",
        "        for l in range(len(self.layers)):\n",
        "            if(self.layers[l].name==\"flatten\"):\n",
        "                A=self.layers[l].forward(A).T # Transpose after flatten layer\n",
        "            else:\n",
        "                A=self.layers[l].forward(A)\n",
        "        ### END CODE HERE ###\n",
        "        return A\n",
        "\n",
        "    def backward(self, AL=None, Y=None):\n",
        "        L = len(self.layers)\n",
        "\n",
        "        # GRADED FUNCTION: model\n",
        "        ### START CODE HERE ### (≈ 7 lines)\n",
        "        if self.layers[-1].name == \"sigmoid\":\n",
        "            dAL = - (np.divide(Y, AL + 1e-5) - np.divide(1 - Y, 1 - AL + 1e-5))\n",
        "            dZ = self.layers[-1].backward(dA=dAL)  #activation layer backward\n",
        "            dA_prev = self.layers[-2].backward(dZ) #linear layer backward\n",
        "        else:\n",
        "            dZ = self.layers[-1].backward(Y=Y)\n",
        "            dA_prev = self.layers[-2].backward(dZ)\n",
        "        ### END CODE HERE ###\n",
        "\n",
        "        \n",
        "        # Loop from l=L-3 to l=0\n",
        "        # GRADED FUNCTION: model\n",
        "        ### START CODE HERE ### (≈ 5 lines)\n",
        "        for l in reversed(range(L-2)):\n",
        "            if(self.layers[l].name==\"flatten\"):\n",
        "                dA_prev=self.layers[l].backward(dA_prev.T) # Transpose before goes into flatten layer\n",
        "            else:\n",
        "                dA_prev=self.layers[l].backward(dA_prev)\n",
        "        ### END CODE HERE ###\n",
        "\n",
        "        return dA_prev\n",
        "\n",
        "    def update(self, learning_rate):\n",
        "        \"\"\"\n",
        "        Arguments:\n",
        "        learning_rate -- step size\n",
        "        \"\"\"\n",
        "        \n",
        "        # GRADED FUNCTION: model\n",
        "        # Only convolution layer and dense layer have to update parameters\n",
        "        ### START CODE HERE ### (≈ 3 lines)\n",
        "        L = len(self.layers)\n",
        "        for l in reversed(range(L)):\n",
        "          if self.layers[l].name==\"conv\" or self.layers[l].name==\"Dense\":\n",
        "            self.layers[l].update(learning_rate)\n",
        "        ### END CODE HERE ###\n",
        "        "
      ]
    },
    {
      "cell_type": "markdown",
      "metadata": {
        "id": "36my0zWnlv3K"
      },
      "source": [
        "## 6.1 Model forward, backward and update:\n",
        "**Exercise**: Here is an exercise to make sure your model works correctly. (5%)"
      ]
    },
    {
      "cell_type": "code",
      "execution_count": 18,
      "metadata": {
        "id": "gN-8NQ_KRQvK",
        "colab": {
          "base_uri": "https://localhost:8080/"
        },
        "outputId": "9c402561-9e12-44c4-9631-b4131ed617b3"
      },
      "outputs": [
        {
          "output_type": "stream",
          "name": "stdout",
          "text": [
            "[ 0.36135339 -0.08462337 -0.00125603 -0.75846791 -0.10766644 -0.30566005\n",
            " -0.6160899   0.17289454]\n",
            "[[[[-0.17413437 -1.16136976  2.2091218   1.09197293  1.09878206\n",
            "    -0.99630691  2.22696487 -0.20973624]]]]\n",
            "[-2.14606176 -0.75085187 -1.19750975 -0.8916535  -0.91436404 -0.76753\n",
            " -1.30207298 -0.52670234]\n",
            "[[-0.47493517]]\n"
          ]
        }
      ],
      "source": [
        "np.random.seed(seed)\n",
        "A = np.random.randn(4,10,10,3)\n",
        "Y = np.array([[1,0,1,0]])\n",
        "\n",
        "model=Model()\n",
        "model.add(Conv(filter_size=3, input_channel=3, output_channel=8, pad=1, stride=2))\n",
        "model.add(Activation(\"relu\"))\n",
        "model.add(MaxPool(filter_size=2, stride=2))\n",
        "model.add(Flatten())\n",
        "model.add(Dense(32, 1))\n",
        "model.add(Activation(\"sigmoid\"))\n",
        "\n",
        "\n",
        "AL = model.forward(A)\n",
        "dA_prev = model.backward(AL=AL, Y=Y)\n",
        "model.update(0.01)\n",
        "\n",
        "print(model.layers[0].dW[0,0,0])\n",
        "print(model.layers[0].db)\n",
        "print(model.layers[4].dW[0,:8])\n",
        "print(model.layers[4].db)\n",
        "\n",
        "\n",
        "np.random.seed(seed)\n",
        "A = np.random.randn(4,8,8,3)\n",
        "Y = np.array([[1,1,0,0]])\n",
        "\n",
        "model=Model()\n",
        "model.add(Conv(filter_size=3, input_channel=3, output_channel=16, pad=1, stride=2))\n",
        "model.add(Activation(\"relu\"))\n",
        "model.add(MaxPool(filter_size=2, stride=2))\n",
        "model.add(Flatten())\n",
        "model.add(Dense(64, 1))\n",
        "model.add(Activation(\"sigmoid\"))\n",
        "\n",
        "\n",
        "AL = model.forward(A)\n",
        "dA_prev = model.backward(AL=AL, Y=Y)\n",
        "model.update(0.001)\n",
        "\n",
        "output[\"model_1\"] = model.layers[0].dW[0,0,0]\n",
        "output[\"model_2\"] = model.layers[0].db\n",
        "output[\"model_3\"] = model.layers[4].dW[0,:8]\n",
        "output[\"model_4\"] = model.layers[4].db"
      ]
    },
    {
      "cell_type": "markdown",
      "metadata": {
        "id": "vGTtpnWcVvce"
      },
      "source": [
        "Expected output: \n",
        "<table>\n",
        "  <tr>\n",
        "    <td>model.layers[0].dW[0,0,0]: </td>\n",
        "    <td>[ 0.36135339 -0.08462337 -0.00125603 -0.75846791 -0.10766644 -0.30566005\n",
        " -0.6160899   0.17289454]</td>\n",
        "  </tr>\n",
        "  <tr>\n",
        "    <td>model.layers[0].db: </td>\n",
        "    <td>[[[[-0.17413437 -1.16136976  2.2091218   1.09197293  1.09878206\n",
        "    -0.99630691  2.22696487 -0.20973624]]]]</td>\n",
        "  </tr>\n",
        "  <tr>\n",
        "    <td>model.layers[4].dW[0,:8]: </td>\n",
        "    <td>[-2.14606176 -0.75085187 -1.19750975 -0.8916535  -0.91436404 -0.76753\n",
        " -1.30207298 -0.52670234]</td>\n",
        "  </tr>\n",
        "  <tr>\n",
        "    <td>model.layers[4].db: </td>\n",
        "    <td>[[-0.47493517]]</td>\n",
        "  </tr>\n",
        "</table>"
      ]
    },
    {
      "cell_type": "markdown",
      "metadata": {
        "id": "9EC0qy26RQvN"
      },
      "source": [
        "# 7. Binary classification\n",
        "\n",
        "Congratulations on implementing all the functions by yourself. You have done an incredible job! 👏\n",
        "\n",
        "Now you have all the tools you need to get started with classification. In this section, you will build a binary classifier using the functions you had previously written. You will create a model that can determine whether a CXR image is normal or not. There will be 600 training images and 60 testing images, and the size of all images are 32 * 32 * 1.\n",
        "\n",
        "\n",
        "**Exercise**: Implement a binary classifier and tune the hyperparameter. You will get all 10% if your prediction achieves accuracy greater than 0.55 in testing data. (10%)\n",
        "\n",
        "**Instruction**:\n",
        "*   You can only use the functions you had previously written.\n",
        "*   Preprocess the data by using min-max scaling to normalize X. Normalize the values of each feature between 0 and 1.\n",
        "*   Use batch gradient descent to train the model.\n",
        "\n"
      ]
    },
    {
      "cell_type": "markdown",
      "metadata": {
        "id": "K2X2fb7aoJTg"
      },
      "source": [
        "## 7.1 Data preprocessing"
      ]
    },
    {
      "cell_type": "code",
      "execution_count": 19,
      "metadata": {
        "id": "QWHxt5cDZ9mg"
      },
      "outputs": [],
      "source": [
        "PATH = \"Training_data\"  #path to your training image\n",
        "file_dir = os.listdir(PATH) #read the images from the directory\n",
        "file_dir.sort() #Make sure the images are loaded in order\n",
        "X_train = np.array([])\n",
        "\n",
        "# Prepare X_train\n",
        "# The shape of X_train will be (number of examples, height of image, width of image, channel of image)\n",
        "# GRADED CODE: Binary classification (Data preprocessing)\n",
        "# hint: use imread(PATH, IMREAD_GRAYSCALE) to load image\n",
        "### START CODE HERE ### (≈ 9 line)\n",
        "tmp=[]\n",
        "for p in file_dir:\n",
        "  a=imread(os.path.join(PATH,p), IMREAD_GRAYSCALE)\n",
        "  if a is not None:\n",
        "    tmp.append(a)\n",
        "\n",
        "\n",
        "#X_train.reshape(-1,31,31)\n",
        "X_train=np.array(tmp)\n",
        "X_train=np.expand_dims(X_train,axis=3)\n",
        "X_train=X_train/255\n",
        "\n",
        "### END CODE HERE ###\n",
        "        \n",
        "\n",
        "\n"
      ]
    },
    {
      "cell_type": "code",
      "execution_count": 20,
      "metadata": {
        "id": "I527tbN2_Obg"
      },
      "outputs": [],
      "source": [
        "PATH = \"Testing_data\"  #path to your testing image\n",
        "file_dir = os.listdir(PATH)\n",
        "file_dir.sort()\n",
        "X_test = np.array([])\n",
        "\n",
        "# Prepare X_test\n",
        "# The shape of X_teset will be (number of examples, height of image, width of image, channel of image)\n",
        "# GRADED CODE: Binary classification (Data preprocessing)\n",
        "### START CODE HERE ### (≈ 9 line)\n",
        "tmp=[]\n",
        "for p in file_dir:\n",
        "  a=imread(os.path.join(PATH,p), IMREAD_GRAYSCALE)\n",
        "  if a is not None:\n",
        "    tmp.append(a)\n",
        "X_test=np.array(tmp)\n",
        "X_test=np.expand_dims(X_test,axis=3)\n",
        "X_test=X_test/255\n",
        "### END CODE HERE ###\n",
        "        \n",
        "\n",
        "\n"
      ]
    },
    {
      "cell_type": "code",
      "execution_count": 21,
      "metadata": {
        "id": "bxaslew_lkKY"
      },
      "outputs": [],
      "source": [
        "data = read_csv(\"Training_label.csv\")\n",
        "\n",
        "y_train = []\n",
        "# Prepare y_train\n",
        "# The shape of y_train will be (number of examples, 1), we will transpose y_train latter.\n",
        "# GRADED CODE: Binary classification (Data preprocessing)\n",
        "### START CODE HERE ### (≈ 2 line)\n",
        "for i in range(600):\n",
        "  y_train.append([data['label'][i]])\n",
        "\n",
        "y_train=np.array(y_train)  \n",
        "#print(y_train.shape) #(600,1)\n",
        "### END CODE HERE ###\n",
        "\n"
      ]
    },
    {
      "cell_type": "code",
      "execution_count": 22,
      "metadata": {
        "id": "iwhza4gUboQ6",
        "colab": {
          "base_uri": "https://localhost:8080/"
        },
        "outputId": "336dfa04-e4ab-432c-e69d-982867f314f4"
      },
      "outputs": [
        {
          "output_type": "stream",
          "name": "stdout",
          "text": [
            "(120, 1)\n"
          ]
        }
      ],
      "source": [
        "from sklearn.model_selection import train_test_split\n",
        "#You can split training and validation set here. (Optional)\n",
        "### START CODE HERE ###\n",
        "X_valid=X_train[480: ,:,:,:]\n",
        "y_valid=y_train[480:,:]\n",
        "print(y_valid.shape)\n",
        "### END CODE HERE ###"
      ]
    },
    {
      "cell_type": "code",
      "execution_count": 23,
      "metadata": {
        "id": "wKkOpp6uyCQY",
        "colab": {
          "base_uri": "https://localhost:8080/",
          "height": 303
        },
        "outputId": "01f22f84-897e-4635-a3d2-0549966a59e2"
      },
      "outputs": [
        {
          "output_type": "display_data",
          "data": {
            "text/plain": [
              "<Figure size 432x288 with 9 Axes>"
            ],
            "image/png": "[encoded data removed]"
          },
          "metadata": {
            "needs_background": "light"
          }
        },
        {
          "output_type": "stream",
          "name": "stdout",
          "text": [
            "Train: X=(600, 32, 32, 1), y=(1, 600)\n",
            "Test: X=(60, 32, 32, 1)\n"
          ]
        }
      ],
      "source": [
        "y_train = y_train.T #transpose y_train\n",
        "\n",
        "# plot first few images\n",
        "for i in range(9):\n",
        "    # define subplot\n",
        "    plt.subplot(330 + 1 + i)\n",
        "    # plot raw pixel data\n",
        "    plt.imshow(X_train[i].squeeze(), cmap='gray', vmin=0, vmax=1)\n",
        "# show the figure\n",
        "plt.show()\n",
        "\n",
        "# check the shape of training data and testing data\n",
        "print('Train: X=%s, y=%s' % (X_train.shape, y_train.shape))\n",
        "print('Test: X=%s' % (X_test.shape, ))"
      ]
    },
    {
      "cell_type": "markdown",
      "metadata": {
        "id": "qdK9_gnZAjYD"
      },
      "source": [
        "## 7.2 mini-batch gradient descent"
      ]
    },
    {
      "cell_type": "code",
      "execution_count": 24,
      "metadata": {
        "id": "LVTeqK9TqMwP"
      },
      "outputs": [],
      "source": [
        "def random_mini_batches(X, Y, mini_batch_size = 64):\n",
        "    \"\"\"\n",
        "    Creates a list of random minibatches from (X, Y)\n",
        "    \n",
        "    Arguments:\n",
        "    X -- input data, of shape !!!!!!!!!!!(number of examples ,input size)!!!!!!!!!!!\n",
        "    Y -- true \"label\" vector, of shape (number of classes, number of examples)\n",
        "    mini_batch_size -- size of the mini-batches, integer\n",
        "    \n",
        "    Returns:\n",
        "    mini_batches -- list of synchronous (mini_batch_X, mini_batch_Y)\n",
        "    \"\"\"\n",
        "    \n",
        "    m = X.shape[0]  # number of training examples\n",
        "    mini_batches = []\n",
        "\n",
        "    # GRADED CODE: Binary classification\n",
        "    ### START CODE HERE ###\n",
        "        \n",
        "    # Step 1: Shuffle (X, Y)\n",
        "    permutation = list(np.random.permutation(m))\n",
        "    shuffled_X = X[permutation,:]\n",
        "    shuffled_Y = Y[:, permutation].reshape((Y.shape[0],m))\n",
        "    \n",
        "    inc = mini_batch_size\n",
        "\n",
        "    # Step 2 - Partition (shuffled_X, shuffled_Y).\n",
        "    # Cases with a complete mini batch size only i.e each of 64 examples.\n",
        "    num_complete_minibatches = math.floor(m / mini_batch_size) # number of mini batches of size mini_batch_size in your partitionning\n",
        "    for k in range(0, num_complete_minibatches):\n",
        "        # (approx. 2 lines)\n",
        "        mini_batch_X = shuffled_X[k * mini_batch_size : k * mini_batch_size + mini_batch_size,:]\n",
        "        mini_batch_Y = shuffled_Y[:, k * mini_batch_size : k * mini_batch_size + mini_batch_size]\n",
        "        mini_batch = (mini_batch_X, mini_batch_Y)\n",
        "        mini_batches.append(mini_batch)\n",
        "    \n",
        "    # For handling the end case (last mini-batch < mini_batch_size i.e less than 64)\n",
        "    if m % mini_batch_size != 0:\n",
        "        #(approx. 2 lines)\n",
        "        mini_batch_X = shuffled_X[num_complete_minibatches * mini_batch_size : m,:]\n",
        "        mini_batch_Y = shuffled_Y[:, num_complete_minibatches * mini_batch_size : m]\n",
        "        mini_batch = (mini_batch_X, mini_batch_Y)\n",
        "        mini_batches.append(mini_batch)\n",
        "    \n",
        "    \n",
        "    return mini_batches\n",
        "\n",
        "    ### END CODE HERE ###"
      ]
    },
    {
      "cell_type": "markdown",
      "metadata": {
        "id": "5FIrnqYMFGRq"
      },
      "source": [
        "## 7.3 Start training"
      ]
    },
    {
      "cell_type": "code",
      "execution_count": 25,
      "metadata": {
        "id": "1CBktduDyKd6",
        "colab": {
          "base_uri": "https://localhost:8080/",
          "height": 1000
        },
        "outputId": "d6e07f7a-1d99-4ddd-e06f-9248a3662cf0"
      },
      "outputs": [
        {
          "output_type": "stream",
          "name": "stdout",
          "text": [
            "epoch:  0\n",
            "Cost after iteration 0: 0.765647\n",
            "epoch:  1\n",
            "Cost after iteration 1: 0.742321\n",
            "epoch:  2\n",
            "Cost after iteration 2: 0.729005\n",
            "epoch:  3\n",
            "Cost after iteration 3: 0.693932\n",
            "epoch:  4\n",
            "Cost after iteration 4: 0.696674\n",
            "epoch:  5\n",
            "Cost after iteration 5: 0.776305\n",
            "epoch:  6\n",
            "Cost after iteration 6: 0.711655\n",
            "epoch:  7\n",
            "Cost after iteration 7: 0.764848\n",
            "epoch:  8\n",
            "Cost after iteration 8: 0.720639\n",
            "epoch:  9\n",
            "Cost after iteration 9: 0.696643\n",
            "epoch:  10\n",
            "Cost after iteration 10: 0.715541\n",
            "epoch:  11\n",
            "Cost after iteration 11: 0.694092\n",
            "epoch:  12\n",
            "Cost after iteration 12: 0.724139\n",
            "epoch:  13\n",
            "Cost after iteration 13: 0.693037\n",
            "epoch:  14\n",
            "Cost after iteration 14: 0.692415\n",
            "epoch:  15\n",
            "Cost after iteration 15: 0.716984\n",
            "epoch:  16\n",
            "Cost after iteration 16: 0.702782\n",
            "epoch:  17\n",
            "Cost after iteration 17: 0.719609\n",
            "epoch:  18\n",
            "Cost after iteration 18: 0.674488\n",
            "epoch:  19\n",
            "Cost after iteration 19: 0.719370\n",
            "epoch:  20\n",
            "Cost after iteration 20: 0.689169\n",
            "epoch:  21\n",
            "Cost after iteration 21: 0.695754\n",
            "epoch:  22\n",
            "Cost after iteration 22: 0.687061\n",
            "epoch:  23\n",
            "Cost after iteration 23: 0.716432\n",
            "epoch:  24\n",
            "Cost after iteration 24: 0.710079\n",
            "epoch:  25\n",
            "Cost after iteration 25: 0.692321\n",
            "epoch:  26\n",
            "Cost after iteration 26: 0.676507\n",
            "epoch:  27\n",
            "Cost after iteration 27: 0.688100\n",
            "epoch:  28\n",
            "Cost after iteration 28: 0.691524\n",
            "epoch:  29\n",
            "Cost after iteration 29: 0.683539\n",
            "epoch:  30\n",
            "Cost after iteration 30: 0.701891\n",
            "epoch:  31\n",
            "Cost after iteration 31: 0.697257\n",
            "epoch:  32\n",
            "Cost after iteration 32: 0.698327\n",
            "epoch:  33\n",
            "Cost after iteration 33: 0.714845\n",
            "epoch:  34\n",
            "Cost after iteration 34: 0.679152\n",
            "epoch:  35\n",
            "Cost after iteration 35: 0.697584\n",
            "epoch:  36\n",
            "Cost after iteration 36: 0.721511\n",
            "epoch:  37\n",
            "Cost after iteration 37: 0.689385\n",
            "epoch:  38\n",
            "Cost after iteration 38: 0.712049\n",
            "epoch:  39\n",
            "Cost after iteration 39: 0.699180\n",
            "epoch:  40\n",
            "Cost after iteration 40: 0.687276\n",
            "epoch:  41\n",
            "Cost after iteration 41: 0.681528\n",
            "epoch:  42\n",
            "Cost after iteration 42: 0.702531\n",
            "epoch:  43\n",
            "Cost after iteration 43: 0.671309\n",
            "epoch:  44\n",
            "Cost after iteration 44: 0.683646\n",
            "epoch:  45\n",
            "Cost after iteration 45: 0.680381\n",
            "epoch:  46\n",
            "Cost after iteration 46: 0.677484\n",
            "epoch:  47\n",
            "Cost after iteration 47: 0.701639\n",
            "epoch:  48\n",
            "Cost after iteration 48: 0.695787\n",
            "epoch:  49\n",
            "Cost after iteration 49: 0.678904\n",
            "epoch:  50\n",
            "Cost after iteration 50: 0.710399\n",
            "epoch:  51\n",
            "Cost after iteration 51: 0.693734\n",
            "epoch:  52\n",
            "Cost after iteration 52: 0.680369\n",
            "epoch:  53\n",
            "Cost after iteration 53: 0.702586\n",
            "epoch:  54\n",
            "Cost after iteration 54: 0.676453\n",
            "epoch:  55\n",
            "Cost after iteration 55: 0.690226\n",
            "epoch:  56\n",
            "Cost after iteration 56: 0.689270\n",
            "epoch:  57\n",
            "Cost after iteration 57: 0.692061\n",
            "epoch:  58\n",
            "Cost after iteration 58: 0.695709\n",
            "epoch:  59\n",
            "Cost after iteration 59: 0.711243\n",
            "epoch:  60\n",
            "Cost after iteration 60: 0.704911\n",
            "epoch:  61\n",
            "Cost after iteration 61: 0.684649\n",
            "epoch:  62\n",
            "Cost after iteration 62: 0.688667\n",
            "epoch:  63\n",
            "Cost after iteration 63: 0.689322\n",
            "epoch:  64\n",
            "Cost after iteration 64: 0.699748\n",
            "epoch:  65\n",
            "Cost after iteration 65: 0.684071\n",
            "epoch:  66\n",
            "Cost after iteration 66: 0.676245\n",
            "epoch:  67\n",
            "Cost after iteration 67: 0.689798\n",
            "epoch:  68\n",
            "Cost after iteration 68: 0.682623\n",
            "epoch:  69\n",
            "Cost after iteration 69: 0.689541\n",
            "epoch:  70\n",
            "Cost after iteration 70: 0.678993\n",
            "epoch:  71\n",
            "Cost after iteration 71: 0.663240\n",
            "epoch:  72\n",
            "Cost after iteration 72: 0.685731\n",
            "epoch:  73\n",
            "Cost after iteration 73: 0.696705\n",
            "epoch:  74\n",
            "Cost after iteration 74: 0.704359\n",
            "epoch:  75\n",
            "Cost after iteration 75: 0.661015\n",
            "epoch:  76\n",
            "Cost after iteration 76: 0.677015\n",
            "epoch:  77\n",
            "Cost after iteration 77: 0.706987\n",
            "epoch:  78\n",
            "Cost after iteration 78: 0.676713\n",
            "epoch:  79\n",
            "Cost after iteration 79: 0.687591\n",
            "epoch:  80\n",
            "Cost after iteration 80: 0.677877\n",
            "epoch:  81\n",
            "Cost after iteration 81: 0.674995\n",
            "epoch:  82\n",
            "Cost after iteration 82: 0.689171\n",
            "epoch:  83\n",
            "Cost after iteration 83: 0.684676\n",
            "epoch:  84\n",
            "Cost after iteration 84: 0.670666\n",
            "epoch:  85\n",
            "Cost after iteration 85: 0.699705\n",
            "epoch:  86\n",
            "Cost after iteration 86: 0.678892\n",
            "epoch:  87\n",
            "Cost after iteration 87: 0.669018\n",
            "epoch:  88\n",
            "Cost after iteration 88: 0.687006\n",
            "epoch:  89\n",
            "Cost after iteration 89: 0.670699\n",
            "epoch:  90\n",
            "Cost after iteration 90: 0.657480\n",
            "epoch:  91\n",
            "Cost after iteration 91: 0.655424\n",
            "epoch:  92\n",
            "Cost after iteration 92: 0.684596\n",
            "epoch:  93\n",
            "Cost after iteration 93: 0.690478\n",
            "epoch:  94\n",
            "Cost after iteration 94: 0.708027\n",
            "epoch:  95\n",
            "Cost after iteration 95: 0.682118\n",
            "epoch:  96\n",
            "Cost after iteration 96: 0.687571\n",
            "epoch:  97\n",
            "Cost after iteration 97: 0.668778\n",
            "epoch:  98\n",
            "Cost after iteration 98: 0.674490\n",
            "epoch:  99\n",
            "Cost after iteration 99: 0.672457\n"
          ]
        },
        {
          "output_type": "display_data",
          "data": {
            "text/plain": [
              "<Figure size 432x288 with 1 Axes>"
            ],
            "image/png": "[encoded data removed]"
          },
          "metadata": {
            "needs_background": "light"
          }
        }
      ],
      "source": [
        "# GRADED CODE: Binary classification\n",
        "### START CODE HERE ###\n",
        "learning_rate = 3e-5\n",
        "num_iterations = 100\n",
        "batch_size = 64\n",
        "print_cost = True\n",
        "classes = 2\n",
        "costs = []   # keep track of cost\n",
        "\n",
        "\n",
        "# build the model\n",
        "model=Model()\n",
        "model.add(Conv(filter_size=3, input_channel=1, output_channel=16, pad=0, stride=2))\n",
        "model.add(Activation(\"relu\"))\n",
        "model.add(MaxPool(filter_size=2, stride=2))\n",
        "model.add(Conv(filter_size=3, input_channel=16, output_channel=16, pad=0, stride=2))\n",
        "model.add(Activation(\"relu\"))\n",
        "\n",
        "model.add(Flatten())\n",
        "model.add(Dense(144, 32))\n",
        "model.add(Activation(\"relu\"))\n",
        "model.add(Dense(32, 1))\n",
        "model.add(Activation(\"sigmoid\"))\n",
        "\n",
        "# Loop (gradient descent)\n",
        "for i in range(0, num_iterations):\n",
        "    print(\"epoch: \",i)\n",
        "    mini_batches = random_mini_batches(X_train, y_train, batch_size)\n",
        "    j=0\n",
        "    for batch in mini_batches:\n",
        "        x_batch, y_batch = batch\n",
        "\n",
        "        # forward\n",
        "        AL = model.forward(x_batch)\n",
        "\n",
        "        # compute cost\n",
        "        if classes == 2:\n",
        "            cost = compute_BCE_cost(AL,y_batch)\n",
        "        else:\n",
        "            #cost = compute_CCE_cost(AL,y_batch)\n",
        "            pass\n",
        "\n",
        "        # backward\n",
        "        dA_prev = model.backward(AL,y_batch)\n",
        "\n",
        "        # update\n",
        "        model.update(learning_rate)\n",
        "    \n",
        "    print (\"Cost after iteration %i: %f\" %(i, cost))\n",
        "    costs.append(cost)\n",
        "### END CODE HERE ###\n",
        "            \n",
        "# plot the cost\n",
        "plt.plot(np.squeeze(costs))\n",
        "plt.ylabel('cost')\n",
        "plt.xlabel('iterations (per hundreds)')\n",
        "plt.title(\"Learning rate =\" + str(learning_rate))\n",
        "plt.show()\n"
      ]
    },
    {
      "cell_type": "code",
      "execution_count": 26,
      "metadata": {
        "id": "1hIZQOfGAPJJ",
        "colab": {
          "base_uri": "https://localhost:8080/"
        },
        "outputId": "5e527dcf-be41-4688-e59c-06fb78e1dd79"
      },
      "outputs": [
        {
          "output_type": "stream",
          "name": "stdout",
          "text": [
            "Accuracy: 58.93333333333333\n",
            "(1, 120) (1, 60)\n"
          ]
        }
      ],
      "source": [
        "\n",
        "pred_test = predict(X_test, None, model, 2)\n",
        "output[\"basic_pred_test\"] = pred_test[0].astype(int)\n",
        "\n",
        "basic_model_layers = []\n",
        "basic_model_parameters = []\n",
        "for layer in model.layers:\n",
        "    basic_model_layers.append(layer.name)\n",
        "    if(layer.name==\"conv\" or layer.name==\"dense\" or layer.name==\"maxpool\"):\n",
        "        basic_model_parameters.append(layer.parameters)\n",
        "output[\"basic_model_layers\"] = basic_model_layers\n",
        "output[\"basic_model_parameters\"] = basic_model_parameters\n",
        "\n",
        "q = predict(X_valid, y_valid, model, 2)\n",
        "print(q.shape,pred_test.shape)"
      ]
    },
    {
      "cell_type": "code",
      "source": [
        "print(output[\"basic_model_parameters\"])\n"
      ],
      "metadata": {
        "colab": {
          "base_uri": "https://localhost:8080/"
        },
        "id": "YjuSSJTG4KLc",
        "outputId": "b02660e0-2389-435e-c4c4-d9c1d4bc6616"
      },
      "execution_count": 27,
      "outputs": [
        {
          "output_type": "stream",
          "name": "stdout",
          "text": [
            "[{'pad': 0, 'stride': 2, 'W': array([[[[-0.08849354,  0.24616906, -0.59542789, -0.2274166 ,\n",
            "          -0.42121603, -0.47129867, -0.35761832, -0.18478426,\n",
            "          -0.13236728,  0.06360714, -0.09599491,  0.22037682,\n",
            "          -0.3520124 ,  0.45208803, -0.56166334,  0.20260112]],\n",
            "\n",
            "        [[-0.07980593,  0.04136954, -0.43182312, -0.35668733,\n",
            "           0.35310807,  0.5618476 , -0.21167094,  0.22499844,\n",
            "           0.44406743,  0.48247461, -0.49303119, -0.54001912,\n",
            "          -0.39322636,  0.45578353, -0.47739101, -0.09371141]],\n",
            "\n",
            "        [[ 0.56621671,  0.01099135,  0.21718831, -0.22257609,\n",
            "           0.21219322,  0.40165053, -0.56619535,  0.29009289,\n",
            "           0.58532926,  0.30091061, -0.26086259,  0.35874737,\n",
            "          -0.47250678, -0.04875097,  0.48453487, -0.24521906]]],\n",
            "\n",
            "\n",
            "       [[[-0.23786164, -0.45376927, -0.57262552,  0.21399882,\n",
            "          -0.34570585, -0.26451682, -0.00575736, -0.53168972,\n",
            "           0.07258033, -0.40545058,  0.10612009,  0.23664604,\n",
            "          -0.47477352, -0.10534695,  0.23086744, -0.10193   ]],\n",
            "\n",
            "        [[-0.51155492,  0.01518275,  0.1906001 ,  0.01532311,\n",
            "           0.52325762,  0.10975569,  0.4795772 , -0.4335288 ,\n",
            "          -0.4355165 ,  0.37552228, -0.12157368, -0.38962138,\n",
            "           0.50538364, -0.17561321,  0.29791273,  0.26854564]],\n",
            "\n",
            "        [[ 0.48088162,  0.11873783,  0.28762703, -0.18506266,\n",
            "          -0.28138259,  0.47568056, -0.08640499,  0.54590829,\n",
            "           0.19785589,  0.14925147, -0.45774009,  0.54941979,\n",
            "          -0.06280526,  0.10500319, -0.1097738 , -0.31245511]]],\n",
            "\n",
            "\n",
            "       [[[ 0.49857074,  0.07267055, -0.59229987,  0.13783469,\n",
            "          -0.21215758,  0.04456031,  0.45155058, -0.17049614,\n",
            "           0.46477402,  0.15741232, -0.57527835,  0.51003087,\n",
            "           0.22232029,  0.58307131, -0.3894324 , -0.43111949]],\n",
            "\n",
            "        [[ 0.5414817 ,  0.20654776, -0.51911651,  0.29846787,\n",
            "           0.29600366,  0.51013148,  0.243557  , -0.44871106,\n",
            "          -0.57929268, -0.55691057, -0.56042261, -0.29064039,\n",
            "           0.42276911,  0.04948568,  0.06268415,  0.40640649]],\n",
            "\n",
            "        [[-0.41801365, -0.28890919,  0.09197095,  0.54815268,\n",
            "           0.06608673, -0.5653187 ,  0.35091074, -0.32307787,\n",
            "           0.36696947, -0.12905599,  0.43205075,  0.31136727,\n",
            "           0.06101824, -0.4226122 , -0.52328107, -0.44990875]]]]), 'b': array([[[[ 0.02186932, -0.04262981, -0.02050233, -0.03713072,\n",
            "          -0.01308112, -0.03023821, -0.03856286, -0.01456564,\n",
            "          -0.0105265 ,  0.00927489,  0.0006784 ,  0.03340635,\n",
            "          -0.01594941,  0.02503383, -0.00377338,  0.00012135]]]])}, {'f': 2, 'stride': 2}, {'pad': 0, 'stride': 2, 'W': array([[[[-0.07120662,  0.19463537, -0.43550439, ...,  0.32224845,\n",
            "          -0.40978821,  0.14230138],\n",
            "         [-0.07202873,  0.05115487, -0.31282599, ...,  0.32697587,\n",
            "          -0.34794747, -0.06842901],\n",
            "         [ 0.39634625,  0.02888733,  0.16613361, ..., -0.0451439 ,\n",
            "           0.35384456, -0.17879625],\n",
            "         ...,\n",
            "         [ 0.36713983,  0.36579112, -0.090251  , ..., -0.15390391,\n",
            "          -0.32031541,  0.26101657],\n",
            "         [-0.13445688,  0.3811391 ,  0.07102677, ...,  0.08095727,\n",
            "          -0.05744526,  0.26618063],\n",
            "         [-0.16000244,  0.3402516 ,  0.06742655, ...,  0.41030858,\n",
            "           0.09068675,  0.28478882]],\n",
            "\n",
            "        [[ 0.07324457,  0.11038677, -0.18739105, ..., -0.07992664,\n",
            "          -0.0859784 , -0.16084841],\n",
            "         [ 0.10593774, -0.06029616,  0.40910732, ...,  0.30727235,\n",
            "           0.02384737,  0.26173569],\n",
            "         [ 0.06276589,  0.20192431,  0.01644532, ...,  0.32472631,\n",
            "           0.1631711 ,  0.06017891],\n",
            "         ...,\n",
            "         [ 0.2807673 , -0.16238334,  0.40817278, ...,  0.33361086,\n",
            "          -0.41040803,  0.0133726 ],\n",
            "         [-0.15069724,  0.31132688,  0.05067682, ..., -0.21876145,\n",
            "          -0.11146287,  0.3740027 ],\n",
            "         [ 0.37833947,  0.29819848,  0.36391023, ..., -0.22485879,\n",
            "           0.06427562, -0.13078058]],\n",
            "\n",
            "        [[-0.37839963, -0.23303506,  0.13822025, ..., -0.40740771,\n",
            "          -0.35247002, -0.37863593],\n",
            "         [-0.04149844, -0.10737208,  0.41041944, ...,  0.19920359,\n",
            "          -0.02731567, -0.0368435 ],\n",
            "         [-0.31380172, -0.42358484,  0.22369467, ...,  0.15055766,\n",
            "           0.23395591, -0.32013271],\n",
            "         ...,\n",
            "         [-0.04775617,  0.35668166,  0.09374858, ..., -0.21683785,\n",
            "           0.17287238,  0.03298541],\n",
            "         [ 0.38870363,  0.10767874,  0.2926975 , ...,  0.26213681,\n",
            "          -0.01917207, -0.31667205],\n",
            "         [ 0.3705281 ,  0.34292005, -0.00732211, ..., -0.42080842,\n",
            "           0.18701446,  0.05585718]]],\n",
            "\n",
            "\n",
            "       [[[ 0.25609628,  0.00811767,  0.25329592, ...,  0.40567662,\n",
            "          -0.15626915,  0.4154284 ],\n",
            "         [ 0.11751398, -0.10757171,  0.30775449, ...,  0.03767209,\n",
            "          -0.01056756,  0.30754255],\n",
            "         [ 0.33617649, -0.27350836,  0.07391497, ..., -0.13596686,\n",
            "           0.24225919, -0.28168707],\n",
            "         ...,\n",
            "         [-0.14833026,  0.04540072, -0.23873088, ...,  0.38231585,\n",
            "           0.26976883, -0.19248822],\n",
            "         [ 0.02413066, -0.13908503,  0.04734887, ..., -0.25048529,\n",
            "          -0.39709428, -0.15429824],\n",
            "         [-0.40087219,  0.16788371,  0.14752746, ...,  0.10172422,\n",
            "          -0.05858177,  0.30111744]],\n",
            "\n",
            "        [[-0.02910405, -0.41958816,  0.32601148, ..., -0.32927105,\n",
            "           0.2356931 ,  0.29436169],\n",
            "         [-0.39506172, -0.01194283, -0.22646326, ..., -0.3771649 ,\n",
            "           0.3206549 ,  0.17445657],\n",
            "         [ 0.090886  ,  0.20123323, -0.21351687, ..., -0.06783929,\n",
            "          -0.3772146 ,  0.34379686],\n",
            "         ...,\n",
            "         [-0.11968041,  0.41322155, -0.33007407, ...,  0.16691735,\n",
            "          -0.02643511,  0.28098868],\n",
            "         [-0.00361445, -0.11822227, -0.19433341, ...,  0.29184864,\n",
            "           0.21142791,  0.07839309],\n",
            "         [-0.22266243,  0.10673516,  0.11981922, ..., -0.22147157,\n",
            "          -0.36430088, -0.17072972]],\n",
            "\n",
            "        [[ 0.21341335,  0.10385013,  0.14596782, ...,  0.23702062,\n",
            "           0.03987785,  0.27206427],\n",
            "         [-0.01397044,  0.07808545,  0.2474971 , ...,  0.16346286,\n",
            "          -0.08329182, -0.31505869],\n",
            "         [-0.04274418, -0.14339701, -0.24424607, ..., -0.37099638,\n",
            "           0.41454281, -0.22829807],\n",
            "         ...,\n",
            "         [-0.17395987, -0.19378042,  0.04545186, ...,  0.10790478,\n",
            "           0.13928321, -0.05881149],\n",
            "         [-0.38160784, -0.00630241, -0.03019489, ..., -0.31279407,\n",
            "           0.37685365,  0.33648733],\n",
            "         [-0.18250576,  0.38777506,  0.30304873, ...,  0.24266234,\n",
            "          -0.30675881, -0.22093985]]],\n",
            "\n",
            "\n",
            "       [[[-0.17806281, -0.26256037, -0.3562428 , ...,  0.25525337,\n",
            "           0.26428369,  0.31706964],\n",
            "         [ 0.14640309,  0.26648087,  0.34335306, ..., -0.27884189,\n",
            "           0.40676266,  0.20952881],\n",
            "         [-0.20838622,  0.06995483,  0.39384415, ..., -0.07821764,\n",
            "          -0.3574569 , -0.11181012],\n",
            "         ...,\n",
            "         [ 0.19498502, -0.39026795,  0.37060215, ..., -0.40586294,\n",
            "          -0.39139959, -0.30490839],\n",
            "         [-0.09057969,  0.39430442, -0.3370097 , ..., -0.33777064,\n",
            "           0.37994189,  0.30106139],\n",
            "         [ 0.13772892, -0.10493529, -0.07225533, ...,  0.36202314,\n",
            "           0.29163583,  0.04508172]],\n",
            "\n",
            "        [[ 0.32690715,  0.3081204 ,  0.26780425, ...,  0.34084218,\n",
            "          -0.42350017, -0.10608878],\n",
            "         [-0.22859291, -0.17669341,  0.20566441, ...,  0.1344637 ,\n",
            "           0.39857015, -0.42980967],\n",
            "         [ 0.19351615, -0.33872622,  0.03798568, ..., -0.2139233 ,\n",
            "           0.129442  ,  0.18695147],\n",
            "         ...,\n",
            "         [ 0.07016945,  0.32944735,  0.09228218, ..., -0.26228546,\n",
            "          -0.37587731, -0.26264166],\n",
            "         [-0.19710665,  0.08555371,  0.32309979, ..., -0.3417469 ,\n",
            "          -0.18625423,  0.2328334 ],\n",
            "         [ 0.1219214 ,  0.26096004,  0.01482682, ..., -0.28344917,\n",
            "          -0.15384293, -0.21787099]],\n",
            "\n",
            "        [[ 0.00229902,  0.28671021,  0.30424088, ..., -0.31188497,\n",
            "           0.30393369, -0.3446947 ],\n",
            "         [-0.23911207, -0.40431293,  0.15193906, ..., -0.06606952,\n",
            "          -0.19762989, -0.17219873],\n",
            "         [ 0.14932077,  0.01540375, -0.26839249, ...,  0.41727219,\n",
            "          -0.31791252, -0.18752703],\n",
            "         ...,\n",
            "         [-0.14297571, -0.32159441,  0.39824572, ..., -0.43062975,\n",
            "          -0.20148932,  0.25477286],\n",
            "         [ 0.37238494,  0.10853996, -0.31799805, ...,  0.36633138,\n",
            "           0.34820803, -0.09028292],\n",
            "         [-0.36024814,  0.28541921,  0.03371571, ...,  0.00814807,\n",
            "           0.33413262,  0.05654251]]]]), 'b': array([[[[ 3.21911939e-03,  8.29069384e-03, -1.07302025e-02,\n",
            "           8.03316416e-05, -2.80096202e-03, -1.44903921e-03,\n",
            "          -8.99137411e-03, -2.29590079e-02, -6.47827698e-03,\n",
            "          -2.16020037e-03,  4.18984787e-03,  7.98018603e-03,\n",
            "           0.00000000e+00, -1.24472934e-02, -1.05127477e-03,\n",
            "          -3.65407267e-03]]]])}]\n"
          ]
        }
      ]
    },
    {
      "cell_type": "markdown",
      "metadata": {
        "id": "rrrYp1RwSIOh"
      },
      "source": [
        "# 8. Advanced implementation\n",
        "In this part, you will practice how to build a model by **Tensorflow**, and you finally can use GPU to accelerate the training process☺️. You can import any packages in the advanced part.\n",
        "\n",
        "**Exercise**: Implement a binary classifier by Tensorflow. You will get 15% if your prediction achieves accuracy greater than 0.7 in testing data. The rest 10% will be graded by your rank.\n",
        "\n",
        "Except you have to build the model by Tensorflow, there is no limitation in this part. You can try different model architectures, optimization parametes and image augmentation methods to get good performance.\n",
        "\n"
      ]
    },
    {
      "cell_type": "code",
      "execution_count": 28,
      "metadata": {
        "id": "PDyxdy9Jk982"
      },
      "outputs": [],
      "source": [
        "# import some tensorflow packages to help you build the model\n",
        "import tensorflow as tf\n",
        "from tensorflow.keras import layers, models\n",
        "from tensorflow.keras.utils import to_categorical\n",
        "from tensorflow.keras.models import Sequential\n",
        "from tensorflow.keras.layers import Dense, Activation, Flatten\n",
        "from tensorflow.keras.layers import Conv2D, MaxPooling2D\n",
        "from tensorflow.keras.optimizers import SGD\n",
        "\n",
        "# import other packages here"
      ]
    },
    {
      "cell_type": "code",
      "execution_count": 29,
      "metadata": {
        "id": "hhAjQTjPk-I0",
        "colab": {
          "base_uri": "https://localhost:8080/"
        },
        "outputId": "a2512e67-8415-4515-9da5-2292d11b70b2"
      },
      "outputs": [
        {
          "output_type": "stream",
          "name": "stdout",
          "text": [
            "(1, 600)\n"
          ]
        }
      ],
      "source": [
        "# GRADED CODE: Advanced implementation\n",
        "### Data preprocess & augmentation ###\n",
        "print(y_train.shape)\n",
        "y_train=y_train.reshape(600,)\n",
        "IMG_SIZE = 32\n",
        "\n",
        "epochs = 5\n",
        "step_size = 8\n",
        "IMG_SIZE_ALEXNET = 227\n",
        "validating_size = 40\n",
        "nodes_fc1 = 4096\n",
        "nodes_fc2 = 4096\n",
        "output_classes = 2\n",
        "#You may have to adjust the shape of y_train"
      ]
    },
    {
      "cell_type": "code",
      "execution_count": 30,
      "metadata": {
        "id": "PgL3loUQk-LO",
        "colab": {
          "base_uri": "https://localhost:8080/"
        },
        "outputId": "2ee09e06-a4ab-4c96-f03d-b8d024c8ca7a"
      },
      "outputs": [
        {
          "output_type": "stream",
          "name": "stdout",
          "text": [
            "Epoch 1/100\n",
            "19/19 [==============================] - 2s 41ms/step - loss: 0.6859 - accuracy: 0.6100\n",
            "Epoch 2/100\n",
            "19/19 [==============================] - 1s 40ms/step - loss: 0.6363 - accuracy: 0.6983\n",
            "Epoch 3/100\n",
            "19/19 [==============================] - 1s 40ms/step - loss: 0.5519 - accuracy: 0.7467\n",
            "Epoch 4/100\n",
            "19/19 [==============================] - 1s 38ms/step - loss: 0.5037 - accuracy: 0.7683\n",
            "Epoch 5/100\n",
            "19/19 [==============================] - 1s 38ms/step - loss: 0.4964 - accuracy: 0.7883\n",
            "Epoch 6/100\n",
            "19/19 [==============================] - 1s 42ms/step - loss: 0.4764 - accuracy: 0.7933\n",
            "Epoch 7/100\n",
            "19/19 [==============================] - 1s 40ms/step - loss: 0.4636 - accuracy: 0.7950\n",
            "Epoch 8/100\n",
            "19/19 [==============================] - 1s 39ms/step - loss: 0.4669 - accuracy: 0.8083\n",
            "Epoch 9/100\n",
            "19/19 [==============================] - 1s 39ms/step - loss: 0.4587 - accuracy: 0.8033\n",
            "Epoch 10/100\n",
            "19/19 [==============================] - 1s 38ms/step - loss: 0.4412 - accuracy: 0.8217\n",
            "Epoch 11/100\n",
            "19/19 [==============================] - 1s 40ms/step - loss: 0.4441 - accuracy: 0.8117\n",
            "Epoch 12/100\n",
            "19/19 [==============================] - 1s 42ms/step - loss: 0.4417 - accuracy: 0.8083\n",
            "Epoch 13/100\n",
            "19/19 [==============================] - 1s 37ms/step - loss: 0.4744 - accuracy: 0.7850\n",
            "Epoch 14/100\n",
            "19/19 [==============================] - 1s 39ms/step - loss: 0.4563 - accuracy: 0.8033\n",
            "Epoch 15/100\n",
            "19/19 [==============================] - 1s 39ms/step - loss: 0.4410 - accuracy: 0.7983\n",
            "Epoch 16/100\n",
            "19/19 [==============================] - 1s 39ms/step - loss: 0.4401 - accuracy: 0.8017\n",
            "Epoch 17/100\n",
            "19/19 [==============================] - 1s 39ms/step - loss: 0.4307 - accuracy: 0.8217\n",
            "Epoch 18/100\n",
            "19/19 [==============================] - 1s 39ms/step - loss: 0.4231 - accuracy: 0.8167\n",
            "Epoch 19/100\n",
            "19/19 [==============================] - 1s 40ms/step - loss: 0.4244 - accuracy: 0.8017\n",
            "Epoch 20/100\n",
            "19/19 [==============================] - 1s 40ms/step - loss: 0.4098 - accuracy: 0.8317\n",
            "Epoch 21/100\n",
            "19/19 [==============================] - 1s 37ms/step - loss: 0.3909 - accuracy: 0.8367\n",
            "Epoch 22/100\n",
            "19/19 [==============================] - 1s 38ms/step - loss: 0.3931 - accuracy: 0.8383\n",
            "Epoch 23/100\n",
            "19/19 [==============================] - 1s 38ms/step - loss: 0.3811 - accuracy: 0.8383\n",
            "Epoch 24/100\n",
            "19/19 [==============================] - 1s 37ms/step - loss: 0.3775 - accuracy: 0.8317\n",
            "Epoch 25/100\n",
            "19/19 [==============================] - 1s 40ms/step - loss: 0.3742 - accuracy: 0.8317\n",
            "Epoch 26/100\n",
            "19/19 [==============================] - 1s 39ms/step - loss: 0.3715 - accuracy: 0.8433\n",
            "Epoch 27/100\n",
            "19/19 [==============================] - 1s 37ms/step - loss: 0.3907 - accuracy: 0.8150\n",
            "Epoch 28/100\n",
            "19/19 [==============================] - 1s 37ms/step - loss: 0.4220 - accuracy: 0.8150\n",
            "Epoch 29/100\n",
            "19/19 [==============================] - 1s 38ms/step - loss: 0.4460 - accuracy: 0.8017\n",
            "Epoch 30/100\n",
            "19/19 [==============================] - 1s 39ms/step - loss: 0.3824 - accuracy: 0.8283\n",
            "Epoch 31/100\n",
            "19/19 [==============================] - 1s 36ms/step - loss: 0.3798 - accuracy: 0.8233\n",
            "Epoch 32/100\n",
            "19/19 [==============================] - 1s 40ms/step - loss: 0.3514 - accuracy: 0.8467\n",
            "Epoch 33/100\n",
            "19/19 [==============================] - 1s 38ms/step - loss: 0.3496 - accuracy: 0.8383\n",
            "Epoch 34/100\n",
            "19/19 [==============================] - 1s 40ms/step - loss: 0.3456 - accuracy: 0.8500\n",
            "Epoch 35/100\n",
            "19/19 [==============================] - 1s 38ms/step - loss: 0.3512 - accuracy: 0.8533\n",
            "Epoch 36/100\n",
            "19/19 [==============================] - 1s 38ms/step - loss: 0.3394 - accuracy: 0.8533\n",
            "Epoch 37/100\n",
            "19/19 [==============================] - 1s 38ms/step - loss: 0.3292 - accuracy: 0.8617\n",
            "Epoch 38/100\n",
            "19/19 [==============================] - 1s 38ms/step - loss: 0.3267 - accuracy: 0.8633\n",
            "Epoch 39/100\n",
            "19/19 [==============================] - 1s 39ms/step - loss: 0.3214 - accuracy: 0.8550\n",
            "Epoch 40/100\n",
            "19/19 [==============================] - 1s 39ms/step - loss: 0.3137 - accuracy: 0.8767\n",
            "Epoch 41/100\n",
            "19/19 [==============================] - 1s 39ms/step - loss: 0.3339 - accuracy: 0.8467\n",
            "Epoch 42/100\n",
            "19/19 [==============================] - 1s 38ms/step - loss: 0.3321 - accuracy: 0.8617\n",
            "Epoch 43/100\n",
            "19/19 [==============================] - 1s 39ms/step - loss: 0.3061 - accuracy: 0.8783\n",
            "Epoch 44/100\n",
            "19/19 [==============================] - 1s 40ms/step - loss: 0.2908 - accuracy: 0.8883\n",
            "Epoch 45/100\n",
            "19/19 [==============================] - 1s 38ms/step - loss: 0.2895 - accuracy: 0.8783\n",
            "Epoch 46/100\n",
            "19/19 [==============================] - 1s 38ms/step - loss: 0.2879 - accuracy: 0.8800\n",
            "Epoch 47/100\n",
            "19/19 [==============================] - 1s 38ms/step - loss: 0.3006 - accuracy: 0.8767\n",
            "Epoch 48/100\n",
            "19/19 [==============================] - 1s 40ms/step - loss: 0.2884 - accuracy: 0.8767\n",
            "Epoch 49/100\n",
            "19/19 [==============================] - 1s 37ms/step - loss: 0.2852 - accuracy: 0.8700\n",
            "Epoch 50/100\n",
            "19/19 [==============================] - 1s 38ms/step - loss: 0.2707 - accuracy: 0.8867\n",
            "Epoch 51/100\n",
            "19/19 [==============================] - 1s 38ms/step - loss: 0.2520 - accuracy: 0.9000\n",
            "Epoch 52/100\n",
            "19/19 [==============================] - 1s 38ms/step - loss: 0.2525 - accuracy: 0.8983\n",
            "Epoch 53/100\n",
            "19/19 [==============================] - 1s 38ms/step - loss: 0.2428 - accuracy: 0.9050\n",
            "Epoch 54/100\n",
            "19/19 [==============================] - 1s 38ms/step - loss: 0.2343 - accuracy: 0.9067\n",
            "Epoch 55/100\n",
            "19/19 [==============================] - 1s 39ms/step - loss: 0.2533 - accuracy: 0.8917\n",
            "Epoch 56/100\n",
            "19/19 [==============================] - 1s 39ms/step - loss: 0.2535 - accuracy: 0.9000\n",
            "Epoch 57/100\n",
            "19/19 [==============================] - 1s 39ms/step - loss: 0.2655 - accuracy: 0.8867\n",
            "Epoch 58/100\n",
            "19/19 [==============================] - 1s 39ms/step - loss: 0.2295 - accuracy: 0.9033\n",
            "Epoch 59/100\n",
            "19/19 [==============================] - 1s 40ms/step - loss: 0.2163 - accuracy: 0.9083\n",
            "Epoch 60/100\n",
            "19/19 [==============================] - 1s 40ms/step - loss: 0.2105 - accuracy: 0.9267\n",
            "Epoch 61/100\n",
            "19/19 [==============================] - 1s 38ms/step - loss: 0.2335 - accuracy: 0.9167\n",
            "Epoch 62/100\n",
            "19/19 [==============================] - 1s 41ms/step - loss: 0.2069 - accuracy: 0.9183\n",
            "Epoch 63/100\n",
            "19/19 [==============================] - 1s 37ms/step - loss: 0.1935 - accuracy: 0.9300\n",
            "Epoch 64/100\n",
            "19/19 [==============================] - 1s 40ms/step - loss: 0.1882 - accuracy: 0.9300\n",
            "Epoch 65/100\n",
            "19/19 [==============================] - 1s 39ms/step - loss: 0.1849 - accuracy: 0.9300\n",
            "Epoch 66/100\n",
            "19/19 [==============================] - 1s 42ms/step - loss: 0.1938 - accuracy: 0.9250\n",
            "Epoch 67/100\n",
            "19/19 [==============================] - 1s 38ms/step - loss: 0.1938 - accuracy: 0.9233\n",
            "Epoch 68/100\n",
            "19/19 [==============================] - 1s 38ms/step - loss: 0.1914 - accuracy: 0.9217\n",
            "Epoch 69/100\n",
            "19/19 [==============================] - 1s 39ms/step - loss: 0.1709 - accuracy: 0.9367\n",
            "Epoch 70/100\n",
            "19/19 [==============================] - 1s 39ms/step - loss: 0.1616 - accuracy: 0.9350\n",
            "Epoch 71/100\n",
            "19/19 [==============================] - 1s 39ms/step - loss: 0.1668 - accuracy: 0.9383\n",
            "Epoch 72/100\n",
            "19/19 [==============================] - 1s 40ms/step - loss: 0.2738 - accuracy: 0.8733\n",
            "Epoch 73/100\n",
            "19/19 [==============================] - 1s 39ms/step - loss: 0.1997 - accuracy: 0.9217\n",
            "Epoch 74/100\n",
            "19/19 [==============================] - 1s 41ms/step - loss: 0.1598 - accuracy: 0.9433\n",
            "Epoch 75/100\n",
            "19/19 [==============================] - 1s 42ms/step - loss: 0.1526 - accuracy: 0.9417\n",
            "Epoch 76/100\n",
            "19/19 [==============================] - 1s 40ms/step - loss: 0.1704 - accuracy: 0.9333\n",
            "Epoch 77/100\n",
            "19/19 [==============================] - 1s 41ms/step - loss: 0.1480 - accuracy: 0.9533\n",
            "Epoch 78/100\n",
            "19/19 [==============================] - 1s 39ms/step - loss: 0.1570 - accuracy: 0.9350\n",
            "Epoch 79/100\n",
            "19/19 [==============================] - 1s 39ms/step - loss: 0.1472 - accuracy: 0.9417\n",
            "Epoch 80/100\n",
            "19/19 [==============================] - 1s 40ms/step - loss: 0.1277 - accuracy: 0.9600\n",
            "Epoch 81/100\n",
            "19/19 [==============================] - 1s 41ms/step - loss: 0.1505 - accuracy: 0.9450\n",
            "Epoch 82/100\n",
            "19/19 [==============================] - 1s 41ms/step - loss: 0.1401 - accuracy: 0.9600\n",
            "Epoch 83/100\n",
            "19/19 [==============================] - 1s 39ms/step - loss: 0.1380 - accuracy: 0.9433\n",
            "Epoch 84/100\n",
            "19/19 [==============================] - 1s 40ms/step - loss: 0.1113 - accuracy: 0.9617\n",
            "Epoch 85/100\n",
            "19/19 [==============================] - 1s 41ms/step - loss: 0.1211 - accuracy: 0.9567\n",
            "Epoch 86/100\n",
            "19/19 [==============================] - 1s 40ms/step - loss: 0.1093 - accuracy: 0.9600\n",
            "Epoch 87/100\n",
            "19/19 [==============================] - 1s 39ms/step - loss: 0.1040 - accuracy: 0.9750\n",
            "Epoch 88/100\n",
            "19/19 [==============================] - 1s 41ms/step - loss: 0.0984 - accuracy: 0.9700\n",
            "Epoch 89/100\n",
            "19/19 [==============================] - 1s 43ms/step - loss: 0.1023 - accuracy: 0.9650\n",
            "Epoch 90/100\n",
            "19/19 [==============================] - 1s 41ms/step - loss: 0.1159 - accuracy: 0.9550\n",
            "Epoch 91/100\n",
            "19/19 [==============================] - 1s 41ms/step - loss: 0.1016 - accuracy: 0.9700\n",
            "Epoch 92/100\n",
            "19/19 [==============================] - 1s 42ms/step - loss: 0.0987 - accuracy: 0.9650\n",
            "Epoch 93/100\n",
            "19/19 [==============================] - 1s 39ms/step - loss: 0.1010 - accuracy: 0.9667\n",
            "Epoch 94/100\n",
            "19/19 [==============================] - 1s 39ms/step - loss: 0.0873 - accuracy: 0.9767\n",
            "Epoch 95/100\n",
            "19/19 [==============================] - 1s 39ms/step - loss: 0.0818 - accuracy: 0.9733\n",
            "Epoch 96/100\n",
            "19/19 [==============================] - 1s 40ms/step - loss: 0.0721 - accuracy: 0.9783\n",
            "Epoch 97/100\n",
            "19/19 [==============================] - 1s 40ms/step - loss: 0.0695 - accuracy: 0.9850\n",
            "Epoch 98/100\n",
            "19/19 [==============================] - 1s 42ms/step - loss: 0.0673 - accuracy: 0.9867\n",
            "Epoch 99/100\n",
            "19/19 [==============================] - 1s 42ms/step - loss: 0.0623 - accuracy: 0.9850\n",
            "Epoch 100/100\n",
            "19/19 [==============================] - 1s 38ms/step - loss: 0.0666 - accuracy: 0.9817\n",
            "Model: \"sequential\"\n",
            "_________________________________________________________________\n",
            " Layer (type)                Output Shape              Param #   \n",
            "=================================================================\n",
            " conv2d (Conv2D)             (None, 30, 30, 32)        320       \n",
            "                                                                 \n",
            " max_pooling2d (MaxPooling2D  (None, 15, 15, 32)       0         \n",
            " )                                                               \n",
            "                                                                 \n",
            " conv2d_1 (Conv2D)           (None, 13, 13, 32)        9248      \n",
            "                                                                 \n",
            " max_pooling2d_1 (MaxPooling  (None, 6, 6, 32)         0         \n",
            " 2D)                                                             \n",
            "                                                                 \n",
            " flatten (Flatten)           (None, 1152)              0         \n",
            "                                                                 \n",
            " dense (Dense)               (None, 128)               147584    \n",
            "                                                                 \n",
            " dense_1 (Dense)             (None, 1)                 129       \n",
            "                                                                 \n",
            "=================================================================\n",
            "Total params: 157,281\n",
            "Trainable params: 157,281\n",
            "Non-trainable params: 0\n",
            "_________________________________________________________________\n"
          ]
        }
      ],
      "source": [
        "# GRADED CODE: Advanced implementation\n",
        "### Start training ###\n",
        "cnn = tf.keras.models.Sequential()\n",
        "\n",
        "cnn.add(tf.keras.layers.Conv2D(filters = 32, kernel_size = 3, activation = 'relu', input_shape=[32,32,1]))\n",
        "\n",
        "\n",
        "cnn.add(tf.keras.layers.MaxPool2D(pool_size=2 ,strides=2))\n",
        "\n",
        "cnn.add(tf.keras.layers.Conv2D(filters = 32, kernel_size = 3, activation = 'relu'))\n",
        "cnn.add(tf.keras.layers.MaxPool2D(pool_size=2 ,strides=2))\n",
        "\n",
        "\n",
        "cnn.add(tf.keras.layers.Flatten())\n",
        "\n",
        "\n",
        "cnn.add(tf.keras.layers.Dense(units = 128, activation = 'relu'))\n",
        "\n",
        "cnn.add(tf.keras.layers.Dense(units = 1, activation = 'sigmoid'))\n",
        "\n",
        "cnn.compile(optimizer = 'adam', loss = 'binary_crossentropy', metrics = ['accuracy'])\n",
        "history = cnn.fit(X_train,y_train, epochs = 100)\n",
        "cnn.summary()"
      ]
    },
    {
      "cell_type": "code",
      "execution_count": 31,
      "metadata": {
        "id": "pObMJ67hk-Ov",
        "colab": {
          "base_uri": "https://localhost:8080/"
        },
        "outputId": "dc4bcd16-fc84-492c-9ae2-0fa89cce774d"
      },
      "outputs": [
        {
          "output_type": "stream",
          "name": "stdout",
          "text": [
            "4/4 [==============================] - 0s 12ms/step\n",
            "(1, 120)\n",
            "[[0 1 0 1 1 1 0 1 1 0 0 0 1 1 0 1 1 1 0 1 1 1 0 0 0 1 1 1 0 0 0 1 0 0 1 0\n",
            "  1 1 1 0 0 1 1 0 1 1 1 1 1 1 1 1 0 0 0 1 0 0 1 1 1 0 0 1 1 0 1 1 1 0 0 1\n",
            "  1 0 1 1 0 0 0 0 0 1 0 1 1 0 1 1 1 0 0 1 0 1 1 0 0 0 0 1 1 0 0 0 1 0 0 1\n",
            "  1 1 0 0 0 1 1 0 0 0 0 0]]\n",
            "Accuracy: 0.9833333333333332\n"
          ]
        }
      ],
      "source": [
        "pred_valid = cnn.predict(X_valid) #(120,1)\n",
        "l=[]\n",
        "y= y_valid #(120,1)\n",
        "\n",
        "for i in pred_valid:\n",
        "  if i[0]>0.5:\n",
        "    l.append(1)\n",
        "  else:\n",
        "    l.append(0)\n",
        "l = np.array(l) #(120,)\n",
        "l = l.reshape(-1,1) #(120,1)\n",
        "pred_valid = l.reshape(1,-1) #(1,120)\n",
        "#pred_test = np.argmax(pred_test, axis = 1)\n",
        "\n",
        "print(pred_valid.shape)\n",
        "print(pred_valid)\n",
        "\n",
        "\n",
        "print(\"Accuracy: \"  + str(np.sum((y == l)/pred_valid.shape[1])))\n"
      ]
    },
    {
      "cell_type": "code",
      "source": [
        "pred_test = cnn.predict(X_test)\n",
        "pred_ans=[]\n",
        "\n",
        "for i in pred_test:\n",
        "  if i[0]>0.5:\n",
        "    pred_ans.append(1)\n",
        "  else:\n",
        "    pred_ans.append(0)\n",
        "pred_ans = np.array(pred_ans)\n",
        "pred_test = pred_ans.reshape(1,-1) \n",
        "#pred_test = np.argmax(pred_test, axis = 1)\n",
        "output[\"advanced_pred_test\"] = pred_test\n",
        "\n",
        "print(pred_test.shape)\n",
        "print(pred_test)\n",
        "plt.plot(history.epoch, history.history[\"loss\"], 'g', label='Training loss')\n",
        "plt.title('Training loss')\n",
        "plt.xlabel('Epochs')\n",
        "plt.ylabel('Loss')\n",
        "plt.legend()\n",
        "plt.show()\n"
      ],
      "metadata": {
        "colab": {
          "base_uri": "https://localhost:8080/",
          "height": 364
        },
        "id": "yWcDU9ImbHW1",
        "outputId": "af69e2a8-2239-4b4b-e8b7-baba2bfea5bc"
      },
      "execution_count": 32,
      "outputs": [
        {
          "output_type": "stream",
          "name": "stdout",
          "text": [
            "2/2 [==============================] - 0s 17ms/step\n",
            "(1, 60)\n",
            "[[1 1 1 1 1 1 1 0 1 0 0 1 1 0 0 0 1 1 1 1 1 0 1 1 0 1 1 0 1 1 0 1 0 0 0 0\n",
            "  1 0 0 0 0 0 1 1 0 1 0 0 0 1 1 0 1 1 1 0 0 0 0 1]]\n"
          ]
        },
        {
          "output_type": "display_data",
          "data": {
            "text/plain": [
              "<Figure size 432x288 with 1 Axes>"
            ],
            "image/png": "[encoded data removed]"
          },
          "metadata": {
            "needs_background": "light"
          }
        }
      ]
    },
    {
      "cell_type": "markdown",
      "metadata": {
        "id": "WXGnS3HQeNUc"
      },
      "source": [
        "# Submit prediction"
      ]
    },
    {
      "cell_type": "code",
      "execution_count": 33,
      "metadata": {
        "id": "twMsmXbQeDL_"
      },
      "outputs": [],
      "source": [
        "# sanity check\n",
        "assert(list(output.keys()) == ['conv_initialization', 'zero_padding', 'conv_single_step', 'conv_forward_1', 'conv_forward_2', 'conv_forward_3', 'conv_update_1', 'conv_update_2', 'maxpool_forward', 'flatten_forward', 'flatten_backward', 'model_1', 'model_2', 'model_3', 'model_4', 'basic_pred_test', 'basic_model_layers', 'basic_model_parameters', 'advanced_pred_test'])"
      ]
    },
    {
      "cell_type": "code",
      "execution_count": 34,
      "metadata": {
        "id": "bCJ0XTO_zE8A"
      },
      "outputs": [],
      "source": [
        "np.save(\"hw4_output.npy\", output)"
      ]
    },
    {
      "cell_type": "code",
      "execution_count": 35,
      "metadata": {
        "id": "wFBFUUEg1to-",
        "colab": {
          "base_uri": "https://localhost:8080/"
        },
        "outputId": "4373ba5b-32a6-4b0d-fd1c-5ac8958295fa"
      },
      "outputs": [
        {
          "output_type": "stream",
          "name": "stdout",
          "text": [
            "conv_initialization： <class 'numpy.ndarray'>\n",
            "zero_padding： <class 'numpy.ndarray'>\n",
            "conv_single_step： <class 'numpy.float64'>\n",
            "conv_forward_1： <class 'numpy.float64'>\n",
            "conv_forward_2： <class 'numpy.ndarray'>\n",
            "conv_forward_3： <class 'numpy.ndarray'>\n",
            "conv_update_1： <class 'numpy.ndarray'>\n",
            "conv_update_2： <class 'numpy.ndarray'>\n",
            "maxpool_forward： <class 'numpy.ndarray'>\n",
            "flatten_forward： <class 'numpy.ndarray'>\n",
            "flatten_backward： <class 'numpy.ndarray'>\n",
            "model_1： <class 'numpy.ndarray'>\n",
            "model_2： <class 'numpy.ndarray'>\n",
            "model_3： <class 'numpy.ndarray'>\n",
            "model_4： <class 'numpy.ndarray'>\n",
            "basic_pred_test： <class 'numpy.ndarray'>\n",
            "basic_model_layers： <class 'list'>\n",
            "basic_model_parameters： <class 'list'>\n",
            "advanced_pred_test： <class 'numpy.ndarray'>\n"
          ]
        }
      ],
      "source": [
        "# sanity check\n",
        "submit = np.load(\"hw4_output.npy\", allow_pickle=True).item()\n",
        "for key, value in submit.items():\n",
        "    print(str(key) + \"： \" + str(type(value)))"
      ]
    },
    {
      "cell_type": "markdown",
      "metadata": {
        "id": "MBkBtZHxIh8Z"
      },
      "source": [
        "Expected output:<br>\n",
        "<small>\n",
        "conv_initialization： <class 'numpy.ndarray'> <br>\n",
        "zero_padding： <class 'numpy.ndarray'> <br>\n",
        "conv_single_step： <class 'numpy.float64'> <br>\n",
        "conv_forward_1： <class 'numpy.float64'> <br>\n",
        "conv_forward_2： <class 'numpy.ndarray'> <br>\n",
        "conv_forward_3： <class 'numpy.ndarray'> <br>\n",
        "conv_update_1： <class 'numpy.ndarray'> <br>\n",
        "conv_update_2： <class 'numpy.ndarray'> <br>\n",
        "maxpool_forward： <class 'numpy.ndarray'> <br>\n",
        "flatten_forward： <class 'numpy.ndarray'> <br>\n",
        "flatten_backward： <class 'numpy.ndarray'> <br>\n",
        "model_1： <class 'numpy.ndarray'> <br>\n",
        "model_2： <class 'numpy.ndarray'> <br>\n",
        "model_3： <class 'numpy.ndarray'> <br>\n",
        "model_4： <class 'numpy.ndarray'> <br>\n",
        "basic_pred_test： <class 'numpy.ndarray'> <br>\n",
        "basic_model_layers： <class 'list'> <br>\n",
        "basic_model_parameters： <class 'list'> <br>\n",
        "advanced_pred_test： <class 'numpy.ndarray'> <br>\n",
        "</small>"
      ]
    },
    {
      "cell_type": "code",
      "source": [],
      "metadata": {
        "id": "zOU1EBqzO0Wm"
      },
      "execution_count": 35,
      "outputs": []
    }
  ],
  "metadata": {
    "colab": {
      "collapsed_sections": [
        "3Q_4VjV5W_gL",
        "OAHuFnmDIhgY",
        "bbGLz2F_ReRr",
        "goYhkmioRQvI",
        "YXSF-PhOxauK",
        "Wn-VBGGURQvJ",
        "5Haf0l4nau3y",
        "qdWPIB6_a8_n",
        "36my0zWnlv3K"
      ],
      "provenance": []
    },
    "kernelspec": {
      "display_name": "Python 3 (ipykernel)",
      "language": "python",
      "name": "python3"
    },
    "language_info": {
      "codemirror_mode": {
        "name": "ipython",
        "version": 3
      },
      "file_extension": ".py",
      "mimetype": "text/x-python",
      "name": "python",
      "nbconvert_exporter": "python",
      "pygments_lexer": "ipython3",
      "version": "3.9.13"
    }
  },
  "nbformat": 4,
  "nbformat_minor": 0
}