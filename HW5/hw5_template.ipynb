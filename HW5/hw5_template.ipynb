{
  "nbformat": 4,
  "nbformat_minor": 0,
  "metadata": {
    "colab": {
      "provenance": []
    },
    "kernelspec": {
      "name": "python3",
      "display_name": "Python 3"
    },
    "language_info": {
      "name": "python"
    },
    "gpuClass": "standard"
  },
  "cells": [
    {
      "cell_type": "markdown",
      "source": [
        "(optional)"
      ],
      "metadata": {
        "id": "4hiUrTp2g31d"
      }
    },
    {
      "cell_type": "code",
      "execution_count": 75,
      "metadata": {
        "id": "02ixxyXJQRNO",
        "colab": {
          "base_uri": "https://localhost:8080/"
        },
        "outputId": "0c3b0e99-552e-4c90-f665-26e069c5be00"
      },
      "outputs": [
        {
          "output_type": "stream",
          "name": "stdout",
          "text": [
            "Drive already mounted at /content/drive; to attempt to forcibly remount, call drive.mount(\"/content/drive\", force_remount=True).\n"
          ]
        }
      ],
      "source": [
        "from google.colab import drive\n",
        "import os\n",
        "drive.mount('/content/drive')"
      ]
    },
    {
      "cell_type": "code",
      "source": [
        "#os.chdir('...')"
      ],
      "metadata": {
        "id": "cwb1U7JElJPa"
      },
      "execution_count": 76,
      "outputs": []
    },
    {
      "cell_type": "markdown",
      "source": [
        "# **HW5: Brain signal classification**\n",
        "In *HW 5*, you need to finish:\n",
        "\n",
        "1.  Model Implementation Part: Implement LSTM and EEGNet models to predict the label of each samples.\n",
        "\n",
        "2.  Model Competition Part: Implementing a model to reach better accuracy performance."
      ],
      "metadata": {
        "id": "CQX9eCfIcRAn"
      }
    },
    {
      "cell_type": "code",
      "source": [
        "import numpy as np\n",
        "import os\n",
        "import math\n",
        "import csv\n",
        "import matplotlib.pyplot as plt\n",
        "# Import the packages you need here\n",
        "from pandas import read_csv\n",
        "from keras.models import Sequential\n",
        "from keras.layers import Dense\n",
        "from keras.layers import Flatten\n",
        "from keras.layers import Dropout\n",
        "from keras.layers import LSTM\n",
        "from keras.utils import to_categorical\n",
        "from matplotlib import pyplot\n",
        "#\n",
        "from tensorflow.keras import utils as np_utils\n",
        "\n"
      ],
      "metadata": {
        "id": "BKJDTLRvQrnY"
      },
      "execution_count": 77,
      "outputs": []
    },
    {
      "cell_type": "code",
      "source": [
        "data = np.load('/content/drive/MyDrive/data.npz')\n",
        "label = np.load('/content/drive/MyDrive/label.npz')\n"
      ],
      "metadata": {
        "id": "ZQQylnWHQ4yy"
      },
      "execution_count": 78,
      "outputs": []
    },
    {
      "cell_type": "code",
      "source": [
        "X_train = data['X_train']\n",
        "X_val = data['X_val']\n",
        "X_test = data['X_test']\n",
        "\n",
        "Y_train = label['Y_train']\n",
        "Y_val = label['Y_val']"
      ],
      "metadata": {
        "id": "3Ype-nIkQ-bf"
      },
      "execution_count": 79,
      "outputs": []
    },
    {
      "cell_type": "code",
      "source": [
        "X_train.shape, X_val.shape, X_test.shape"
      ],
      "metadata": {
        "id": "xjPvKG_im7mV",
        "colab": {
          "base_uri": "https://localhost:8080/"
        },
        "outputId": "77f1dbc6-15e5-4468-e8b8-3640807d40c3"
      },
      "execution_count": 80,
      "outputs": [
        {
          "output_type": "execute_result",
          "data": {
            "text/plain": [
              "((604, 22, 200), (152, 22, 200), (190, 22, 200))"
            ]
          },
          "metadata": {},
          "execution_count": 80
        }
      ]
    },
    {
      "cell_type": "code",
      "source": [
        "Y_train.shape, Y_val.shape"
      ],
      "metadata": {
        "colab": {
          "base_uri": "https://localhost:8080/"
        },
        "id": "X7apA2_-lBjF",
        "outputId": "09b1da1d-01b7-4df7-dd8b-bd294602951f"
      },
      "execution_count": 81,
      "outputs": [
        {
          "output_type": "execute_result",
          "data": {
            "text/plain": [
              "((604, 1), (152, 1))"
            ]
          },
          "metadata": {},
          "execution_count": 81
        }
      ]
    },
    {
      "cell_type": "markdown",
      "source": [
        "## Model Implementation Part"
      ],
      "metadata": {
        "id": "diYYd3e7eopi"
      }
    },
    {
      "cell_type": "markdown",
      "source": [
        "### LSTM"
      ],
      "metadata": {
        "id": "97BpHWOAevWJ"
      }
    },
    {
      "cell_type": "code",
      "source": [
        "trainy = to_categorical(Y_train)\n",
        "valy = to_categorical(Y_val)\n",
        "print(trainy.shape, valy.shape)\n",
        "print(trainy[1],Y_train[1])"
      ],
      "metadata": {
        "colab": {
          "base_uri": "https://localhost:8080/"
        },
        "id": "p6-8RdF3JXLb",
        "outputId": "ef73c49f-09eb-4f98-8976-621ee5fddd66"
      },
      "execution_count": 82,
      "outputs": [
        {
          "output_type": "stream",
          "name": "stdout",
          "text": [
            "(604, 6) (152, 6)\n",
            "[1. 0. 0. 0. 0. 0.] [0.]\n"
          ]
        }
      ]
    },
    {
      "cell_type": "code",
      "source": [
        "# Build your model here:\n",
        "def evaluate_model(trainX, trainy, testX, testy):\n",
        " verbose, epochs, batch_size = 0, 15, 64\n",
        " n_timesteps, n_features, n_outputs = trainX.shape[2], trainX.shape[1], trainy.shape[1]\n",
        " model = Sequential()\n",
        " model.add(LSTM(100, input_shape=(n_features,n_timesteps)))\n",
        " model.add(Dropout(0.5))\n",
        " model.add(Dense(100, activation='relu'))\n",
        " model.add(Dense(n_outputs, activation='softmax'))\n",
        " model.compile(loss='categorical_crossentropy', optimizer='adam', metrics=['accuracy'])\n",
        " # fit network\n",
        " a=model.fit(trainX, trainy, epochs=epochs, batch_size=batch_size, verbose=verbose)\n",
        " # evaluate model\n",
        " _, accuracy = model.evaluate(testX, testy, batch_size=batch_size, verbose=0)\n",
        " return accuracy,model,a"
      ],
      "metadata": {
        "id": "xxFGe6YRe7qn"
      },
      "execution_count": 83,
      "outputs": []
    },
    {
      "cell_type": "code",
      "source": [
        "# summarize scores\n",
        "def summarize_results(scores):\n",
        " print(scores)\n",
        " m, s = np.mean(scores), np.std(scores)\n",
        " print('Accuracy: %.3f%% (+/-%.3f)' % (m, s))\n",
        " \n",
        "# # run an experiment\n",
        "# def run_experiment(repeats=10):\n",
        "#  # load data\n",
        "#  trainX, trainy, testX, testy = load_dataset()\n",
        "#  # repeat experiment\n",
        "#  scores = list()\n",
        "#  for r in range(repeats):\n",
        "#  score = evaluate_model(trainX, trainy, testX, testy)\n",
        "#  score = score * 100.0\n",
        "#  print('>#%d: %.3f' % (r+1, score))\n",
        "#  scores.append(score)\n",
        "#  # summarize results\n",
        "#  summarize_results(scores)\n",
        " "
      ],
      "metadata": {
        "id": "r9vTQvXnPyQt"
      },
      "execution_count": 84,
      "outputs": []
    },
    {
      "cell_type": "code",
      "source": [
        "scores = list()\n",
        "\n",
        "max_s,model,a=evaluate_model(X_train, trainy, X_val, valy)\n",
        "for r in range(10):\n",
        "  score,m,a = evaluate_model(X_train, trainy, X_val, valy)\n",
        "  score = score * 100.0\n",
        "  if score>max_s:\n",
        "    max_s=score\n",
        "    model=m\n",
        "    print(\"取代\")\n",
        "  print('>#%d: %.3f' % (r+1, score))\n",
        "  scores.append(score)\n",
        "# summarize results\n",
        "summarize_results(scores)"
      ],
      "metadata": {
        "colab": {
          "base_uri": "https://localhost:8080/"
        },
        "id": "8Z4rwtl2P52K",
        "outputId": "13f8d66a-d7af-4fa5-b71d-dae631b28787"
      },
      "execution_count": 85,
      "outputs": [
        {
          "output_type": "stream",
          "name": "stdout",
          "text": [
            "取代\n",
            ">#1: 69.737\n",
            "取代\n",
            ">#2: 76.316\n",
            ">#3: 70.395\n",
            ">#4: 73.026\n",
            ">#5: 73.026\n",
            ">#6: 73.684\n",
            ">#7: 76.316\n",
            ">#8: 73.684\n",
            "取代\n",
            ">#9: 78.947\n",
            ">#10: 73.026\n",
            "[69.73684430122375, 76.31579041481018, 70.3947365283966, 73.02631735801697, 73.02631735801697, 73.68420958518982, 76.31579041481018, 73.68420958518982, 78.94737124443054, 73.02631735801697]\n",
            "Accuracy: 73.816% (+/-2.628)\n"
          ]
        }
      ]
    },
    {
      "cell_type": "code",
      "source": [
        "plt.plot(a.history['loss'])\n",
        "# plt.plot(a.history['val_loss'])\n",
        "plt.title('lstm loss')\n",
        "plt.xlabel('epoch')\n",
        "plt.ylabel('loss')\n",
        "plt.legend(['loss'], loc='upper right')\n",
        "plt.show()"
      ],
      "metadata": {
        "colab": {
          "base_uri": "https://localhost:8080/",
          "height": 295
        },
        "id": "6rfE4hsX2fJ3",
        "outputId": "5ad363e5-f8fb-42c7-d252-34833a520ed7"
      },
      "execution_count": 86,
      "outputs": [
        {
          "output_type": "display_data",
          "data": {
            "text/plain": [
              "<Figure size 432x288 with 1 Axes>"
            ],
            "image/png": "[encoded data removed]"
          },
          "metadata": {
            "needs_background": "light"
          }
        }
      ]
    },
    {
      "cell_type": "code",
      "source": [
        "model.summary()"
      ],
      "metadata": {
        "colab": {
          "base_uri": "https://localhost:8080/"
        },
        "id": "fWTQ7rjb8QAj",
        "outputId": "65d61b86-db8c-46b5-8855-5bafdbdc383d"
      },
      "execution_count": 87,
      "outputs": [
        {
          "output_type": "stream",
          "name": "stdout",
          "text": [
            "Model: \"sequential_26\"\n",
            "_________________________________________________________________\n",
            " Layer (type)                Output Shape              Param #   \n",
            "=================================================================\n",
            " lstm_26 (LSTM)              (None, 100)               120400    \n",
            "                                                                 \n",
            " dropout_28 (Dropout)        (None, 100)               0         \n",
            "                                                                 \n",
            " dense_52 (Dense)            (None, 100)               10100     \n",
            "                                                                 \n",
            " dense_53 (Dense)            (None, 6)                 606       \n",
            "                                                                 \n",
            "=================================================================\n",
            "Total params: 131,106\n",
            "Trainable params: 131,106\n",
            "Non-trainable params: 0\n",
            "_________________________________________________________________\n"
          ]
        }
      ]
    },
    {
      "cell_type": "code",
      "source": [
        "ans_test=model.predict(X_test)\n",
        "print(ans_test.shape)\n",
        "ans=[]\n",
        "for i in ans_test:\n",
        "  ans.append(np.argmax(i))\n",
        "\n",
        "ans=np.array(ans).reshape(190,1).astype(int)\n",
        "print(ans[0])"
      ],
      "metadata": {
        "colab": {
          "base_uri": "https://localhost:8080/"
        },
        "id": "ThJ7Er1HSNAa",
        "outputId": "57c23a5a-9f58-46d0-8b28-9e82859e9c77"
      },
      "execution_count": 88,
      "outputs": [
        {
          "output_type": "stream",
          "name": "stdout",
          "text": [
            "6/6 [==============================] - 0s 12ms/step\n",
            "(190, 6)\n",
            "[0]\n"
          ]
        }
      ]
    },
    {
      "cell_type": "code",
      "source": [
        "# output = \"...\"\n",
        "assert(ans.shape == (190, 1))\n",
        "np.savetxt('lstm_output.csv', ans, fmt='%i',delimiter=\",\")"
      ],
      "metadata": {
        "id": "sIXH_6BHjm6w"
      },
      "execution_count": 89,
      "outputs": []
    },
    {
      "cell_type": "markdown",
      "source": [
        "### EEGNet"
      ],
      "metadata": {
        "id": "xSGZPbDHrfOr"
      }
    },
    {
      "cell_type": "code",
      "source": [
        "#导入需要的库\n",
        "from tensorflow.keras.models import Model\n",
        "from tensorflow.keras.layers import Dense, Activation, Permute, Dropout\n",
        "from tensorflow.keras.layers import Conv2D, MaxPooling2D, AveragePooling2D\n",
        "from tensorflow.keras.layers import SeparableConv2D, DepthwiseConv2D\n",
        "from tensorflow.keras.layers import BatchNormalization\n",
        "from tensorflow.keras.layers import SpatialDropout2D\n",
        "from tensorflow.keras.regularizers import l1_l2\n",
        "from tensorflow.keras.layers import Input, Flatten\n",
        "from tensorflow.keras.constraints import max_norm\n",
        "def EEGNet(nb_classes, Chans = 22, Samples = 200,\n",
        "             dropoutRate = 0.5, kernLength = 64, F1 = 8, \n",
        "             D = 2, F2 = 16, norm_rate = 0.25, dropoutType = 'Dropout'):\n",
        "    \n",
        "    if dropoutType == 'SpatialDropout2D':\n",
        "        dropoutType = SpatialDropout2D\n",
        "    elif dropoutType == 'Dropout':\n",
        "        dropoutType = Dropout\n",
        "    else:\n",
        "        raise ValueError('dropoutType must be one of SpatialDropout2D '\n",
        "                         'or Dropout, passed as a string.')\n",
        "    \n",
        "    input1 = Input(shape = (Chans, Samples, 1))\n",
        "    print(\"input shape\", input1.shape, Chans, Samples, kernLength)\n",
        "    ##################################################################\n",
        "    block1 = Conv2D(F1, (1, kernLength), padding = 'same',\n",
        "                                   input_shape = (Chans, Samples, 1),\n",
        "                                   use_bias = False)(input1)\n",
        "    block1 = BatchNormalization()(block1)\n",
        "    block1 = DepthwiseConv2D((Chans, 1), use_bias = False,\n",
        "                                   depth_multiplier = D,\n",
        "                                   depthwise_constraint = max_norm(1.))(block1)\n",
        "    block1 = BatchNormalization()(block1)\n",
        "    block1 = Activation('elu')(block1)\n",
        "    block1 = AveragePooling2D((1, 4))(block1)\n",
        "    block1 = dropoutType(dropoutRate)(block1)\n",
        "\n",
        "    block2 = SeparableConv2D(F2, (1, 16),\n",
        "                                   use_bias = False, padding = 'same')(block1)\n",
        "    block2 = BatchNormalization()(block2)\n",
        "    block2 = Activation('elu')(block2)\n",
        "    block2 = AveragePooling2D((1, 8))(block2)\n",
        "    block2 = dropoutType(dropoutRate)(block2)\n",
        "    flatten = Flatten(name = 'flatten')(block2)\n",
        "    \n",
        "    dense = Dense(nb_classes, name = 'dense',\n",
        "                         kernel_constraint = max_norm(norm_rate))(flatten)\n",
        "    softmax = Activation('softmax', name = 'softmax')(dense)\n",
        "\n",
        "    return Model(inputs=input1, outputs=softmax)"
      ],
      "metadata": {
        "id": "2X6JXeQefdRS"
      },
      "execution_count": 90,
      "outputs": []
    },
    {
      "cell_type": "code",
      "source": [
        "nX_train = X_train.reshape(X_train.shape[0], 22, 200, 1)\n",
        "nX_val = X_val.reshape(X_val.shape[0], 22, 200, 1)\n",
        "nX_test = X_test.reshape(X_test.shape[0], 22, 200, 1)\n",
        "\n",
        "print(nX_train.shape,nX_val.shape,nX_test.shape)\n",
        "\n",
        "nY_train = np_utils.to_categorical(Y_train )\n",
        "nY_val = np_utils.to_categorical(Y_val)\n",
        "print(nY_train.shape)\n",
        "\n"
      ],
      "metadata": {
        "colab": {
          "base_uri": "https://localhost:8080/"
        },
        "id": "aI-X_AsyHX9d",
        "outputId": "0e2681f2-1b7e-499b-eb69-89c366b443a6"
      },
      "execution_count": 91,
      "outputs": [
        {
          "output_type": "stream",
          "name": "stdout",
          "text": [
            "(604, 22, 200, 1) (152, 22, 200, 1) (190, 22, 200, 1)\n",
            "(604, 6)\n"
          ]
        }
      ]
    },
    {
      "cell_type": "code",
      "source": [
        "model = EEGNet(nb_classes = 6, Chans = nX_train.shape[1], Samples = nX_train.shape[2],\n",
        "               dropoutRate = 0.5, kernLength = 32, F1 = 8, D = 2, F2 = 16,\n",
        "               dropoutType = 'Dropout')"
      ],
      "metadata": {
        "colab": {
          "base_uri": "https://localhost:8080/"
        },
        "id": "cZV5Qk2aiF0m",
        "outputId": "a15eadc6-47af-4b86-9097-9b130c84ab43"
      },
      "execution_count": 92,
      "outputs": [
        {
          "output_type": "stream",
          "name": "stdout",
          "text": [
            "input shape (None, 22, 200, 1) 22 200 32\n"
          ]
        }
      ]
    },
    {
      "cell_type": "code",
      "source": [
        "model.compile(loss='categorical_crossentropy', optimizer='adam',\n",
        "              metrics=['accuracy'])\n",
        "# count number of parameters in the model\n",
        "model.summary()\n"
      ],
      "metadata": {
        "colab": {
          "base_uri": "https://localhost:8080/"
        },
        "id": "lFo7ACvwlXeh",
        "outputId": "e53b4eb7-70b4-4033-e8af-415e244e37b3"
      },
      "execution_count": 93,
      "outputs": [
        {
          "output_type": "stream",
          "name": "stdout",
          "text": [
            "Model: \"model_1\"\n",
            "_________________________________________________________________\n",
            " Layer (type)                Output Shape              Param #   \n",
            "=================================================================\n",
            " input_6 (InputLayer)        [(None, 22, 200, 1)]      0         \n",
            "                                                                 \n",
            " conv2d_1 (Conv2D)           (None, 22, 200, 8)        256       \n",
            "                                                                 \n",
            " batch_normalization_3 (Batc  (None, 22, 200, 8)       32        \n",
            " hNormalization)                                                 \n",
            "                                                                 \n",
            " depthwise_conv2d_1 (Depthwi  (None, 1, 200, 16)       352       \n",
            " seConv2D)                                                       \n",
            "                                                                 \n",
            " batch_normalization_4 (Batc  (None, 1, 200, 16)       64        \n",
            " hNormalization)                                                 \n",
            "                                                                 \n",
            " activation_2 (Activation)   (None, 1, 200, 16)        0         \n",
            "                                                                 \n",
            " average_pooling2d_2 (Averag  (None, 1, 50, 16)        0         \n",
            " ePooling2D)                                                     \n",
            "                                                                 \n",
            " dropout_30 (Dropout)        (None, 1, 50, 16)         0         \n",
            "                                                                 \n",
            " separable_conv2d_1 (Separab  (None, 1, 50, 16)        512       \n",
            " leConv2D)                                                       \n",
            "                                                                 \n",
            " batch_normalization_5 (Batc  (None, 1, 50, 16)        64        \n",
            " hNormalization)                                                 \n",
            "                                                                 \n",
            " activation_3 (Activation)   (None, 1, 50, 16)         0         \n",
            "                                                                 \n",
            " average_pooling2d_3 (Averag  (None, 1, 6, 16)         0         \n",
            " ePooling2D)                                                     \n",
            "                                                                 \n",
            " dropout_31 (Dropout)        (None, 1, 6, 16)          0         \n",
            "                                                                 \n",
            " flatten (Flatten)           (None, 96)                0         \n",
            "                                                                 \n",
            " dense (Dense)               (None, 6)                 582       \n",
            "                                                                 \n",
            " softmax (Activation)        (None, 6)                 0         \n",
            "                                                                 \n",
            "=================================================================\n",
            "Total params: 1,862\n",
            "Trainable params: 1,782\n",
            "Non-trainable params: 80\n",
            "_________________________________________________________________\n"
          ]
        }
      ]
    },
    {
      "cell_type": "code",
      "source": [
        "fittedModel = model.fit(nX_train, nY_train, batch_size=16, epochs=300,\n",
        "                        verbose=2, validation_data=(nX_val, nY_val),\n",
        "                        )\n"
      ],
      "metadata": {
        "colab": {
          "base_uri": "https://localhost:8080/"
        },
        "id": "klT8cm0dlkAk",
        "outputId": "f6732f21-c76d-4856-981b-4f3f9b45a8a6"
      },
      "execution_count": 94,
      "outputs": [
        {
          "output_type": "stream",
          "name": "stdout",
          "text": [
            "Epoch 1/300\n",
            "38/38 - 3s - loss: 1.6824 - accuracy: 0.3692 - val_loss: 1.6350 - val_accuracy: 0.6513 - 3s/epoch - 84ms/step\n",
            "Epoch 2/300\n",
            "38/38 - 2s - loss: 1.3603 - accuracy: 0.6556 - val_loss: 1.4249 - val_accuracy: 0.8618 - 2s/epoch - 59ms/step\n",
            "Epoch 3/300\n",
            "38/38 - 2s - loss: 1.0867 - accuracy: 0.7417 - val_loss: 1.2345 - val_accuracy: 0.8750 - 2s/epoch - 59ms/step\n",
            "Epoch 4/300\n",
            "38/38 - 2s - loss: 0.9507 - accuracy: 0.7947 - val_loss: 1.1006 - val_accuracy: 0.8882 - 2s/epoch - 59ms/step\n",
            "Epoch 5/300\n",
            "38/38 - 2s - loss: 0.8866 - accuracy: 0.7930 - val_loss: 1.0084 - val_accuracy: 0.8816 - 2s/epoch - 58ms/step\n",
            "Epoch 6/300\n",
            "38/38 - 2s - loss: 0.8408 - accuracy: 0.8195 - val_loss: 0.9232 - val_accuracy: 0.8882 - 2s/epoch - 58ms/step\n",
            "Epoch 7/300\n",
            "38/38 - 2s - loss: 0.7967 - accuracy: 0.8278 - val_loss: 0.8541 - val_accuracy: 0.9013 - 2s/epoch - 60ms/step\n",
            "Epoch 8/300\n",
            "38/38 - 2s - loss: 0.7657 - accuracy: 0.8576 - val_loss: 0.8169 - val_accuracy: 0.9013 - 2s/epoch - 58ms/step\n",
            "Epoch 9/300\n",
            "38/38 - 2s - loss: 0.7578 - accuracy: 0.8543 - val_loss: 0.7508 - val_accuracy: 0.9145 - 2s/epoch - 59ms/step\n",
            "Epoch 10/300\n",
            "38/38 - 2s - loss: 0.7123 - accuracy: 0.8825 - val_loss: 0.7115 - val_accuracy: 0.9145 - 2s/epoch - 58ms/step\n",
            "Epoch 11/300\n",
            "38/38 - 3s - loss: 0.6924 - accuracy: 0.8659 - val_loss: 0.6670 - val_accuracy: 0.9276 - 3s/epoch - 70ms/step\n",
            "Epoch 12/300\n",
            "38/38 - 4s - loss: 0.6588 - accuracy: 0.8791 - val_loss: 0.6366 - val_accuracy: 0.9408 - 4s/epoch - 97ms/step\n",
            "Epoch 13/300\n",
            "38/38 - 2s - loss: 0.6358 - accuracy: 0.9073 - val_loss: 0.6069 - val_accuracy: 0.9342 - 2s/epoch - 59ms/step\n",
            "Epoch 14/300\n",
            "38/38 - 2s - loss: 0.6110 - accuracy: 0.8924 - val_loss: 0.5952 - val_accuracy: 0.9474 - 2s/epoch - 60ms/step\n",
            "Epoch 15/300\n",
            "38/38 - 2s - loss: 0.6066 - accuracy: 0.8957 - val_loss: 0.5465 - val_accuracy: 0.9737 - 2s/epoch - 60ms/step\n",
            "Epoch 16/300\n",
            "38/38 - 2s - loss: 0.5630 - accuracy: 0.9421 - val_loss: 0.5576 - val_accuracy: 0.9803 - 2s/epoch - 58ms/step\n",
            "Epoch 17/300\n",
            "38/38 - 2s - loss: 0.5634 - accuracy: 0.9123 - val_loss: 0.5177 - val_accuracy: 0.9737 - 2s/epoch - 58ms/step\n",
            "Epoch 18/300\n",
            "38/38 - 2s - loss: 0.5312 - accuracy: 0.9288 - val_loss: 0.4723 - val_accuracy: 0.9737 - 2s/epoch - 59ms/step\n",
            "Epoch 19/300\n",
            "38/38 - 2s - loss: 0.5337 - accuracy: 0.9222 - val_loss: 0.4503 - val_accuracy: 0.9737 - 2s/epoch - 59ms/step\n",
            "Epoch 20/300\n",
            "38/38 - 2s - loss: 0.5088 - accuracy: 0.9371 - val_loss: 0.4309 - val_accuracy: 0.9803 - 2s/epoch - 61ms/step\n",
            "Epoch 21/300\n",
            "38/38 - 2s - loss: 0.4883 - accuracy: 0.9437 - val_loss: 0.4171 - val_accuracy: 0.9737 - 2s/epoch - 59ms/step\n",
            "Epoch 22/300\n",
            "38/38 - 2s - loss: 0.4662 - accuracy: 0.9503 - val_loss: 0.4148 - val_accuracy: 0.9803 - 2s/epoch - 60ms/step\n",
            "Epoch 23/300\n",
            "38/38 - 2s - loss: 0.4603 - accuracy: 0.9520 - val_loss: 0.3983 - val_accuracy: 0.9868 - 2s/epoch - 58ms/step\n",
            "Epoch 24/300\n",
            "38/38 - 2s - loss: 0.4446 - accuracy: 0.9536 - val_loss: 0.3744 - val_accuracy: 0.9737 - 2s/epoch - 58ms/step\n",
            "Epoch 25/300\n",
            "38/38 - 2s - loss: 0.4254 - accuracy: 0.9570 - val_loss: 0.3826 - val_accuracy: 0.9803 - 2s/epoch - 60ms/step\n",
            "Epoch 26/300\n",
            "38/38 - 2s - loss: 0.4463 - accuracy: 0.9371 - val_loss: 0.3671 - val_accuracy: 0.9803 - 2s/epoch - 58ms/step\n",
            "Epoch 27/300\n",
            "38/38 - 2s - loss: 0.4402 - accuracy: 0.9156 - val_loss: 0.3220 - val_accuracy: 0.9803 - 2s/epoch - 58ms/step\n",
            "Epoch 28/300\n",
            "38/38 - 2s - loss: 0.4097 - accuracy: 0.9536 - val_loss: 0.3316 - val_accuracy: 0.9868 - 2s/epoch - 59ms/step\n",
            "Epoch 29/300\n",
            "38/38 - 2s - loss: 0.3964 - accuracy: 0.9652 - val_loss: 0.3120 - val_accuracy: 0.9737 - 2s/epoch - 58ms/step\n",
            "Epoch 30/300\n",
            "38/38 - 2s - loss: 0.3878 - accuracy: 0.9536 - val_loss: 0.3332 - val_accuracy: 0.9803 - 2s/epoch - 59ms/step\n",
            "Epoch 31/300\n",
            "38/38 - 2s - loss: 0.3956 - accuracy: 0.9487 - val_loss: 0.3211 - val_accuracy: 0.9803 - 2s/epoch - 59ms/step\n",
            "Epoch 32/300\n",
            "38/38 - 2s - loss: 0.3687 - accuracy: 0.9371 - val_loss: 0.3217 - val_accuracy: 0.9803 - 2s/epoch - 58ms/step\n",
            "Epoch 33/300\n",
            "38/38 - 2s - loss: 0.3771 - accuracy: 0.9404 - val_loss: 0.2881 - val_accuracy: 0.9868 - 2s/epoch - 59ms/step\n",
            "Epoch 34/300\n",
            "38/38 - 2s - loss: 0.3524 - accuracy: 0.9685 - val_loss: 0.2910 - val_accuracy: 0.9803 - 2s/epoch - 59ms/step\n",
            "Epoch 35/300\n",
            "38/38 - 2s - loss: 0.3423 - accuracy: 0.9652 - val_loss: 0.3043 - val_accuracy: 0.9803 - 2s/epoch - 58ms/step\n",
            "Epoch 36/300\n",
            "38/38 - 2s - loss: 0.3467 - accuracy: 0.9619 - val_loss: 0.3023 - val_accuracy: 0.9803 - 2s/epoch - 58ms/step\n",
            "Epoch 37/300\n",
            "38/38 - 2s - loss: 0.3303 - accuracy: 0.9768 - val_loss: 0.2966 - val_accuracy: 0.9737 - 2s/epoch - 59ms/step\n",
            "Epoch 38/300\n",
            "38/38 - 2s - loss: 0.3208 - accuracy: 0.9586 - val_loss: 0.2626 - val_accuracy: 0.9803 - 2s/epoch - 58ms/step\n",
            "Epoch 39/300\n",
            "38/38 - 2s - loss: 0.3339 - accuracy: 0.9437 - val_loss: 0.2770 - val_accuracy: 0.9737 - 2s/epoch - 59ms/step\n",
            "Epoch 40/300\n",
            "38/38 - 2s - loss: 0.3309 - accuracy: 0.9503 - val_loss: 0.2565 - val_accuracy: 0.9868 - 2s/epoch - 58ms/step\n",
            "Epoch 41/300\n",
            "38/38 - 2s - loss: 0.3277 - accuracy: 0.9553 - val_loss: 0.2491 - val_accuracy: 0.9868 - 2s/epoch - 59ms/step\n",
            "Epoch 42/300\n",
            "38/38 - 2s - loss: 0.3035 - accuracy: 0.9619 - val_loss: 0.2357 - val_accuracy: 0.9737 - 2s/epoch - 59ms/step\n",
            "Epoch 43/300\n",
            "38/38 - 2s - loss: 0.3057 - accuracy: 0.9553 - val_loss: 0.2363 - val_accuracy: 0.9803 - 2s/epoch - 58ms/step\n",
            "Epoch 44/300\n",
            "38/38 - 2s - loss: 0.3210 - accuracy: 0.9421 - val_loss: 0.2435 - val_accuracy: 0.9868 - 2s/epoch - 59ms/step\n",
            "Epoch 45/300\n",
            "38/38 - 2s - loss: 0.3017 - accuracy: 0.9636 - val_loss: 0.2205 - val_accuracy: 0.9803 - 2s/epoch - 58ms/step\n",
            "Epoch 46/300\n",
            "38/38 - 2s - loss: 0.2946 - accuracy: 0.9603 - val_loss: 0.2353 - val_accuracy: 0.9803 - 2s/epoch - 58ms/step\n",
            "Epoch 47/300\n",
            "38/38 - 2s - loss: 0.2984 - accuracy: 0.9619 - val_loss: 0.2330 - val_accuracy: 0.9737 - 2s/epoch - 58ms/step\n",
            "Epoch 48/300\n",
            "38/38 - 2s - loss: 0.2853 - accuracy: 0.9586 - val_loss: 0.2298 - val_accuracy: 0.9803 - 2s/epoch - 59ms/step\n",
            "Epoch 49/300\n",
            "38/38 - 2s - loss: 0.2898 - accuracy: 0.9454 - val_loss: 0.2251 - val_accuracy: 0.9868 - 2s/epoch - 59ms/step\n",
            "Epoch 50/300\n",
            "38/38 - 2s - loss: 0.2740 - accuracy: 0.9702 - val_loss: 0.2196 - val_accuracy: 0.9868 - 2s/epoch - 58ms/step\n",
            "Epoch 51/300\n",
            "38/38 - 2s - loss: 0.2635 - accuracy: 0.9702 - val_loss: 0.2178 - val_accuracy: 0.9803 - 2s/epoch - 58ms/step\n",
            "Epoch 52/300\n",
            "38/38 - 2s - loss: 0.2714 - accuracy: 0.9553 - val_loss: 0.2104 - val_accuracy: 0.9868 - 2s/epoch - 59ms/step\n",
            "Epoch 53/300\n",
            "38/38 - 2s - loss: 0.2598 - accuracy: 0.9669 - val_loss: 0.2112 - val_accuracy: 0.9803 - 2s/epoch - 59ms/step\n",
            "Epoch 54/300\n",
            "38/38 - 2s - loss: 0.2533 - accuracy: 0.9702 - val_loss: 0.1997 - val_accuracy: 0.9868 - 2s/epoch - 59ms/step\n",
            "Epoch 55/300\n",
            "38/38 - 2s - loss: 0.2685 - accuracy: 0.9536 - val_loss: 0.2052 - val_accuracy: 0.9803 - 2s/epoch - 58ms/step\n",
            "Epoch 56/300\n",
            "38/38 - 2s - loss: 0.2581 - accuracy: 0.9570 - val_loss: 0.1800 - val_accuracy: 0.9803 - 2s/epoch - 59ms/step\n",
            "Epoch 57/300\n",
            "38/38 - 3s - loss: 0.2374 - accuracy: 0.9702 - val_loss: 0.1958 - val_accuracy: 0.9803 - 3s/epoch - 88ms/step\n",
            "Epoch 58/300\n",
            "38/38 - 3s - loss: 0.2552 - accuracy: 0.9636 - val_loss: 0.1842 - val_accuracy: 0.9803 - 3s/epoch - 77ms/step\n",
            "Epoch 59/300\n",
            "38/38 - 2s - loss: 0.2536 - accuracy: 0.9586 - val_loss: 0.1920 - val_accuracy: 0.9803 - 2s/epoch - 58ms/step\n",
            "Epoch 60/300\n",
            "38/38 - 2s - loss: 0.2570 - accuracy: 0.9619 - val_loss: 0.1913 - val_accuracy: 0.9737 - 2s/epoch - 59ms/step\n",
            "Epoch 61/300\n",
            "38/38 - 2s - loss: 0.2555 - accuracy: 0.9603 - val_loss: 0.1677 - val_accuracy: 0.9934 - 2s/epoch - 58ms/step\n",
            "Epoch 62/300\n",
            "38/38 - 2s - loss: 0.2435 - accuracy: 0.9685 - val_loss: 0.1756 - val_accuracy: 0.9868 - 2s/epoch - 59ms/step\n",
            "Epoch 63/300\n",
            "38/38 - 2s - loss: 0.2585 - accuracy: 0.9652 - val_loss: 0.1825 - val_accuracy: 0.9803 - 2s/epoch - 59ms/step\n",
            "Epoch 64/300\n",
            "38/38 - 2s - loss: 0.2239 - accuracy: 0.9752 - val_loss: 0.1995 - val_accuracy: 0.9803 - 2s/epoch - 58ms/step\n",
            "Epoch 65/300\n",
            "38/38 - 2s - loss: 0.2288 - accuracy: 0.9669 - val_loss: 0.1946 - val_accuracy: 0.9737 - 2s/epoch - 59ms/step\n",
            "Epoch 66/300\n",
            "38/38 - 2s - loss: 0.2313 - accuracy: 0.9652 - val_loss: 0.1851 - val_accuracy: 0.9803 - 2s/epoch - 59ms/step\n",
            "Epoch 67/300\n",
            "38/38 - 2s - loss: 0.2356 - accuracy: 0.9570 - val_loss: 0.1651 - val_accuracy: 0.9934 - 2s/epoch - 59ms/step\n",
            "Epoch 68/300\n",
            "38/38 - 2s - loss: 0.2271 - accuracy: 0.9586 - val_loss: 0.1797 - val_accuracy: 0.9803 - 2s/epoch - 59ms/step\n",
            "Epoch 69/300\n",
            "38/38 - 2s - loss: 0.2359 - accuracy: 0.9586 - val_loss: 0.1691 - val_accuracy: 0.9868 - 2s/epoch - 59ms/step\n",
            "Epoch 70/300\n",
            "38/38 - 2s - loss: 0.2130 - accuracy: 0.9768 - val_loss: 0.1746 - val_accuracy: 0.9803 - 2s/epoch - 58ms/step\n",
            "Epoch 71/300\n",
            "38/38 - 2s - loss: 0.2070 - accuracy: 0.9851 - val_loss: 0.1624 - val_accuracy: 0.9868 - 2s/epoch - 59ms/step\n",
            "Epoch 72/300\n",
            "38/38 - 2s - loss: 0.2207 - accuracy: 0.9553 - val_loss: 0.1626 - val_accuracy: 0.9803 - 2s/epoch - 58ms/step\n",
            "Epoch 73/300\n",
            "38/38 - 2s - loss: 0.2149 - accuracy: 0.9735 - val_loss: 0.1596 - val_accuracy: 0.9803 - 2s/epoch - 59ms/step\n",
            "Epoch 74/300\n",
            "38/38 - 2s - loss: 0.2190 - accuracy: 0.9652 - val_loss: 0.1639 - val_accuracy: 0.9803 - 2s/epoch - 58ms/step\n",
            "Epoch 75/300\n",
            "38/38 - 2s - loss: 0.2144 - accuracy: 0.9652 - val_loss: 0.1490 - val_accuracy: 0.9868 - 2s/epoch - 59ms/step\n",
            "Epoch 76/300\n",
            "38/38 - 2s - loss: 0.2039 - accuracy: 0.9735 - val_loss: 0.1595 - val_accuracy: 0.9803 - 2s/epoch - 59ms/step\n",
            "Epoch 77/300\n",
            "38/38 - 2s - loss: 0.1949 - accuracy: 0.9818 - val_loss: 0.1562 - val_accuracy: 0.9803 - 2s/epoch - 58ms/step\n",
            "Epoch 78/300\n",
            "38/38 - 2s - loss: 0.1987 - accuracy: 0.9702 - val_loss: 0.1547 - val_accuracy: 0.9868 - 2s/epoch - 59ms/step\n",
            "Epoch 79/300\n",
            "38/38 - 2s - loss: 0.2141 - accuracy: 0.9652 - val_loss: 0.1507 - val_accuracy: 0.9803 - 2s/epoch - 59ms/step\n",
            "Epoch 80/300\n",
            "38/38 - 2s - loss: 0.2066 - accuracy: 0.9652 - val_loss: 0.1413 - val_accuracy: 0.9934 - 2s/epoch - 59ms/step\n",
            "Epoch 81/300\n",
            "38/38 - 2s - loss: 0.1928 - accuracy: 0.9752 - val_loss: 0.1344 - val_accuracy: 0.9803 - 2s/epoch - 58ms/step\n",
            "Epoch 82/300\n",
            "38/38 - 2s - loss: 0.1958 - accuracy: 0.9735 - val_loss: 0.1300 - val_accuracy: 0.9868 - 2s/epoch - 58ms/step\n",
            "Epoch 83/300\n",
            "38/38 - 2s - loss: 0.1975 - accuracy: 0.9669 - val_loss: 0.1431 - val_accuracy: 0.9868 - 2s/epoch - 58ms/step\n",
            "Epoch 84/300\n",
            "38/38 - 2s - loss: 0.1969 - accuracy: 0.9702 - val_loss: 0.1480 - val_accuracy: 0.9868 - 2s/epoch - 58ms/step\n",
            "Epoch 85/300\n",
            "38/38 - 2s - loss: 0.1845 - accuracy: 0.9785 - val_loss: 0.1428 - val_accuracy: 0.9868 - 2s/epoch - 59ms/step\n",
            "Epoch 86/300\n",
            "38/38 - 2s - loss: 0.1974 - accuracy: 0.9669 - val_loss: 0.1273 - val_accuracy: 0.9934 - 2s/epoch - 59ms/step\n",
            "Epoch 87/300\n",
            "38/38 - 2s - loss: 0.2055 - accuracy: 0.9735 - val_loss: 0.1563 - val_accuracy: 0.9803 - 2s/epoch - 59ms/step\n",
            "Epoch 88/300\n",
            "38/38 - 2s - loss: 0.1955 - accuracy: 0.9669 - val_loss: 0.1251 - val_accuracy: 0.9868 - 2s/epoch - 58ms/step\n",
            "Epoch 89/300\n",
            "38/38 - 2s - loss: 0.1987 - accuracy: 0.9652 - val_loss: 0.1297 - val_accuracy: 0.9934 - 2s/epoch - 59ms/step\n",
            "Epoch 90/300\n",
            "38/38 - 2s - loss: 0.1756 - accuracy: 0.9702 - val_loss: 0.1237 - val_accuracy: 0.9934 - 2s/epoch - 60ms/step\n",
            "Epoch 91/300\n",
            "38/38 - 2s - loss: 0.1686 - accuracy: 0.9834 - val_loss: 0.1337 - val_accuracy: 0.9868 - 2s/epoch - 58ms/step\n",
            "Epoch 92/300\n",
            "38/38 - 2s - loss: 0.1694 - accuracy: 0.9851 - val_loss: 0.1291 - val_accuracy: 0.9934 - 2s/epoch - 58ms/step\n",
            "Epoch 93/300\n",
            "38/38 - 2s - loss: 0.1742 - accuracy: 0.9735 - val_loss: 0.1346 - val_accuracy: 0.9868 - 2s/epoch - 59ms/step\n",
            "Epoch 94/300\n",
            "38/38 - 2s - loss: 0.1695 - accuracy: 0.9752 - val_loss: 0.1211 - val_accuracy: 0.9934 - 2s/epoch - 61ms/step\n",
            "Epoch 95/300\n",
            "38/38 - 2s - loss: 0.1594 - accuracy: 0.9801 - val_loss: 0.1317 - val_accuracy: 0.9934 - 2s/epoch - 59ms/step\n",
            "Epoch 96/300\n",
            "38/38 - 2s - loss: 0.1789 - accuracy: 0.9719 - val_loss: 0.1234 - val_accuracy: 0.9934 - 2s/epoch - 59ms/step\n",
            "Epoch 97/300\n",
            "38/38 - 2s - loss: 0.1691 - accuracy: 0.9752 - val_loss: 0.1207 - val_accuracy: 0.9868 - 2s/epoch - 58ms/step\n",
            "Epoch 98/300\n",
            "38/38 - 2s - loss: 0.1862 - accuracy: 0.9702 - val_loss: 0.1214 - val_accuracy: 0.9868 - 2s/epoch - 58ms/step\n",
            "Epoch 99/300\n",
            "38/38 - 2s - loss: 0.1837 - accuracy: 0.9768 - val_loss: 0.1198 - val_accuracy: 0.9934 - 2s/epoch - 59ms/step\n",
            "Epoch 100/300\n",
            "38/38 - 2s - loss: 0.1565 - accuracy: 0.9851 - val_loss: 0.1282 - val_accuracy: 0.9803 - 2s/epoch - 58ms/step\n",
            "Epoch 101/300\n",
            "38/38 - 2s - loss: 0.1593 - accuracy: 0.9834 - val_loss: 0.1149 - val_accuracy: 0.9868 - 2s/epoch - 59ms/step\n",
            "Epoch 102/300\n",
            "38/38 - 2s - loss: 0.1570 - accuracy: 0.9785 - val_loss: 0.1110 - val_accuracy: 0.9868 - 2s/epoch - 59ms/step\n",
            "Epoch 103/300\n",
            "38/38 - 3s - loss: 0.1551 - accuracy: 0.9785 - val_loss: 0.1119 - val_accuracy: 0.9934 - 3s/epoch - 90ms/step\n",
            "Epoch 104/300\n",
            "38/38 - 3s - loss: 0.1685 - accuracy: 0.9685 - val_loss: 0.1264 - val_accuracy: 0.9868 - 3s/epoch - 77ms/step\n",
            "Epoch 105/300\n",
            "38/38 - 2s - loss: 0.1620 - accuracy: 0.9768 - val_loss: 0.1145 - val_accuracy: 0.9868 - 2s/epoch - 58ms/step\n",
            "Epoch 106/300\n",
            "38/38 - 2s - loss: 0.1422 - accuracy: 0.9801 - val_loss: 0.1226 - val_accuracy: 0.9934 - 2s/epoch - 58ms/step\n",
            "Epoch 107/300\n",
            "38/38 - 2s - loss: 0.1763 - accuracy: 0.9685 - val_loss: 0.1140 - val_accuracy: 0.9868 - 2s/epoch - 58ms/step\n",
            "Epoch 108/300\n",
            "38/38 - 2s - loss: 0.1534 - accuracy: 0.9801 - val_loss: 0.1150 - val_accuracy: 0.9934 - 2s/epoch - 60ms/step\n",
            "Epoch 109/300\n",
            "38/38 - 2s - loss: 0.1532 - accuracy: 0.9768 - val_loss: 0.1219 - val_accuracy: 0.9868 - 2s/epoch - 58ms/step\n",
            "Epoch 110/300\n",
            "38/38 - 2s - loss: 0.1566 - accuracy: 0.9752 - val_loss: 0.1093 - val_accuracy: 0.9868 - 2s/epoch - 58ms/step\n",
            "Epoch 111/300\n",
            "38/38 - 2s - loss: 0.1388 - accuracy: 0.9818 - val_loss: 0.1003 - val_accuracy: 0.9934 - 2s/epoch - 58ms/step\n",
            "Epoch 112/300\n",
            "38/38 - 2s - loss: 0.1425 - accuracy: 0.9785 - val_loss: 0.0941 - val_accuracy: 0.9934 - 2s/epoch - 59ms/step\n",
            "Epoch 113/300\n",
            "38/38 - 2s - loss: 0.1583 - accuracy: 0.9735 - val_loss: 0.0999 - val_accuracy: 0.9934 - 2s/epoch - 59ms/step\n",
            "Epoch 114/300\n",
            "38/38 - 2s - loss: 0.1446 - accuracy: 0.9834 - val_loss: 0.0958 - val_accuracy: 0.9868 - 2s/epoch - 58ms/step\n",
            "Epoch 115/300\n",
            "38/38 - 2s - loss: 0.1541 - accuracy: 0.9719 - val_loss: 0.1010 - val_accuracy: 0.9934 - 2s/epoch - 59ms/step\n",
            "Epoch 116/300\n",
            "38/38 - 2s - loss: 0.1581 - accuracy: 0.9768 - val_loss: 0.1039 - val_accuracy: 0.9868 - 2s/epoch - 59ms/step\n",
            "Epoch 117/300\n",
            "38/38 - 2s - loss: 0.1414 - accuracy: 0.9868 - val_loss: 0.0899 - val_accuracy: 0.9934 - 2s/epoch - 59ms/step\n",
            "Epoch 118/300\n",
            "38/38 - 2s - loss: 0.1269 - accuracy: 0.9785 - val_loss: 0.0960 - val_accuracy: 0.9934 - 2s/epoch - 58ms/step\n",
            "Epoch 119/300\n",
            "38/38 - 2s - loss: 0.1363 - accuracy: 0.9851 - val_loss: 0.1001 - val_accuracy: 0.9868 - 2s/epoch - 58ms/step\n",
            "Epoch 120/300\n",
            "38/38 - 2s - loss: 0.1364 - accuracy: 0.9752 - val_loss: 0.0914 - val_accuracy: 0.9934 - 2s/epoch - 59ms/step\n",
            "Epoch 121/300\n",
            "38/38 - 2s - loss: 0.1421 - accuracy: 0.9752 - val_loss: 0.0881 - val_accuracy: 0.9934 - 2s/epoch - 58ms/step\n",
            "Epoch 122/300\n",
            "38/38 - 2s - loss: 0.1436 - accuracy: 0.9785 - val_loss: 0.0877 - val_accuracy: 0.9934 - 2s/epoch - 59ms/step\n",
            "Epoch 123/300\n",
            "38/38 - 2s - loss: 0.1251 - accuracy: 0.9884 - val_loss: 0.0927 - val_accuracy: 0.9934 - 2s/epoch - 58ms/step\n",
            "Epoch 124/300\n",
            "38/38 - 2s - loss: 0.1205 - accuracy: 0.9851 - val_loss: 0.0889 - val_accuracy: 0.9934 - 2s/epoch - 59ms/step\n",
            "Epoch 125/300\n",
            "38/38 - 2s - loss: 0.1284 - accuracy: 0.9818 - val_loss: 0.0887 - val_accuracy: 0.9934 - 2s/epoch - 58ms/step\n",
            "Epoch 126/300\n",
            "38/38 - 2s - loss: 0.1450 - accuracy: 0.9768 - val_loss: 0.0971 - val_accuracy: 0.9803 - 2s/epoch - 58ms/step\n",
            "Epoch 127/300\n",
            "38/38 - 2s - loss: 0.1421 - accuracy: 0.9752 - val_loss: 0.0972 - val_accuracy: 0.9803 - 2s/epoch - 59ms/step\n",
            "Epoch 128/300\n",
            "38/38 - 2s - loss: 0.1352 - accuracy: 0.9801 - val_loss: 0.0846 - val_accuracy: 0.9934 - 2s/epoch - 58ms/step\n",
            "Epoch 129/300\n",
            "38/38 - 2s - loss: 0.1435 - accuracy: 0.9719 - val_loss: 0.0859 - val_accuracy: 0.9934 - 2s/epoch - 58ms/step\n",
            "Epoch 130/300\n",
            "38/38 - 2s - loss: 0.1332 - accuracy: 0.9818 - val_loss: 0.0856 - val_accuracy: 0.9934 - 2s/epoch - 58ms/step\n",
            "Epoch 131/300\n",
            "38/38 - 2s - loss: 0.1227 - accuracy: 0.9834 - val_loss: 0.0798 - val_accuracy: 0.9934 - 2s/epoch - 59ms/step\n",
            "Epoch 132/300\n",
            "38/38 - 2s - loss: 0.1181 - accuracy: 0.9868 - val_loss: 0.0789 - val_accuracy: 0.9934 - 2s/epoch - 59ms/step\n",
            "Epoch 133/300\n",
            "38/38 - 2s - loss: 0.1261 - accuracy: 0.9735 - val_loss: 0.0780 - val_accuracy: 0.9868 - 2s/epoch - 58ms/step\n",
            "Epoch 134/300\n",
            "38/38 - 2s - loss: 0.1158 - accuracy: 0.9801 - val_loss: 0.0802 - val_accuracy: 0.9934 - 2s/epoch - 58ms/step\n",
            "Epoch 135/300\n",
            "38/38 - 2s - loss: 0.1374 - accuracy: 0.9685 - val_loss: 0.0791 - val_accuracy: 0.9934 - 2s/epoch - 58ms/step\n",
            "Epoch 136/300\n",
            "38/38 - 2s - loss: 0.1413 - accuracy: 0.9768 - val_loss: 0.0775 - val_accuracy: 0.9934 - 2s/epoch - 59ms/step\n",
            "Epoch 137/300\n",
            "38/38 - 2s - loss: 0.1171 - accuracy: 0.9851 - val_loss: 0.0824 - val_accuracy: 0.9934 - 2s/epoch - 59ms/step\n",
            "Epoch 138/300\n",
            "38/38 - 2s - loss: 0.1194 - accuracy: 0.9735 - val_loss: 0.0819 - val_accuracy: 0.9868 - 2s/epoch - 59ms/step\n",
            "Epoch 139/300\n",
            "38/38 - 2s - loss: 0.1261 - accuracy: 0.9818 - val_loss: 0.0947 - val_accuracy: 0.9868 - 2s/epoch - 59ms/step\n",
            "Epoch 140/300\n",
            "38/38 - 2s - loss: 0.1275 - accuracy: 0.9768 - val_loss: 0.0848 - val_accuracy: 0.9934 - 2s/epoch - 59ms/step\n",
            "Epoch 141/300\n",
            "38/38 - 2s - loss: 0.1206 - accuracy: 0.9768 - val_loss: 0.0865 - val_accuracy: 0.9934 - 2s/epoch - 59ms/step\n",
            "Epoch 142/300\n",
            "38/38 - 2s - loss: 0.1166 - accuracy: 0.9851 - val_loss: 0.0813 - val_accuracy: 0.9934 - 2s/epoch - 60ms/step\n",
            "Epoch 143/300\n",
            "38/38 - 2s - loss: 0.1039 - accuracy: 0.9868 - val_loss: 0.0853 - val_accuracy: 0.9934 - 2s/epoch - 59ms/step\n",
            "Epoch 144/300\n",
            "38/38 - 2s - loss: 0.1142 - accuracy: 0.9768 - val_loss: 0.0836 - val_accuracy: 0.9934 - 2s/epoch - 59ms/step\n",
            "Epoch 145/300\n",
            "38/38 - 2s - loss: 0.1164 - accuracy: 0.9868 - val_loss: 0.0747 - val_accuracy: 0.9934 - 2s/epoch - 58ms/step\n",
            "Epoch 146/300\n",
            "38/38 - 2s - loss: 0.1179 - accuracy: 0.9818 - val_loss: 0.0693 - val_accuracy: 0.9934 - 2s/epoch - 59ms/step\n",
            "Epoch 147/300\n",
            "38/38 - 2s - loss: 0.1145 - accuracy: 0.9818 - val_loss: 0.0818 - val_accuracy: 0.9934 - 2s/epoch - 59ms/step\n",
            "Epoch 148/300\n",
            "38/38 - 2s - loss: 0.1067 - accuracy: 0.9834 - val_loss: 0.0708 - val_accuracy: 0.9934 - 2s/epoch - 63ms/step\n",
            "Epoch 149/300\n",
            "38/38 - 4s - loss: 0.1054 - accuracy: 0.9917 - val_loss: 0.0716 - val_accuracy: 0.9934 - 4s/epoch - 100ms/step\n",
            "Epoch 150/300\n",
            "38/38 - 2s - loss: 0.1081 - accuracy: 0.9801 - val_loss: 0.0702 - val_accuracy: 0.9934 - 2s/epoch - 62ms/step\n",
            "Epoch 151/300\n",
            "38/38 - 2s - loss: 0.1307 - accuracy: 0.9801 - val_loss: 0.0717 - val_accuracy: 0.9934 - 2s/epoch - 59ms/step\n",
            "Epoch 152/300\n",
            "38/38 - 2s - loss: 0.1262 - accuracy: 0.9768 - val_loss: 0.0690 - val_accuracy: 0.9934 - 2s/epoch - 58ms/step\n",
            "Epoch 153/300\n",
            "38/38 - 2s - loss: 0.1087 - accuracy: 0.9868 - val_loss: 0.0627 - val_accuracy: 0.9934 - 2s/epoch - 58ms/step\n",
            "Epoch 154/300\n",
            "38/38 - 2s - loss: 0.1143 - accuracy: 0.9818 - val_loss: 0.0663 - val_accuracy: 0.9934 - 2s/epoch - 59ms/step\n",
            "Epoch 155/300\n",
            "38/38 - 2s - loss: 0.1070 - accuracy: 0.9884 - val_loss: 0.0710 - val_accuracy: 0.9934 - 2s/epoch - 59ms/step\n",
            "Epoch 156/300\n",
            "38/38 - 2s - loss: 0.1168 - accuracy: 0.9785 - val_loss: 0.0712 - val_accuracy: 0.9934 - 2s/epoch - 58ms/step\n",
            "Epoch 157/300\n",
            "38/38 - 2s - loss: 0.0968 - accuracy: 0.9801 - val_loss: 0.0769 - val_accuracy: 0.9934 - 2s/epoch - 59ms/step\n",
            "Epoch 158/300\n",
            "38/38 - 2s - loss: 0.1061 - accuracy: 0.9801 - val_loss: 0.0647 - val_accuracy: 0.9934 - 2s/epoch - 58ms/step\n",
            "Epoch 159/300\n",
            "38/38 - 2s - loss: 0.1184 - accuracy: 0.9785 - val_loss: 0.0733 - val_accuracy: 0.9934 - 2s/epoch - 59ms/step\n",
            "Epoch 160/300\n",
            "38/38 - 2s - loss: 0.1116 - accuracy: 0.9818 - val_loss: 0.0730 - val_accuracy: 0.9934 - 2s/epoch - 59ms/step\n",
            "Epoch 161/300\n",
            "38/38 - 2s - loss: 0.1043 - accuracy: 0.9768 - val_loss: 0.0634 - val_accuracy: 0.9934 - 2s/epoch - 58ms/step\n",
            "Epoch 162/300\n",
            "38/38 - 2s - loss: 0.0863 - accuracy: 0.9917 - val_loss: 0.0726 - val_accuracy: 0.9934 - 2s/epoch - 58ms/step\n",
            "Epoch 163/300\n",
            "38/38 - 2s - loss: 0.1057 - accuracy: 0.9801 - val_loss: 0.0686 - val_accuracy: 0.9934 - 2s/epoch - 59ms/step\n",
            "Epoch 164/300\n",
            "38/38 - 2s - loss: 0.0929 - accuracy: 0.9884 - val_loss: 0.0717 - val_accuracy: 0.9934 - 2s/epoch - 59ms/step\n",
            "Epoch 165/300\n",
            "38/38 - 2s - loss: 0.1076 - accuracy: 0.9818 - val_loss: 0.0692 - val_accuracy: 0.9934 - 2s/epoch - 59ms/step\n",
            "Epoch 166/300\n",
            "38/38 - 2s - loss: 0.0970 - accuracy: 0.9868 - val_loss: 0.0763 - val_accuracy: 0.9934 - 2s/epoch - 60ms/step\n",
            "Epoch 167/300\n",
            "38/38 - 2s - loss: 0.1047 - accuracy: 0.9834 - val_loss: 0.0614 - val_accuracy: 0.9934 - 2s/epoch - 59ms/step\n",
            "Epoch 168/300\n",
            "38/38 - 2s - loss: 0.1061 - accuracy: 0.9785 - val_loss: 0.0622 - val_accuracy: 0.9934 - 2s/epoch - 60ms/step\n",
            "Epoch 169/300\n",
            "38/38 - 2s - loss: 0.0939 - accuracy: 0.9868 - val_loss: 0.0688 - val_accuracy: 0.9934 - 2s/epoch - 58ms/step\n",
            "Epoch 170/300\n",
            "38/38 - 2s - loss: 0.1038 - accuracy: 0.9801 - val_loss: 0.0634 - val_accuracy: 0.9934 - 2s/epoch - 59ms/step\n",
            "Epoch 171/300\n",
            "38/38 - 2s - loss: 0.0847 - accuracy: 0.9851 - val_loss: 0.0628 - val_accuracy: 0.9934 - 2s/epoch - 59ms/step\n",
            "Epoch 172/300\n",
            "38/38 - 2s - loss: 0.1144 - accuracy: 0.9785 - val_loss: 0.0604 - val_accuracy: 0.9934 - 2s/epoch - 58ms/step\n",
            "Epoch 173/300\n",
            "38/38 - 2s - loss: 0.0904 - accuracy: 0.9901 - val_loss: 0.0616 - val_accuracy: 0.9934 - 2s/epoch - 60ms/step\n",
            "Epoch 174/300\n",
            "38/38 - 2s - loss: 0.0845 - accuracy: 0.9868 - val_loss: 0.0612 - val_accuracy: 0.9868 - 2s/epoch - 58ms/step\n",
            "Epoch 175/300\n",
            "38/38 - 2s - loss: 0.0944 - accuracy: 0.9851 - val_loss: 0.0623 - val_accuracy: 0.9934 - 2s/epoch - 59ms/step\n",
            "Epoch 176/300\n",
            "38/38 - 2s - loss: 0.1165 - accuracy: 0.9785 - val_loss: 0.0621 - val_accuracy: 0.9934 - 2s/epoch - 58ms/step\n",
            "Epoch 177/300\n",
            "38/38 - 2s - loss: 0.1030 - accuracy: 0.9768 - val_loss: 0.0545 - val_accuracy: 0.9934 - 2s/epoch - 59ms/step\n",
            "Epoch 178/300\n",
            "38/38 - 2s - loss: 0.0970 - accuracy: 0.9901 - val_loss: 0.0585 - val_accuracy: 0.9934 - 2s/epoch - 59ms/step\n",
            "Epoch 179/300\n",
            "38/38 - 2s - loss: 0.1031 - accuracy: 0.9752 - val_loss: 0.0560 - val_accuracy: 0.9934 - 2s/epoch - 58ms/step\n",
            "Epoch 180/300\n",
            "38/38 - 2s - loss: 0.1152 - accuracy: 0.9719 - val_loss: 0.0698 - val_accuracy: 0.9868 - 2s/epoch - 59ms/step\n",
            "Epoch 181/300\n",
            "38/38 - 2s - loss: 0.1050 - accuracy: 0.9768 - val_loss: 0.0564 - val_accuracy: 0.9934 - 2s/epoch - 58ms/step\n",
            "Epoch 182/300\n",
            "38/38 - 2s - loss: 0.0883 - accuracy: 0.9884 - val_loss: 0.0565 - val_accuracy: 0.9934 - 2s/epoch - 59ms/step\n",
            "Epoch 183/300\n",
            "38/38 - 2s - loss: 0.0868 - accuracy: 0.9868 - val_loss: 0.0566 - val_accuracy: 0.9934 - 2s/epoch - 58ms/step\n",
            "Epoch 184/300\n",
            "38/38 - 2s - loss: 0.0811 - accuracy: 0.9934 - val_loss: 0.0626 - val_accuracy: 0.9934 - 2s/epoch - 59ms/step\n",
            "Epoch 185/300\n",
            "38/38 - 2s - loss: 0.0843 - accuracy: 0.9868 - val_loss: 0.0540 - val_accuracy: 0.9934 - 2s/epoch - 58ms/step\n",
            "Epoch 186/300\n",
            "38/38 - 2s - loss: 0.0992 - accuracy: 0.9834 - val_loss: 0.0519 - val_accuracy: 0.9934 - 2s/epoch - 58ms/step\n",
            "Epoch 187/300\n",
            "38/38 - 2s - loss: 0.0803 - accuracy: 0.9917 - val_loss: 0.0474 - val_accuracy: 0.9934 - 2s/epoch - 59ms/step\n",
            "Epoch 188/300\n",
            "38/38 - 2s - loss: 0.0867 - accuracy: 0.9834 - val_loss: 0.0527 - val_accuracy: 0.9934 - 2s/epoch - 58ms/step\n",
            "Epoch 189/300\n",
            "38/38 - 2s - loss: 0.0835 - accuracy: 0.9818 - val_loss: 0.0560 - val_accuracy: 0.9934 - 2s/epoch - 59ms/step\n",
            "Epoch 190/300\n",
            "38/38 - 2s - loss: 0.0968 - accuracy: 0.9801 - val_loss: 0.0617 - val_accuracy: 0.9934 - 2s/epoch - 59ms/step\n",
            "Epoch 191/300\n",
            "38/38 - 2s - loss: 0.1031 - accuracy: 0.9785 - val_loss: 0.0539 - val_accuracy: 0.9934 - 2s/epoch - 58ms/step\n",
            "Epoch 192/300\n",
            "38/38 - 2s - loss: 0.0888 - accuracy: 0.9884 - val_loss: 0.0524 - val_accuracy: 0.9934 - 2s/epoch - 60ms/step\n",
            "Epoch 193/300\n",
            "38/38 - 2s - loss: 0.0749 - accuracy: 0.9884 - val_loss: 0.0590 - val_accuracy: 0.9934 - 2s/epoch - 59ms/step\n",
            "Epoch 194/300\n",
            "38/38 - 3s - loss: 0.0808 - accuracy: 0.9884 - val_loss: 0.0584 - val_accuracy: 0.9934 - 3s/epoch - 79ms/step\n",
            "Epoch 195/300\n",
            "38/38 - 3s - loss: 0.0695 - accuracy: 0.9917 - val_loss: 0.0516 - val_accuracy: 0.9934 - 3s/epoch - 87ms/step\n",
            "Epoch 196/300\n",
            "38/38 - 2s - loss: 0.0771 - accuracy: 0.9818 - val_loss: 0.0536 - val_accuracy: 0.9934 - 2s/epoch - 59ms/step\n",
            "Epoch 197/300\n",
            "38/38 - 2s - loss: 0.1010 - accuracy: 0.9768 - val_loss: 0.0578 - val_accuracy: 0.9934 - 2s/epoch - 58ms/step\n",
            "Epoch 198/300\n",
            "38/38 - 2s - loss: 0.0799 - accuracy: 0.9834 - val_loss: 0.0534 - val_accuracy: 0.9934 - 2s/epoch - 58ms/step\n",
            "Epoch 199/300\n",
            "38/38 - 2s - loss: 0.0812 - accuracy: 0.9851 - val_loss: 0.0454 - val_accuracy: 0.9934 - 2s/epoch - 59ms/step\n",
            "Epoch 200/300\n",
            "38/38 - 2s - loss: 0.0910 - accuracy: 0.9851 - val_loss: 0.0474 - val_accuracy: 0.9934 - 2s/epoch - 59ms/step\n",
            "Epoch 201/300\n",
            "38/38 - 2s - loss: 0.0881 - accuracy: 0.9884 - val_loss: 0.0615 - val_accuracy: 0.9934 - 2s/epoch - 58ms/step\n",
            "Epoch 202/300\n",
            "38/38 - 2s - loss: 0.0789 - accuracy: 0.9917 - val_loss: 0.0513 - val_accuracy: 0.9934 - 2s/epoch - 59ms/step\n",
            "Epoch 203/300\n",
            "38/38 - 2s - loss: 0.0854 - accuracy: 0.9884 - val_loss: 0.0511 - val_accuracy: 0.9934 - 2s/epoch - 59ms/step\n",
            "Epoch 204/300\n",
            "38/38 - 2s - loss: 0.0944 - accuracy: 0.9785 - val_loss: 0.0545 - val_accuracy: 0.9934 - 2s/epoch - 58ms/step\n",
            "Epoch 205/300\n",
            "38/38 - 2s - loss: 0.0816 - accuracy: 0.9818 - val_loss: 0.0600 - val_accuracy: 0.9934 - 2s/epoch - 59ms/step\n",
            "Epoch 206/300\n",
            "38/38 - 2s - loss: 0.0850 - accuracy: 0.9851 - val_loss: 0.0533 - val_accuracy: 0.9934 - 2s/epoch - 58ms/step\n",
            "Epoch 207/300\n",
            "38/38 - 2s - loss: 0.0816 - accuracy: 0.9950 - val_loss: 0.0623 - val_accuracy: 0.9934 - 2s/epoch - 58ms/step\n",
            "Epoch 208/300\n",
            "38/38 - 2s - loss: 0.0868 - accuracy: 0.9801 - val_loss: 0.0561 - val_accuracy: 0.9934 - 2s/epoch - 59ms/step\n",
            "Epoch 209/300\n",
            "38/38 - 2s - loss: 0.0788 - accuracy: 0.9884 - val_loss: 0.0578 - val_accuracy: 0.9934 - 2s/epoch - 58ms/step\n",
            "Epoch 210/300\n",
            "38/38 - 2s - loss: 0.0843 - accuracy: 0.9884 - val_loss: 0.0496 - val_accuracy: 0.9934 - 2s/epoch - 59ms/step\n",
            "Epoch 211/300\n",
            "38/38 - 2s - loss: 0.0776 - accuracy: 0.9868 - val_loss: 0.0617 - val_accuracy: 0.9868 - 2s/epoch - 59ms/step\n",
            "Epoch 212/300\n",
            "38/38 - 2s - loss: 0.0927 - accuracy: 0.9801 - val_loss: 0.0666 - val_accuracy: 0.9934 - 2s/epoch - 58ms/step\n",
            "Epoch 213/300\n",
            "38/38 - 2s - loss: 0.0882 - accuracy: 0.9801 - val_loss: 0.0457 - val_accuracy: 0.9934 - 2s/epoch - 58ms/step\n",
            "Epoch 214/300\n",
            "38/38 - 2s - loss: 0.0809 - accuracy: 0.9801 - val_loss: 0.0589 - val_accuracy: 0.9934 - 2s/epoch - 59ms/step\n",
            "Epoch 215/300\n",
            "38/38 - 2s - loss: 0.0782 - accuracy: 0.9868 - val_loss: 0.0517 - val_accuracy: 0.9934 - 2s/epoch - 59ms/step\n",
            "Epoch 216/300\n",
            "38/38 - 2s - loss: 0.0902 - accuracy: 0.9785 - val_loss: 0.0509 - val_accuracy: 0.9934 - 2s/epoch - 58ms/step\n",
            "Epoch 217/300\n",
            "38/38 - 2s - loss: 0.0794 - accuracy: 0.9851 - val_loss: 0.0586 - val_accuracy: 0.9934 - 2s/epoch - 58ms/step\n",
            "Epoch 218/300\n",
            "38/38 - 2s - loss: 0.0783 - accuracy: 0.9851 - val_loss: 0.0425 - val_accuracy: 0.9934 - 2s/epoch - 58ms/step\n",
            "Epoch 219/300\n",
            "38/38 - 2s - loss: 0.0771 - accuracy: 0.9917 - val_loss: 0.0414 - val_accuracy: 0.9934 - 2s/epoch - 59ms/step\n",
            "Epoch 220/300\n",
            "38/38 - 2s - loss: 0.0828 - accuracy: 0.9851 - val_loss: 0.0506 - val_accuracy: 0.9934 - 2s/epoch - 59ms/step\n",
            "Epoch 221/300\n",
            "38/38 - 2s - loss: 0.0752 - accuracy: 0.9868 - val_loss: 0.0557 - val_accuracy: 0.9934 - 2s/epoch - 58ms/step\n",
            "Epoch 222/300\n",
            "38/38 - 2s - loss: 0.0861 - accuracy: 0.9834 - val_loss: 0.0551 - val_accuracy: 0.9934 - 2s/epoch - 59ms/step\n",
            "Epoch 223/300\n",
            "38/38 - 2s - loss: 0.0755 - accuracy: 0.9801 - val_loss: 0.0510 - val_accuracy: 0.9934 - 2s/epoch - 59ms/step\n",
            "Epoch 224/300\n",
            "38/38 - 2s - loss: 0.0787 - accuracy: 0.9868 - val_loss: 0.0665 - val_accuracy: 0.9934 - 2s/epoch - 59ms/step\n",
            "Epoch 225/300\n",
            "38/38 - 2s - loss: 0.0731 - accuracy: 0.9901 - val_loss: 0.0524 - val_accuracy: 0.9934 - 2s/epoch - 59ms/step\n",
            "Epoch 226/300\n",
            "38/38 - 2s - loss: 0.0795 - accuracy: 0.9851 - val_loss: 0.0556 - val_accuracy: 0.9934 - 2s/epoch - 59ms/step\n",
            "Epoch 227/300\n",
            "38/38 - 2s - loss: 0.0708 - accuracy: 0.9901 - val_loss: 0.0588 - val_accuracy: 0.9934 - 2s/epoch - 58ms/step\n",
            "Epoch 228/300\n",
            "38/38 - 2s - loss: 0.0710 - accuracy: 0.9868 - val_loss: 0.0490 - val_accuracy: 0.9934 - 2s/epoch - 59ms/step\n",
            "Epoch 229/300\n",
            "38/38 - 2s - loss: 0.0661 - accuracy: 0.9884 - val_loss: 0.0498 - val_accuracy: 0.9934 - 2s/epoch - 58ms/step\n",
            "Epoch 230/300\n",
            "38/38 - 2s - loss: 0.0791 - accuracy: 0.9801 - val_loss: 0.0582 - val_accuracy: 0.9934 - 2s/epoch - 58ms/step\n",
            "Epoch 231/300\n",
            "38/38 - 2s - loss: 0.0818 - accuracy: 0.9934 - val_loss: 0.0509 - val_accuracy: 0.9934 - 2s/epoch - 58ms/step\n",
            "Epoch 232/300\n",
            "38/38 - 2s - loss: 0.0672 - accuracy: 0.9834 - val_loss: 0.0532 - val_accuracy: 0.9934 - 2s/epoch - 58ms/step\n",
            "Epoch 233/300\n",
            "38/38 - 2s - loss: 0.0569 - accuracy: 0.9950 - val_loss: 0.0529 - val_accuracy: 0.9934 - 2s/epoch - 59ms/step\n",
            "Epoch 234/300\n",
            "38/38 - 2s - loss: 0.0785 - accuracy: 0.9851 - val_loss: 0.0483 - val_accuracy: 0.9934 - 2s/epoch - 59ms/step\n",
            "Epoch 235/300\n",
            "38/38 - 2s - loss: 0.0836 - accuracy: 0.9818 - val_loss: 0.0505 - val_accuracy: 0.9934 - 2s/epoch - 59ms/step\n",
            "Epoch 236/300\n",
            "38/38 - 2s - loss: 0.0635 - accuracy: 0.9901 - val_loss: 0.0462 - val_accuracy: 0.9934 - 2s/epoch - 59ms/step\n",
            "Epoch 237/300\n",
            "38/38 - 2s - loss: 0.0638 - accuracy: 0.9917 - val_loss: 0.0428 - val_accuracy: 0.9934 - 2s/epoch - 59ms/step\n",
            "Epoch 238/300\n",
            "38/38 - 2s - loss: 0.0789 - accuracy: 0.9801 - val_loss: 0.0429 - val_accuracy: 0.9934 - 2s/epoch - 59ms/step\n",
            "Epoch 239/300\n",
            "38/38 - 2s - loss: 0.0614 - accuracy: 0.9917 - val_loss: 0.0487 - val_accuracy: 0.9934 - 2s/epoch - 59ms/step\n",
            "Epoch 240/300\n",
            "38/38 - 3s - loss: 0.0696 - accuracy: 0.9834 - val_loss: 0.0517 - val_accuracy: 0.9934 - 3s/epoch - 81ms/step\n",
            "Epoch 241/300\n",
            "38/38 - 3s - loss: 0.0793 - accuracy: 0.9818 - val_loss: 0.0393 - val_accuracy: 0.9934 - 3s/epoch - 84ms/step\n",
            "Epoch 242/300\n",
            "38/38 - 2s - loss: 0.0836 - accuracy: 0.9851 - val_loss: 0.0565 - val_accuracy: 0.9868 - 2s/epoch - 59ms/step\n",
            "Epoch 243/300\n",
            "38/38 - 2s - loss: 0.0795 - accuracy: 0.9818 - val_loss: 0.0612 - val_accuracy: 0.9934 - 2s/epoch - 58ms/step\n",
            "Epoch 244/300\n",
            "38/38 - 2s - loss: 0.0700 - accuracy: 0.9901 - val_loss: 0.0509 - val_accuracy: 0.9934 - 2s/epoch - 59ms/step\n",
            "Epoch 245/300\n",
            "38/38 - 2s - loss: 0.0852 - accuracy: 0.9818 - val_loss: 0.0515 - val_accuracy: 0.9934 - 2s/epoch - 58ms/step\n",
            "Epoch 246/300\n",
            "38/38 - 2s - loss: 0.0685 - accuracy: 0.9834 - val_loss: 0.0468 - val_accuracy: 0.9934 - 2s/epoch - 59ms/step\n",
            "Epoch 247/300\n",
            "38/38 - 2s - loss: 0.0644 - accuracy: 0.9901 - val_loss: 0.0474 - val_accuracy: 0.9934 - 2s/epoch - 58ms/step\n",
            "Epoch 248/300\n",
            "38/38 - 2s - loss: 0.0640 - accuracy: 0.9917 - val_loss: 0.0455 - val_accuracy: 0.9934 - 2s/epoch - 59ms/step\n",
            "Epoch 249/300\n",
            "38/38 - 2s - loss: 0.0804 - accuracy: 0.9818 - val_loss: 0.0415 - val_accuracy: 0.9934 - 2s/epoch - 59ms/step\n",
            "Epoch 250/300\n",
            "38/38 - 2s - loss: 0.0705 - accuracy: 0.9818 - val_loss: 0.0440 - val_accuracy: 0.9934 - 2s/epoch - 59ms/step\n",
            "Epoch 251/300\n",
            "38/38 - 2s - loss: 0.0657 - accuracy: 0.9851 - val_loss: 0.0420 - val_accuracy: 0.9934 - 2s/epoch - 59ms/step\n",
            "Epoch 252/300\n",
            "38/38 - 2s - loss: 0.0671 - accuracy: 0.9868 - val_loss: 0.0540 - val_accuracy: 0.9934 - 2s/epoch - 59ms/step\n",
            "Epoch 253/300\n",
            "38/38 - 2s - loss: 0.0717 - accuracy: 0.9901 - val_loss: 0.0431 - val_accuracy: 0.9934 - 2s/epoch - 58ms/step\n",
            "Epoch 254/300\n",
            "38/38 - 2s - loss: 0.0857 - accuracy: 0.9818 - val_loss: 0.0475 - val_accuracy: 0.9934 - 2s/epoch - 58ms/step\n",
            "Epoch 255/300\n",
            "38/38 - 2s - loss: 0.0586 - accuracy: 0.9934 - val_loss: 0.0485 - val_accuracy: 0.9934 - 2s/epoch - 59ms/step\n",
            "Epoch 256/300\n",
            "38/38 - 2s - loss: 0.0677 - accuracy: 0.9884 - val_loss: 0.0343 - val_accuracy: 0.9934 - 2s/epoch - 59ms/step\n",
            "Epoch 257/300\n",
            "38/38 - 2s - loss: 0.0914 - accuracy: 0.9768 - val_loss: 0.0497 - val_accuracy: 0.9934 - 2s/epoch - 58ms/step\n",
            "Epoch 258/300\n",
            "38/38 - 2s - loss: 0.0613 - accuracy: 0.9934 - val_loss: 0.0382 - val_accuracy: 0.9934 - 2s/epoch - 58ms/step\n",
            "Epoch 259/300\n",
            "38/38 - 2s - loss: 0.0607 - accuracy: 0.9950 - val_loss: 0.0449 - val_accuracy: 0.9934 - 2s/epoch - 58ms/step\n",
            "Epoch 260/300\n",
            "38/38 - 2s - loss: 0.0601 - accuracy: 0.9868 - val_loss: 0.0448 - val_accuracy: 0.9934 - 2s/epoch - 60ms/step\n",
            "Epoch 261/300\n",
            "38/38 - 2s - loss: 0.0642 - accuracy: 0.9884 - val_loss: 0.0365 - val_accuracy: 0.9868 - 2s/epoch - 59ms/step\n",
            "Epoch 262/300\n",
            "38/38 - 2s - loss: 0.0756 - accuracy: 0.9818 - val_loss: 0.0300 - val_accuracy: 0.9934 - 2s/epoch - 58ms/step\n",
            "Epoch 263/300\n",
            "38/38 - 2s - loss: 0.0640 - accuracy: 0.9917 - val_loss: 0.0369 - val_accuracy: 0.9934 - 2s/epoch - 59ms/step\n",
            "Epoch 264/300\n",
            "38/38 - 2s - loss: 0.0824 - accuracy: 0.9818 - val_loss: 0.0493 - val_accuracy: 0.9934 - 2s/epoch - 58ms/step\n",
            "Epoch 265/300\n",
            "38/38 - 2s - loss: 0.0605 - accuracy: 0.9884 - val_loss: 0.0395 - val_accuracy: 0.9934 - 2s/epoch - 59ms/step\n",
            "Epoch 266/300\n",
            "38/38 - 2s - loss: 0.0586 - accuracy: 0.9917 - val_loss: 0.0437 - val_accuracy: 0.9934 - 2s/epoch - 58ms/step\n",
            "Epoch 267/300\n",
            "38/38 - 2s - loss: 0.0503 - accuracy: 0.9934 - val_loss: 0.0431 - val_accuracy: 0.9934 - 2s/epoch - 59ms/step\n",
            "Epoch 268/300\n",
            "38/38 - 2s - loss: 0.0678 - accuracy: 0.9884 - val_loss: 0.0438 - val_accuracy: 0.9934 - 2s/epoch - 58ms/step\n",
            "Epoch 269/300\n",
            "38/38 - 2s - loss: 0.0718 - accuracy: 0.9884 - val_loss: 0.0368 - val_accuracy: 0.9934 - 2s/epoch - 58ms/step\n",
            "Epoch 270/300\n",
            "38/38 - 2s - loss: 0.0581 - accuracy: 0.9851 - val_loss: 0.0359 - val_accuracy: 0.9934 - 2s/epoch - 59ms/step\n",
            "Epoch 271/300\n",
            "38/38 - 2s - loss: 0.0603 - accuracy: 0.9934 - val_loss: 0.0435 - val_accuracy: 0.9934 - 2s/epoch - 58ms/step\n",
            "Epoch 272/300\n",
            "38/38 - 2s - loss: 0.0642 - accuracy: 0.9834 - val_loss: 0.0358 - val_accuracy: 0.9934 - 2s/epoch - 58ms/step\n",
            "Epoch 273/300\n",
            "38/38 - 2s - loss: 0.0569 - accuracy: 0.9884 - val_loss: 0.0304 - val_accuracy: 0.9934 - 2s/epoch - 59ms/step\n",
            "Epoch 274/300\n",
            "38/38 - 2s - loss: 0.0624 - accuracy: 0.9868 - val_loss: 0.0340 - val_accuracy: 1.0000 - 2s/epoch - 59ms/step\n",
            "Epoch 275/300\n",
            "38/38 - 2s - loss: 0.0676 - accuracy: 0.9884 - val_loss: 0.0360 - val_accuracy: 0.9934 - 2s/epoch - 60ms/step\n",
            "Epoch 276/300\n",
            "38/38 - 2s - loss: 0.0501 - accuracy: 0.9950 - val_loss: 0.0394 - val_accuracy: 0.9934 - 2s/epoch - 59ms/step\n",
            "Epoch 277/300\n",
            "38/38 - 2s - loss: 0.0604 - accuracy: 0.9868 - val_loss: 0.0397 - val_accuracy: 0.9934 - 2s/epoch - 59ms/step\n",
            "Epoch 278/300\n",
            "38/38 - 2s - loss: 0.0654 - accuracy: 0.9868 - val_loss: 0.0345 - val_accuracy: 0.9934 - 2s/epoch - 59ms/step\n",
            "Epoch 279/300\n",
            "38/38 - 2s - loss: 0.0574 - accuracy: 0.9917 - val_loss: 0.0361 - val_accuracy: 0.9934 - 2s/epoch - 60ms/step\n",
            "Epoch 280/300\n",
            "38/38 - 2s - loss: 0.0635 - accuracy: 0.9851 - val_loss: 0.0352 - val_accuracy: 0.9934 - 2s/epoch - 58ms/step\n",
            "Epoch 281/300\n",
            "38/38 - 2s - loss: 0.0666 - accuracy: 0.9834 - val_loss: 0.0462 - val_accuracy: 0.9934 - 2s/epoch - 59ms/step\n",
            "Epoch 282/300\n",
            "38/38 - 2s - loss: 0.0550 - accuracy: 0.9934 - val_loss: 0.0426 - val_accuracy: 0.9934 - 2s/epoch - 58ms/step\n",
            "Epoch 283/300\n",
            "38/38 - 2s - loss: 0.0525 - accuracy: 0.9917 - val_loss: 0.0460 - val_accuracy: 0.9934 - 2s/epoch - 58ms/step\n",
            "Epoch 284/300\n",
            "38/38 - 2s - loss: 0.0579 - accuracy: 0.9868 - val_loss: 0.0330 - val_accuracy: 0.9934 - 2s/epoch - 59ms/step\n",
            "Epoch 285/300\n",
            "38/38 - 2s - loss: 0.0630 - accuracy: 0.9834 - val_loss: 0.0448 - val_accuracy: 0.9934 - 2s/epoch - 58ms/step\n",
            "Epoch 286/300\n",
            "38/38 - 3s - loss: 0.0606 - accuracy: 0.9884 - val_loss: 0.0354 - val_accuracy: 0.9934 - 3s/epoch - 73ms/step\n",
            "Epoch 287/300\n",
            "38/38 - 4s - loss: 0.0538 - accuracy: 0.9901 - val_loss: 0.0564 - val_accuracy: 0.9934 - 4s/epoch - 93ms/step\n",
            "Epoch 288/300\n",
            "38/38 - 2s - loss: 0.0616 - accuracy: 0.9834 - val_loss: 0.0397 - val_accuracy: 0.9934 - 2s/epoch - 59ms/step\n",
            "Epoch 289/300\n",
            "38/38 - 2s - loss: 0.0830 - accuracy: 0.9752 - val_loss: 0.0463 - val_accuracy: 0.9934 - 2s/epoch - 60ms/step\n",
            "Epoch 290/300\n",
            "38/38 - 2s - loss: 0.0547 - accuracy: 0.9950 - val_loss: 0.0320 - val_accuracy: 0.9934 - 2s/epoch - 58ms/step\n",
            "Epoch 291/300\n",
            "38/38 - 2s - loss: 0.0507 - accuracy: 0.9917 - val_loss: 0.0473 - val_accuracy: 0.9934 - 2s/epoch - 58ms/step\n",
            "Epoch 292/300\n",
            "38/38 - 2s - loss: 0.0523 - accuracy: 0.9917 - val_loss: 0.0537 - val_accuracy: 0.9934 - 2s/epoch - 59ms/step\n",
            "Epoch 293/300\n",
            "38/38 - 2s - loss: 0.0468 - accuracy: 0.9950 - val_loss: 0.0361 - val_accuracy: 0.9934 - 2s/epoch - 58ms/step\n",
            "Epoch 294/300\n",
            "38/38 - 2s - loss: 0.0584 - accuracy: 0.9851 - val_loss: 0.0450 - val_accuracy: 0.9934 - 2s/epoch - 59ms/step\n",
            "Epoch 295/300\n",
            "38/38 - 2s - loss: 0.0539 - accuracy: 0.9901 - val_loss: 0.0561 - val_accuracy: 0.9934 - 2s/epoch - 58ms/step\n",
            "Epoch 296/300\n",
            "38/38 - 2s - loss: 0.0609 - accuracy: 0.9851 - val_loss: 0.0424 - val_accuracy: 0.9934 - 2s/epoch - 58ms/step\n",
            "Epoch 297/300\n",
            "38/38 - 2s - loss: 0.0651 - accuracy: 0.9834 - val_loss: 0.0312 - val_accuracy: 0.9934 - 2s/epoch - 60ms/step\n",
            "Epoch 298/300\n",
            "38/38 - 2s - loss: 0.0647 - accuracy: 0.9917 - val_loss: 0.0423 - val_accuracy: 0.9934 - 2s/epoch - 58ms/step\n",
            "Epoch 299/300\n",
            "38/38 - 2s - loss: 0.0483 - accuracy: 0.9950 - val_loss: 0.0361 - val_accuracy: 0.9934 - 2s/epoch - 59ms/step\n",
            "Epoch 300/300\n",
            "38/38 - 2s - loss: 0.0567 - accuracy: 0.9884 - val_loss: 0.0436 - val_accuracy: 0.9934 - 2s/epoch - 58ms/step\n"
          ]
        }
      ]
    },
    {
      "cell_type": "code",
      "source": [
        "nans_test=model.predict(nX_test)\n",
        "print(nans_test.shape)\n",
        "nans=[]\n",
        "for i in nans_test:\n",
        "  # print(i)\n",
        "  nans.append(np.argmax(i))\n",
        "\n",
        "nans=np.array(nans).reshape(190,1).astype(int)\n"
      ],
      "metadata": {
        "colab": {
          "base_uri": "https://localhost:8080/"
        },
        "id": "EJM0NGLGouSA",
        "outputId": "4bc1c21b-0ccf-422a-f8c2-cd2c39eeb309"
      },
      "execution_count": 95,
      "outputs": [
        {
          "output_type": "stream",
          "name": "stdout",
          "text": [
            "6/6 [==============================] - 0s 23ms/step\n",
            "(190, 6)\n"
          ]
        }
      ]
    },
    {
      "cell_type": "code",
      "source": [
        "# plt.plot(fittedModel.history['accuracy'])\n",
        "# plt.plot(fittedModel.history['val_accuracy'])\n",
        "plt.plot(fittedModel.history['loss'])\n",
        "plt.plot(fittedModel.history['val_loss'])\n",
        "plt.title('EGGNet loss')\n",
        "plt.xlabel('epoch')\n",
        "plt.ylabel('loss')\n",
        "plt.legend(['loss','val_loss'], loc='upper right')\n",
        "plt.show()\n"
      ],
      "metadata": {
        "colab": {
          "base_uri": "https://localhost:8080/",
          "height": 295
        },
        "id": "PlaMbvy-2lpW",
        "outputId": "7018e09b-27e9-4a73-9298-a0a992bc2ab6"
      },
      "execution_count": 96,
      "outputs": [
        {
          "output_type": "display_data",
          "data": {
            "text/plain": [
              "<Figure size 432x288 with 1 Axes>"
            ],
            "image/png": "[encoded data removed]"
          },
          "metadata": {
            "needs_background": "light"
          }
        }
      ]
    },
    {
      "cell_type": "code",
      "source": [
        "# output = \"...\"\n",
        "assert(nans.shape == (190, 1))\n",
        "np.savetxt('eegnet_output.csv', nans,fmt='%i', delimiter=\",\")\n",
        "np.savetxt('competition_output.csv', nans,fmt='%i', delimiter=\",\")"
      ],
      "metadata": {
        "id": "Ge8jZUU8gve3"
      },
      "execution_count": 97,
      "outputs": []
    },
    {
      "cell_type": "markdown",
      "source": [
        "## Model Competition Part"
      ],
      "metadata": {
        "id": "qnHnQ_yVerBo"
      }
    },
    {
      "cell_type": "code",
      "source": [
        "# Build your model here:\n"
      ],
      "metadata": {
        "id": "zlhO90b9iB_-"
      },
      "execution_count": 98,
      "outputs": []
    },
    {
      "cell_type": "code",
      "source": [
        "output = \"...\"\n",
        "assert(output.shape == (190, 1))\n",
        "np.savetxt('competition_output.csv', output, delimiter=\",\")"
      ],
      "metadata": {
        "id": "m097nvkXiIqY",
        "colab": {
          "base_uri": "https://localhost:8080/",
          "height": 202
        },
        "outputId": "fb422447-c922-4012-99d4-f0fdc386b4c1"
      },
      "execution_count": 99,
      "outputs": [
        {
          "output_type": "error",
          "ename": "AttributeError",
          "evalue": "ignored",
          "traceback": [
            "\u001b[0;31m---------------------------------------------------------------------------\u001b[0m",
            "\u001b[0;31mAttributeError\u001b[0m                            Traceback (most recent call last)",
            "\u001b[0;32m<ipython-input-99-26137f07401b>\u001b[0m in \u001b[0;36m<module>\u001b[0;34m\u001b[0m\n\u001b[1;32m      1\u001b[0m \u001b[0moutput\u001b[0m \u001b[0;34m=\u001b[0m \u001b[0;34m\"...\"\u001b[0m\u001b[0;34m\u001b[0m\u001b[0;34m\u001b[0m\u001b[0m\n\u001b[0;32m----> 2\u001b[0;31m \u001b[0;32massert\u001b[0m\u001b[0;34m(\u001b[0m\u001b[0moutput\u001b[0m\u001b[0;34m.\u001b[0m\u001b[0mshape\u001b[0m \u001b[0;34m==\u001b[0m \u001b[0;34m(\u001b[0m\u001b[0;36m190\u001b[0m\u001b[0;34m,\u001b[0m \u001b[0;36m1\u001b[0m\u001b[0;34m)\u001b[0m\u001b[0;34m)\u001b[0m\u001b[0;34m\u001b[0m\u001b[0;34m\u001b[0m\u001b[0m\n\u001b[0m\u001b[1;32m      3\u001b[0m \u001b[0mnp\u001b[0m\u001b[0;34m.\u001b[0m\u001b[0msavetxt\u001b[0m\u001b[0;34m(\u001b[0m\u001b[0;34m'competition_output.csv'\u001b[0m\u001b[0;34m,\u001b[0m \u001b[0moutput\u001b[0m\u001b[0;34m,\u001b[0m \u001b[0mdelimiter\u001b[0m\u001b[0;34m=\u001b[0m\u001b[0;34m\",\"\u001b[0m\u001b[0;34m)\u001b[0m\u001b[0;34m\u001b[0m\u001b[0;34m\u001b[0m\u001b[0m\n",
            "\u001b[0;31mAttributeError\u001b[0m: 'str' object has no attribute 'shape'"
          ]
        }
      ]
    }
  ]
}