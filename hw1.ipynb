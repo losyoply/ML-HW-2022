{
  "nbformat": 4,
  "nbformat_minor": 0,
  "metadata": {
    "colab": {
      "provenance": [],
      "collapsed_sections": []
    },
    "kernelspec": {
      "name": "python3",
      "display_name": "Python 3"
    },
    "language_info": {
      "name": "python"
    }
  },
  "cells": [
    {
      "cell_type": "code",
      "source": [
        "from google.colab import drive\n",
        "drive.mount('/content/drive')"
      ],
      "metadata": {
        "colab": {
          "base_uri": "https://localhost:8080/"
        },
        "id": "g02vES1UjEib",
        "outputId": "b6b3abbb-c905-4c31-abd9-0bd18dc03e00"
      },
      "execution_count": 287,
      "outputs": [
        {
          "output_type": "stream",
          "name": "stdout",
          "text": [
            "Drive already mounted at /content/drive; to attempt to forcibly remount, call drive.mount(\"/content/drive\", force_remount=True).\n"
          ]
        }
      ]
    },
    {
      "cell_type": "markdown",
      "source": [
        "# **HW1: Regression** \n",
        "In *assignment 1*, you need to finish:\n",
        "\n",
        "1.  Basic Part: Implement the regression model to predict the number of dengue cases\n",
        "\n",
        "\n",
        "> *   Step 1: Split Data\n",
        "> *   Step 2: Preprocess Data\n",
        "> *   Step 3: Implement Regression\n",
        "> *   Step 4: Make Prediction\n",
        "> *   Step 5: Train Model and Generate Result\n",
        "\n",
        "2.  Advanced Part: Implementing a regression model to predict the number of dengue cases in a different way than the basic part"
      ],
      "metadata": {
        "id": "X_Te27fi-0pP"
      }
    },
    {
      "cell_type": "markdown",
      "source": [
        "# 1. Basic Part (60%)\n",
        "In the first part, you need to implement the regression to predict the number of dengue cases\n",
        "\n",
        "Please save the prediction result in a csv file **hw1_basic.csv**\n"
      ],
      "metadata": {
        "id": "_wDdnos-4uUv"
      }
    },
    {
      "cell_type": "markdown",
      "source": [
        "## Import Packages\n",
        "\n",
        "> Note: You **cannot** import any other package in the basic part"
      ],
      "metadata": {
        "id": "RzCR7vk9BFkf"
      }
    },
    {
      "cell_type": "code",
      "source": [
        "import numpy as np\n",
        "import matplotlib.pyplot as plt\n",
        "import pandas as pd\n",
        "import csv\n",
        "import math\n",
        "import random"
      ],
      "metadata": {
        "id": "HL5XjqFf4wSj"
      },
      "execution_count": 288,
      "outputs": []
    },
    {
      "cell_type": "markdown",
      "source": [
        "## Global attributes\n",
        "Define the global attributes"
      ],
      "metadata": {
        "id": "jnWjrzi0dMPz"
      }
    },
    {
      "cell_type": "code",
      "source": [
        "input_dataroot = 'hw1_basic_input.csv' # Input file named as 'hw1_basic_input.csv'\n",
        "output_dataroot = 'hw1_basic.csv' # Output file will be named as 'hw1_basic.csv'\n",
        "\n",
        "input_datalist =  [] # Initial datalist, saved as numpy array\n",
        "output_datalist =  [] # Your prediction, should be 10 * 4 matrix and saved as numpy array\n",
        "             # The format of each row should be ['epiweek', 'CityA', 'CityB', 'CityC']"
      ],
      "metadata": {
        "id": "EWLDPOlHBbcK"
      },
      "execution_count": 289,
      "outputs": []
    },
    {
      "cell_type": "markdown",
      "source": [
        "You can add your own global attributes here\n"
      ],
      "metadata": {
        "id": "PsFC-cvqIcYK"
      }
    },
    {
      "cell_type": "code",
      "source": [
        "input_a_temp=[] #vaild中a氣溫\n",
        "input_a_die=[] #valid中a感染者\n",
        "input_b_temp=[]\n",
        "input_b_die=[]\n",
        "input_c_temp=[]\n",
        "input_c_die=[]\n",
        "training=[] # 18條用於算mape\n",
        "valid=[] #用於找回歸線\n",
        "predict=[] #要預測的項目\n",
        "parametera=[] #a的參數\n",
        "parameterb=[]\n",
        "parameterc=[]\n",
        "# ya=[]\n",
        "# yb=[]\n",
        "# yc=[]\n",
        "pa=[] #a的函數\n",
        "pb=[]\n",
        "pc=[]\n",
        "\n",
        "training_predicted=[] \n",
        "training_a_die=[]\n",
        "training_b_die=[]\n",
        "training_c_die=[]\n",
        "training_a_temp=[]\n",
        "training_b_temp=[]\n",
        "training_c_temp=[]\n"
      ],
      "metadata": {
        "id": "OUbS2BEgcut6"
      },
      "execution_count": 290,
      "outputs": []
    },
    {
      "cell_type": "markdown",
      "source": [
        "## Load the Input File\n",
        "First, load the basic input file **hw1_basic_input.csv**\n",
        "\n",
        "Input data would be stored in *input_datalist*"
      ],
      "metadata": {
        "id": "rUoRFoQjBW5S"
      }
    },
    {
      "cell_type": "code",
      "source": [
        "# Read input csv to datalist\n",
        "with open(input_dataroot, newline='') as csvfile:\n",
        "  input_datalist = np.array(list(csv.reader(csvfile)))\n",
        "  \n",
        "  #print(input_datalist[100])\n"
      ],
      "metadata": {
        "id": "dekR1KnqBtI6"
      },
      "execution_count": 291,
      "outputs": []
    },
    {
      "cell_type": "markdown",
      "source": [
        "## Implement the Regression Model\n",
        "\n",
        "> Note: It is recommended to use the functions we defined, you can also define your own functions\n"
      ],
      "metadata": {
        "id": "6kYPuikLCFx4"
      }
    },
    {
      "cell_type": "markdown",
      "source": [
        "### Step 1: Split Data\n",
        "Split data in *input_datalist* into training dataset and validation dataset \n",
        "\n"
      ],
      "metadata": {
        "id": "jWwdx06JNEYs"
      }
    },
    {
      "cell_type": "code",
      "source": [
        "def SplitData():\n",
        "  tmp=np.split(input_datalist,[77,95])[1] #18條test\n",
        "  global training \n",
        "  global valid\n",
        "  global predict\n",
        "  training = tmp\n",
        "  tmp=np.split(input_datalist,[77,95])[0]\n",
        "  valid=tmp\n",
        "  predict=np.split(input_datalist,[77,95])[2]\n",
        "  \n",
        "\n",
        "\n",
        "\n",
        "\n",
        "  \n"
      ],
      "metadata": {
        "id": "USDciENcB-5F"
      },
      "execution_count": 292,
      "outputs": []
    },
    {
      "cell_type": "markdown",
      "source": [
        "### Step 2: Preprocess Data\n",
        "Handle the unreasonable data\n",
        "> Hint: Outlier and missing data can be handled by removing the data or adding the values with the help of statistics  "
      ],
      "metadata": {
        "id": "u-3Qln4aNgVy"
      }
    },
    {
      "cell_type": "code",
      "source": [
        "def PreprocessData():\n",
        "  for i in input_datalist[1:]:\n",
        "    i=np.delete(i,0)\n",
        "    if float(i[3])==0:\n",
        "      continue\n",
        "    if i[0]!=\"\": #miss 不進入 input-a\n",
        "     if float(i[0])<=31 and float(i[0])>=20: # too big temperatureA 不進入 input-a,too many die也不進入\n",
        "      input_a_temp.append(float(i[0]))\n",
        "      if float(i[3])>=30:\n",
        "        if float(i[3])>=80:\n",
        "          input_a_die.append(30+(float(i[3])-30)*0.1)\n",
        "        else:\n",
        "          input_a_die.append(30+(float(i[3])-30)*0.3)\n",
        "      else:\n",
        "        input_a_die.append(float(i[3]))\n",
        "      \n",
        "    if i[1]!=\"\": #miss temperatureb 不進入 input-b\n",
        "     if float(i[1])<=35 and float(i[1])>=10:\n",
        "      input_b_temp.append(float(i[1]))\n",
        "      if float(i[4])>=30: #比平均值的1.5倍還大\n",
        "        if float(i[4])>=55:\n",
        "          input_b_die.append(25)\n",
        "        else:\n",
        "          input_b_die.append(30+(float(i[4])-30)*0.4)\n",
        "      else:\n",
        "        input_b_die.append(float(i[4]))\n",
        "    if i[2]!=\"\": #miss temperaturec 不進入 input-c\n",
        "     if float(i[2])<=35 and float(i[2])>=11:\n",
        "      input_c_temp.append(float(i[2]))\n",
        "      if float(i[5])<=33:\n",
        "        input_c_die.append(33)\n",
        "      elif float(i[5])>=70:\n",
        "        input_c_die.append(70+(float(i[5])-70))\n",
        "      else:\n",
        "        input_c_die.append(float(i[5]))\n",
        "  for i in training:\n",
        "     i=np.delete(i,0)\n",
        "     if i[0]==\"\":\n",
        "       continue\n",
        "     if float(i[0])<=31:\n",
        "      training_a_temp.append(float(i[0]))\n",
        "      training_a_die.append(float(i[3]))\n",
        "     if float(i[1])<=35 and float(i[1])>=10:\n",
        "      training_b_temp.append(float(i[1]))\n",
        "      training_b_die.append(float(i[4]))\n",
        "     if float(i[2])<=35 and float(i[2])>=11:\n",
        "      training_c_temp.append(float(i[2]))\n",
        "      training_c_die.append(float(i[5]))\n",
        "\n"
      ],
      "metadata": {
        "id": "XXvW1n_5NkQ5"
      },
      "execution_count": 293,
      "outputs": []
    },
    {
      "cell_type": "markdown",
      "source": [
        "### Step 3: Implement Regression\n",
        "> Hint: You can use Matrix Inversion, or Gradient Descent to finish this part\n",
        "\n",
        "\n"
      ],
      "metadata": {
        "id": "yDLpJmQUN3V6"
      }
    },
    {
      "cell_type": "code",
      "source": [
        "def Regression():\n",
        "  global parametera\n",
        "  global parameterb\n",
        "  global parameterc\n",
        "  # global ya\n",
        "  # global yb\n",
        "  # global yc\n",
        "  global pa\n",
        "  global pb\n",
        "  global pc\n",
        "  global input_a_temp\n",
        "  global input_b_temp\n",
        "  global input_c_temp\n",
        "  parametera = np.polyfit(input_a_temp, input_a_die, 3)\n",
        "  print(parametera)\n",
        "  input_a_temp=np.array(input_a_temp)\n",
        "  pa=np.poly1d(parametera)\n",
        "  # ya= parametera[0] * input_a_temp ** 3 + parametera[1] * input_a_temp ** 2 + parametera[2] * input_a_temp + parametera[3]\n",
        "\n",
        "  parameterb = np.polyfit(input_b_temp, input_b_die, 3)\n",
        "  print(parameterb)\n",
        "  input_b_temp=np.array(input_b_temp)\n",
        "  pb=np.poly1d(parameterb)\n",
        "  # yb= parameterb[0] * input_b_temp ** 3 + parameterb[1] * input_b_temp ** 2 + parameterb[2] * input_b_temp + parameterb[3]\n",
        "\n",
        "  parameterc = np.polyfit(input_c_temp, input_c_die, 3)\n",
        "  print(parameterc)\n",
        "  input_c_temp=np.array(input_c_temp)\n",
        "  pc=np.poly1d(parameterc)\n",
        "  # yc= parameterc[0] * input_c_temp ** 3 + parameterc[1] * input_c_temp ** 2 + parameterc[2] * input_c_temp + parameterc[3]\n"
      ],
      "metadata": {
        "id": "Tx9n1_23N8C0"
      },
      "execution_count": 294,
      "outputs": []
    },
    {
      "cell_type": "markdown",
      "source": [
        "### Step 4: Make Prediction\n",
        "Make prediction of testing dataset and store the value in *output_datalist*"
      ],
      "metadata": {
        "id": "2NxRNFwyN8xd"
      }
    },
    {
      "cell_type": "code",
      "source": [
        "def MakePrediction():\n",
        "  global output_datalist\n",
        "\n",
        "  tmp=[]\n",
        "  for i in predict:\n",
        "    adie=parametera[0] * float(i[1]) ** 3 + parametera[1] * float(i[1]) ** 2 + parametera[2] * float(i[1]) + parametera[3]\n",
        "    bdie=parameterb[0] * float(i[2]) ** 3 + parameterb[1] * float(i[2]) ** 2 + parameterb[2] * float(i[2]) + parameterb[3]\n",
        "    cdie=parameterc[0] * float(i[3]) ** 3 + parameterc[1] * float(i[3]) ** 2 + parameterc[2] * float(i[3]) + parameterc[3]\n",
        "    tmp.append([i[0],adie,bdie,cdie])\n",
        "  output_datalist=tmp\n",
        "  output_datalist=np.array(output_datalist)\n",
        "  \n",
        "  \n",
        "  "
      ],
      "metadata": {
        "id": "EKlDIC2-N_lk"
      },
      "execution_count": 295,
      "outputs": []
    },
    {
      "cell_type": "code",
      "source": [
        "input_a_temp=[]\n",
        "input_a_die=[]\n",
        "input_b_temp=[]\n",
        "input_b_die=[]\n",
        "input_c_temp=[]\n",
        "input_c_die=[]\n",
        "input_a_changed_temp=[]\n",
        "input_b_changed_temp=[]\n",
        "input_c_changed_temp=[]\n",
        "SplitData()\n",
        "PreprocessData()\n",
        "Regression()\n",
        "MakePrediction()\n",
        "plt.scatter(input_a_temp,input_a_die)\n",
        "print(input_a_die)\n",
        "plt.plot(input_a_temp,pa(input_a_temp))\n",
        "plt.show()\n",
        "\n",
        "plt.scatter(input_b_temp,input_b_die)\n",
        "plt.plot(input_b_temp,pb(input_b_temp))\n",
        "plt.show()\n",
        "\n",
        "plt.scatter(input_c_temp,input_c_die)\n",
        "plt.plot(input_c_temp,pc(input_c_temp))\n",
        "plt.show()"
      ],
      "metadata": {
        "colab": {
          "base_uri": "https://localhost:8080/",
          "height": 853
        },
        "id": "m2kdLkUGC83L",
        "outputId": "3e6a4af0-c2b4-49d0-fd7a-f4afc359ab0c"
      },
      "execution_count": 296,
      "outputs": [
        {
          "output_type": "stream",
          "name": "stdout",
          "text": [
            "[ 3.69835047e-03 -3.23233401e-01  8.49399852e+00 -3.35598548e+01]\n",
            "[-2.30236658e-02  1.56751730e+00 -3.55032622e+01  2.93958046e+02]\n",
            "[-4.88072605e-03  6.01564035e-01 -2.38292241e+01  3.38638260e+02]\n",
            "[41.7, 46.8, 45.0, 43.2, 39.7, 36.9, 36.4, 41.1, 44.4, 42.0, 36.0, 35.4, 35.3, 39.0, 39.6, 39.6, 34.5, 37.5, 39.3, 36.0, 34.2, 34.2, 32.4, 34.2, 34.2, 34.8, 32.7, 34.2, 35.7, 33.0, 34.8, 32.1, 35.4, 38.7, 35.7, 40.8, 33.9, 36.9, 33.3, 32.1, 36.6, 30.3, 30.3, 22.0, 30.3, 31.5, 31.2, 26.0, 33.3, 34.2, 23.0, 26.0, 27.0, 30.6, 29.0, 34.2, 32.1, 33.9, 36.3, 35.4, 38.7, 37.5, 39.3, 38.1, 33.0, 36.3, 30.9, 29.0, 32.7, 29.0, 28.0, 30.3, 30.9, 23.0, 27.0, 27.0, 22.0, 25.0, 25.0]\n"
          ]
        },
        {
          "output_type": "display_data",
          "data": {
            "text/plain": [
              "<Figure size 432x288 with 1 Axes>"
            ],
            "image/png": "[encoded data removed]"
          },
          "metadata": {
            "needs_background": "light"
          }
        },
        {
          "output_type": "display_data",
          "data": {
            "text/plain": [
              "<Figure size 432x288 with 1 Axes>"
            ],
            "image/png": "[encoded data removed]"
          },
          "metadata": {
            "needs_background": "light"
          }
        },
        {
          "output_type": "display_data",
          "data": {
            "text/plain": [
              "<Figure size 432x288 with 1 Axes>"
            ],
            "image/png": "[encoded data removed]"
          },
          "metadata": {
            "needs_background": "light"
          }
        }
      ]
    },
    {
      "cell_type": "markdown",
      "source": [
        "### Step 5: Train Model and Generate Result\n",
        "\n",
        "> Notice: **Remember to output the coefficients of the model here**, otherwise 5 points would be deducted\n",
        "* If your regression model is *3x^2 + 2x^1 + 1*, your output would be: \n",
        "```\n",
        "3 2 1\n",
        "```\n",
        "\n",
        "\n",
        "\n"
      ],
      "metadata": {
        "id": "cCd0Z6izOCwq"
      }
    },
    {
      "cell_type": "code",
      "source": [
        "#use training to calculate mape\n",
        "training_predicted_a=[]\n",
        "training_predicted_b=[]\n",
        "training_predicted_c=[]\n",
        "\n",
        "training_predicted_a=pa(training_a_temp)#np.array(training_predicted_a)\n",
        "training_a_die=np.array(training_a_die)\n",
        "training_predicted_b=pb(training_b_temp)#np.array(training_predicted_b)\n",
        "training_b_die=np.array(training_b_die)\n",
        "training_predicted_c=pc(training_c_temp)\n",
        "training_c_die=np.array(training_c_die)\n",
        "# print(training_a_die)\n",
        "# print(training_predicted_a)\n",
        "# print(training_b_die)\n",
        "# print(training_predicted_b)\n",
        "# print(training_c_die)\n",
        "# print(training_predicted_c)\n",
        "\n",
        "MAPEA = np.mean(np.abs((training_a_die - training_predicted_a) / training_a_die))*100\n",
        "MAPEB = np.mean(np.abs((training_b_die - training_predicted_b) / training_b_die))*100\n",
        "MAPEC = np.mean(np.abs((training_c_die - training_predicted_c) / training_c_die))*100\n",
        "print(\"MAPE: \",MAPEA, MAPEB, MAPEC)\n",
        "\n",
        "\n",
        "# print coefficients\n",
        "print(\"CityA coefficients:\", \" \".join(str(e) for e in parametera))\n",
        "print(\"CityB coefficients:\", \" \".join(str(e) for e in parameterb))\n",
        "print(\"CityC coefficients:\", \" \".join(str(e) for e in parameterc))"
      ],
      "metadata": {
        "id": "iCL92EPKOFIn",
        "colab": {
          "base_uri": "https://localhost:8080/"
        },
        "outputId": "c021c8ef-7946-4024-bce0-737ee93cdb43"
      },
      "execution_count": 297,
      "outputs": [
        {
          "output_type": "stream",
          "name": "stdout",
          "text": [
            "MAPE:  24.098647707122637 23.004751672480833 15.979464037728624\n",
            "CityA coefficients: 0.00369835047041998 -0.32323340101496073 8.493998520310907 -33.55985475877942\n",
            "CityB coefficients: -0.023023665785969955 1.5675173035425307 -35.5032621518857 293.95804601589975\n",
            "CityC coefficients: -0.004880726052077095 0.6015640345002139 -23.829224082517733 338.6382602729823\n"
          ]
        }
      ]
    },
    {
      "cell_type": "markdown",
      "source": [
        "## Write the Output File\n",
        "Write the prediction to output csv\n",
        "> Format: 'epiweek', 'CityA', 'CityB', 'CityC'"
      ],
      "metadata": {
        "id": "J8Jhd8wAOk3D"
      }
    },
    {
      "cell_type": "code",
      "source": [
        "with open(output_dataroot, 'w', newline='', encoding=\"utf-8\") as csvfile:\n",
        "  writer = csv.writer(csvfile)\n",
        "  for row in output_datalist:\n",
        "    writer.writerow(row)"
      ],
      "metadata": {
        "id": "tYQVYLlKOtDB"
      },
      "execution_count": 298,
      "outputs": []
    },
    {
      "cell_type": "markdown",
      "source": [
        "# 2. Advanced Part (35%)\n",
        "In the second part, you need to implement the regression in a different way than the basic part to help your predictions for the number of dengue cases\n",
        "\n",
        "We provide you with two files **hw1_advanced_input1.csv** and **hw1_advanced_input2.csv** that can help you in this part\n",
        "\n",
        "Please save the prediction result in a csv file **hw1_advanced.csv** \n"
      ],
      "metadata": {
        "id": "rx4408qg4xMQ"
      }
    },
    {
      "cell_type": "code",
      "source": [
        "from sklearn.linear_model import LinearRegression\n",
        "precipA=[]\n",
        "precipB=[]\n",
        "precipC=[]\n",
        "input_advanced1=[]\n",
        "input_advanced2=[]\n",
        "household_without_water=[]\n",
        "house_per_km2=[]\n",
        "new_a_predicted=[]\n",
        "predict_precip=[]\n",
        "output_datalist_adv=[]\n",
        "##\n",
        "with open(\"hw1_advanced_input1.csv\", newline='') as csvfile:\n",
        "  input_advanced1 = np.array(list(csv.reader(csvfile)))\n",
        "with open(\"hw1_advanced_input2.csv\", newline='') as csvfile:\n",
        "  input_advanced2 = np.array(list(csv.reader(csvfile)))\n",
        "for i in input_advanced1[1:]:\n",
        "  precipA.append(float(i[1]))\n",
        "  precipB.append(float(i[2]))\n",
        "  precipC.append(float(i[3]))\n",
        "for i in input_advanced2[1:]:\n",
        "  household_without_water.append(float(i[15]))\n",
        "  house_per_km2.append(float(i[24]))\n",
        "\n",
        "for i in input_advanced1[95:]:\n",
        "  predict_precip.append(i)\n",
        "\n",
        "tmp=[]\n",
        "x=0\n",
        "for i in input_datalist[1:]:\n",
        "  if i[1]!=\"\" and float(i[1])<=31 and float(i[1])>=20:\n",
        "    tmp.append(precipA[x])\n",
        "    x=x+1\n",
        "  else:\n",
        "    x=x+1\n",
        "predict_a_temp=[]\n",
        "for i in predict:\n",
        "  predict_a_temp.append(float(i[1]))\n",
        "\n",
        "aaa=np.append(pa(input_a_temp),pa(predict_a_temp))\n",
        "new_parametera=np.polyfit(tmp, aaa, 4)\n",
        "print(\"CityA coefficients:\", \" \".join(str(e) for e in new_parametera))\n",
        "tmp=[]\n",
        "x=0\n",
        "for i in input_datalist[1:]:\n",
        "  if i[2]!=\"\" and float(i[2])<=35 and float(i[2])>=10:\n",
        "    tmp.append(precipB[x])\n",
        "    x=x+1\n",
        "  else:\n",
        "    x=x+1\n",
        "predict_b_temp=[]\n",
        "for i in predict:\n",
        "  predict_b_temp.append(float(i[2]))\n",
        "\n",
        "bbb=np.append(pb(input_b_temp),pb(predict_b_temp))\n",
        "new_parameterb=np.polyfit(tmp, bbb, 4)\n",
        "print(\"CityB coefficients:\", \" \".join(str(e) for e in new_parameterb))\n",
        "tmp=[]\n",
        "x=0\n",
        "for i in input_datalist[1:]:\n",
        "  if i[3]!=\"\" and float(i[3])<=35 and float(i[3])>=11:\n",
        "    tmp.append(precipC[x])\n",
        "    x=x+1\n",
        "  else:\n",
        "    x=x+1\n",
        "predict_c_temp=[]\n",
        "for i in predict:\n",
        "  predict_c_temp.append(float(i[3]))\n",
        "\n",
        "ccc=np.append(pc(input_c_temp),pc(predict_c_temp))\n",
        "new_parameterc=np.polyfit(tmp, ccc, 4)\n",
        "print(\"CityC coefficients:\", \" \".join(str(e) for e in new_parameterc))"
      ],
      "metadata": {
        "id": "DaZCe19m41g1",
        "colab": {
          "base_uri": "https://localhost:8080/"
        },
        "outputId": "290b8f85-983e-422a-ee91-b46fcaf31566"
      },
      "execution_count": 299,
      "outputs": [
        {
          "output_type": "stream",
          "name": "stdout",
          "text": [
            "CityA coefficients: -0.0007248618454152373 0.021562622559012683 -0.21262180140646028 0.7301291148290514 33.39943693108586\n",
            "CityB coefficients: -0.0012214393807876136 0.030943253516025584 -0.24277837818744122 0.6381595300518955 26.282837479451466\n",
            "CityC coefficients: 0.0006685160099459192 -0.031016580118410395 0.4682839283859501 -2.3436147826491154 39.456629370580465\n"
          ]
        }
      ]
    },
    {
      "cell_type": "code",
      "source": [
        "def NewMakePrediction():\n",
        "  global output_datalist_adv\n",
        "\n",
        "  tmp=[]\n",
        "  for i in predict_precip:\n",
        "    adie=new_parametera[0] * float(i[1]) ** 4 + new_parametera[1] * float(i[1]) ** 3 + new_parametera[2] * float(i[1])**2 + new_parametera[3]* float(i[1])+new_parametera[4]\n",
        "    bdie=new_parameterb[0] * float(i[2]) ** 4 + new_parameterb[1] * float(i[2]) ** 3 + new_parameterb[2] * float(i[2])**2 + new_parameterb[3]* float(i[2])+new_parameterb[4]\n",
        "    cdie=new_parameterc[0] * float(i[3]) ** 4 + new_parameterc[1] * float(i[3]) ** 3 + new_parameterc[2] * float(i[3])**2 + new_parameterc[3]* float(i[3])+new_parameterc[4]\n",
        "    tmp.append([i[0],adie,bdie,cdie])\n",
        "  output_datalist_adv=tmp\n",
        "  output_datalist_adv=np.array(output_datalist_adv)\n",
        "  "
      ],
      "metadata": {
        "id": "vE4VjNWFQ3M8"
      },
      "execution_count": 300,
      "outputs": []
    },
    {
      "cell_type": "code",
      "source": [
        "NewMakePrediction()\n",
        "print(output_datalist_adv)"
      ],
      "metadata": {
        "colab": {
          "base_uri": "https://localhost:8080/"
        },
        "id": "DgrTkKOEQ-pI",
        "outputId": "421366c1-99f2-4833-991e-ad022d2d380f"
      },
      "execution_count": 301,
      "outputs": [
        {
          "output_type": "stream",
          "name": "stdout",
          "text": [
            "[['202143' '33.95923824383508' '26.481132617541473' '38.97888929028875']\n",
            " ['202144' '33.701163106559605' '26.493508695077743' '39.01812807149358']\n",
            " ['202145' '34.12550502447014' '26.541959096848274' '38.91950504579813']\n",
            " ['202146' '33.75797914908128' '26.594204028646555' '35.80394028468765']\n",
            " ['202147' '33.862171391566335' '26.84425143527051' '35.798429537829705']\n",
            " ['202148' '33.771191678951396' '27.007268374173375' '38.28567766968498']\n",
            " ['202149' '34.114848989930735' '26.695516648660256' '38.455386729566925']\n",
            " ['202150' '34.08470797455105' '26.80139600130045' '35.75617451417153']\n",
            " ['202151' '34.18086773454601' '26.71501600178671' '37.239572726404084']\n",
            " ['202152' '33.99380312381638' '26.39553413869261' '38.01779350914807']]\n"
          ]
        }
      ]
    },
    {
      "cell_type": "code",
      "source": [
        "training_predicted_a_adv=[]\n",
        "training_predicted_b_adv=[]\n",
        "training_predicted_c_adv=[]\n",
        "precipA_train=[]\n",
        "precipB_train=[]\n",
        "precipC_train=[]\n",
        "\n",
        "paa=np.poly1d(new_parametera)\n",
        "pbb=np.poly1d(new_parameterb)\n",
        "pcc=np.poly1d(new_parameterc)\n",
        "for i in input_advanced1[77:95]:\n",
        "  if i[0]!=\"202131\" and i[0]!= \"202132\":\n",
        "    precipA_train.append(float(i[1]))\n",
        "  if i[0]!=\"202131\":\n",
        "    precipB_train.append(float(i[2]))\n",
        "  if i[0]!=\"202131\" and i[0]!= \"202130\":\n",
        "    precipC_train.append(float(i[3]))\n",
        "\n",
        "training_predicted_a_adv=paa(precipA_train)#np.array(training_predicted_a)\n",
        "print(len(training_predicted_a_adv))\n",
        "training_predicted_b_adv=pbb(precipB_train)#np.array(training_predicted_b)\n",
        "\n",
        "training_predicted_c_adv=pcc(precipC_train)\n",
        "\n",
        "print(training_a_die)\n",
        "print(training_predicted_a_adv)\n",
        "print(training_b_die)\n",
        "print(training_predicted_b_adv)\n",
        "print(training_c_die)\n",
        "print(training_predicted_c_adv)\n",
        "\n",
        "MAPEA = np.mean(np.abs((training_a_die - training_predicted_a_adv) / training_a_die))*100\n",
        "MAPEB = np.mean(np.abs((training_b_die - training_predicted_b_adv) / training_b_die))*100\n",
        "MAPEC = np.mean(np.abs((training_c_die - training_predicted_c_adv) / training_c_die))*100\n",
        "print(\"MAPE: \",MAPEA, MAPEB, MAPEC)\n"
      ],
      "metadata": {
        "colab": {
          "base_uri": "https://localhost:8080/"
        },
        "id": "8J46S7L9ZTLB",
        "outputId": "7735c810-33e0-494a-eb9c-5514b0f180eb"
      },
      "execution_count": 302,
      "outputs": [
        {
          "output_type": "stream",
          "name": "stdout",
          "text": [
            "16\n",
            "[57. 40. 51. 33. 29. 39. 29. 28. 31. 33. 23. 27. 27. 22. 25. 25.]\n",
            "[33.86673712 34.1112314  34.03176049 33.65310981 33.84954281 33.9279114\n",
            " 33.87929119 33.78030616 33.39943693 34.1928639  34.12781178 33.78030616\n",
            " 34.201644   34.00935343 34.12434358 34.02202476]\n",
            "[23. 23. 27. 35. 22. 19. 22. 18. 25. 27. 25. 12. 22. 22. 27. 23. 24.]\n",
            "[26.79291405 26.49624686 26.5639598  26.73458604 26.67676476 26.52513784\n",
            " 26.8090756  26.48575768 26.73044829 26.4722568  26.87116877 26.47210554\n",
            " 26.52796919 26.65829611 26.90748936 27.2302745  26.49067493]\n",
            "[68. 54. 57. 59. 45. 66. 56. 44. 40. 39. 50. 35. 33. 31. 35. 41.]\n",
            "[39.45662937 45.68896566 38.15346446 38.66876485 37.53563508 38.32885579\n",
            " 39.08104677 39.06055107 37.70797813 37.79492897 38.16308973 36.59690875\n",
            " 39.06361862 41.44799726 38.96603011 37.72439693]\n",
            "MAPE:  24.778054612079263 23.212919098089124 20.83106652704953\n"
          ]
        }
      ]
    },
    {
      "cell_type": "code",
      "source": [
        "with open(\"hw1_advanced.csv\", 'w', newline='', encoding=\"utf-8\") as csvfile:\n",
        "  writer = csv.writer(csvfile)\n",
        "  for row in output_datalist_adv:\n",
        "    writer.writerow(row)"
      ],
      "metadata": {
        "id": "8aiMoFpkjHz9"
      },
      "execution_count": 303,
      "outputs": []
    },
    {
      "cell_type": "markdown",
      "source": [
        "# Report *(5%)*\n",
        "\n",
        "Report should be submitted as a pdf file **hw1_report.pdf**\n",
        "\n",
        "*   Briefly describe the difficulty you encountered \n",
        "*   Summarize your work and your reflections \n",
        "*   No more than one page\n",
        "\n",
        "\n",
        "\n",
        "\n"
      ],
      "metadata": {
        "id": "EtgCJU7FPeJL"
      }
    },
    {
      "cell_type": "markdown",
      "source": [
        "# Save the Code File\n",
        "Please save your code and submit it as an ipynb file! (**hw1.ipynb**)"
      ],
      "metadata": {
        "id": "hlEE53_MPf4W"
      }
    }
  ]
}